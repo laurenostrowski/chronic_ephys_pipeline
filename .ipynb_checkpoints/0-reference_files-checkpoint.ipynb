{
 "cells": [
  {
   "cell_type": "markdown",
   "id": "ecc6ad74-84ac-446d-b564-fe2f7e2fa560",
   "metadata": {},
   "source": [
    "## Create reference files for chronic ephys\n",
    "\n",
    "Run this notebook before the rest of the chronic ephys processing pipeline to create `rig_dict` for every recording session\n",
    "\n",
    "Use the environment **songproc** to run this notebook"
   ]
  },
  {
   "cell_type": "code",
   "execution_count": 1,
   "id": "ecd1bc70-88ed-447f-a19f-7f4f3d9530d6",
   "metadata": {},
   "outputs": [],
   "source": [
    "## Standard path to rig.json file\n",
    "import sys\n",
    "sys.path.append('/mnt/cube/lo/envs/ceciestunepipe')\n",
    "from ceciestunepipe.file import bcistructure as et\n",
    "\n",
    "sess_par = {\n",
    "    'bird': 'z_c7r3_24',\n",
    "    'sess': '2024-10-27'\n",
    "}\n",
    "\n",
    "rig_dict_path = et.get_exp_struct(sess_par['bird'],sess_par['sess'])['files']['rig']"
   ]
  },
  {
   "cell_type": "code",
   "execution_count": 2,
   "id": "c130bc8c-eb91-4e28-99b5-29ac6269e435",
   "metadata": {},
   "outputs": [],
   "source": [
    "## Create json for a recording session\n",
    "rig_dict = {\n",
    "    'chan': {\n",
    "        'ttl': {\n",
    "            'sync': 'DIN-00',\n",
    "            'wav_ttl': 'DIN-02'\n",
    "        },\n",
    "        'adc': {\n",
    "            'microphone_M': 'adc-00',\n",
    "            'microphone_F': 'adc-05',\n",
    "            'wav_stim': 'adc-01',\n",
    "            'wav_syn': 'adc-02',\n",
    "            'opto_stim': 'adc-06'\n",
    "        },\n",
    "        'port': {\n",
    "            'probe_0': 'A-'\n",
    "        }\n",
    "    },\n",
    "    'probe': {\n",
    "        'probe_0': { # will always be probe_0 unless multiple recordings from different probes on the same day\n",
    "            'model': 'NP2013',\n",
    "            'serial': '22420015061', # update every time\n",
    "            'headstage': '23280347'\n",
    "        }\n",
    "    }\n",
    "}"
   ]
  },
  {
   "cell_type": "code",
   "execution_count": 3,
   "id": "8a27aec7-32d6-4523-912f-c0eaaebed071",
   "metadata": {},
   "outputs": [],
   "source": [
    "## Save rig.json\n",
    "import json\n",
    "with open(rig_dict_path, 'w') as fp:\n",
    "    json.dump(rig_dict, fp)"
   ]
  },
  {
   "cell_type": "code",
   "execution_count": null,
   "id": "3572be77-3f9a-4f40-886c-4c9f72d4c9fb",
   "metadata": {},
   "outputs": [],
   "source": []
  }
 ],
 "metadata": {
  "kernelspec": {
   "display_name": "songproc",
   "language": "python",
   "name": "songproc"
  },
  "language_info": {
   "codemirror_mode": {
    "name": "ipython",
    "version": 3
   },
   "file_extension": ".py",
   "mimetype": "text/x-python",
   "name": "python",
   "nbconvert_exporter": "python",
   "pygments_lexer": "ipython3",
   "version": "3.8.16"
  }
 },
 "nbformat": 4,
 "nbformat_minor": 5
}
