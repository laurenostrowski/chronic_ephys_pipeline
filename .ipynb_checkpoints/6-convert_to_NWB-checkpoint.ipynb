{
 "cells": [
  {
   "cell_type": "markdown",
   "id": "41254766-7844-485b-ae7b-f5953d62a1da",
   "metadata": {},
   "source": [
    "# Convert to NWB format\n",
    "\n",
    "Optional notebook within the chronic ephys processing pipeline\n",
    "- 1-preprocess_acoustics\n",
    "- 2-curate_acoustics\n",
    "- 3-sort_spikes\n",
    "- 4-curate_spikes\n",
    "- 5-cluster_acoustics\n",
    "- **6-convert_to_NWB**\n",
    "\n",
    "Use the environment **songproc** to run this notebook"
   ]
  },
  {
   "cell_type": "code",
   "execution_count": null,
   "id": "295d3eaa",
   "metadata": {},
   "outputs": [],
   "source": []
  }
 ],
 "metadata": {
  "kernelspec": {
   "display_name": "songproc",
   "language": "python",
   "name": "songproc"
  },
  "language_info": {
   "codemirror_mode": {
    "name": "ipython",
    "version": 3
   },
   "file_extension": ".py",
   "mimetype": "text/x-python",
   "name": "python",
   "nbconvert_exporter": "python",
   "pygments_lexer": "ipython3",
   "version": "3.8.16"
  }
 },
 "nbformat": 4,
 "nbformat_minor": 5
}
