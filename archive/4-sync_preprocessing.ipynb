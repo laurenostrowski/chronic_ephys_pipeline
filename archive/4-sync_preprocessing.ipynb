{
 "cells": [
  {
   "cell_type": "code",
   "execution_count": 3,
   "metadata": {
    "scrolled": true
   },
   "outputs": [
    {
     "name": "stdout",
     "output_type": "stream",
     "text": [
      "h5py version > 2.10.0. Some extractors might not work properly. It is recommended to downgrade to version 2.10.0: \n",
      ">>> pip install h5py==2.10.0\n"
     ]
    },
    {
     "name": "stderr",
     "output_type": "stream",
     "text": [
      "2023-09-05 12:25:43,905 root         INFO     Running on pakhi.ucsd.edu\n"
     ]
    }
   ],
   "source": [
    "import numpy as np\n",
    "import pandas as pd\n",
    "import os\n",
    "import pickle\n",
    "from scipy.io import wavfile\n",
    "import sys\n",
    "sys.path.append('/mnt/cube/tsmcpher/code/')\n",
    "from ceciestunepipe.file import bcistructure as et\n",
    "from ceciestunepipe.util import sglxutil as sglu\n",
    "from ceciestunepipe.util import sglxsync as sy\n",
    "from ceciestunepipe.util import stimutil as su\n",
    "from ceciestunepipe.util.spikeextractors.extractors.spikeglxrecordingextractor import spikeglxrecordingextractor as sglex\n",
    "from ceciestunepipe.pipeline import searchbout as sb\n",
    "from ceciestunepipe.tsm import preproc_sglx\n",
    "from ceciestunepipe.util import oeutil as oeu\n",
    "from ceciestunepipe.tsm import preproc_oe\n",
    "import logging\n",
    "logger = logging.getLogger()\n",
    "handler = logging.StreamHandler()\n",
    "formatter = logging.Formatter(\n",
    "        '%(asctime)s %(name)-12s %(levelname)-8s %(message)s')\n",
    "handler.setFormatter(formatter)\n",
    "logger.addHandler(handler)\n",
    "logger.setLevel(logging.INFO)"
   ]
  },
  {
   "cell_type": "code",
   "execution_count": 4,
   "metadata": {},
   "outputs": [],
   "source": [
    "force_redo = False ##### not implemented yet"
   ]
  },
  {
   "cell_type": "code",
   "execution_count": 5,
   "metadata": {},
   "outputs": [],
   "source": [
    "bird_rec_dict = {\n",
    "    's_b1555_22':[\n",
    "        {'sess_par_list':['2022-04-29'], # sessions with this configuration\n",
    "         'stim_sess':[], # if stimuli are played, only sglx\n",
    "         'sort':0, # label for this sort instance\n",
    "         'software':'sglx' # sglx or oe\n",
    "        },\n",
    "        {'sess_par_list':['2022-08-17'], # sessions with this configuration\n",
    "         'stim_sess':[], # optional, only sglx\n",
    "         'sort':0, # label for this sort instance\n",
    "         'software':'oe' # sglx or oe\n",
    "        },],\n",
    "}"
   ]
  },
  {
   "cell_type": "code",
   "execution_count": 6,
   "metadata": {
    "scrolled": true
   },
   "outputs": [
    {
     "name": "stderr",
     "output_type": "stream",
     "text": [
      "2023-09-05 12:25:43,962 ceciestunepipe.file.bcistructure INFO     {'folders': {'bird': '/mnt/sphere/speech_bci/raw_data/s_b1555_22', 'raw': '/mnt/sphere/speech_bci/raw_data/s_b1555_22/2022-04-29', 'sglx': '/mnt/sphere/speech_bci/raw_data/s_b1555_22/2022-04-29/sglx', 'kwik': '/scratch/chronic_ephys/s_b1555_22/sglx/kwik/2022-04-29', 'processed': '/mnt/sphere/chronic_ephys/proc/s_b1555_22/2022-04-29/sglx', 'derived': '/mnt/sphere/chronic_ephys/der/s_b1555_22/2022-04-29/sglx', 'tmp': '/scratch/chronic_ephys/tmp', 'msort': '/scratch/chronic_ephys/s_b1555_22/sglx/msort/2022-04-29', 'ksort': '/scratch/chronic_ephys/s_b1555_22/sglx/ksort/2022-04-29/0', 'sort': '/mnt/sphere/chronic_ephys/der/s_b1555_22/2022-04-29/sglx/0'}, 'files': {'par': '/scratch/chronic_ephys/s_b1555_22/sglx/ksort/2022-04-29/0/params.json', 'set': '/mnt/sphere/speech_bci/raw_data/s_b1555_22/2022-04-29/sglx/settings.isf', 'rig': '/mnt/sphere/speech_bci/raw_data/s_b1555_22/2022-04-29/sglx/rig.json', 'kwd': '/scratch/chronic_ephys/s_b1555_22/sglx/kwik/2022-04-29/stream.kwd', 'kwik': '/scratch/chronic_ephys/s_b1555_22/sglx/kwik/2022-04-29/sort_0/spikes.kwik', 'kwe': '/scratch/chronic_ephys/s_b1555_22/sglx/kwik/2022-04-29/events.kwe', 'dat_mic': '/mnt/sphere/chronic_ephys/proc/s_b1555_22/2022-04-29/sglx/dat_mic.mat', 'dat_ap': '/mnt/sphere/chronic_ephys/proc/s_b1555_22/2022-04-29/sglx/dat_ap.mat', 'allevents': '/mnt/sphere/chronic_ephys/proc/s_b1555_22/2022-04-29/sglx/dat_all.pkl', 'wav_mic': '/mnt/sphere/chronic_ephys/der/s_b1555_22/2022-04-29/sglx/wav_mic.wav', 'mda_raw': '/scratch/chronic_ephys/s_b1555_22/sglx/msort/2022-04-29/raw.mda', 'bin_raw': '/scratch/chronic_ephys/s_b1555_22/sglx/ksort/2022-04-29/0/raw.bin'}}\n",
      "2023-09-05 12:25:43,962 ceciestunepipe.file.bcistructure INFO     {'folders': {'bird': '/mnt/sphere/speech_bci/raw_data/s_b1555_22', 'raw': '/mnt/sphere/speech_bci/raw_data/s_b1555_22/2022-04-29', 'sglx': '/mnt/sphere/speech_bci/raw_data/s_b1555_22/2022-04-29/sglx', 'kwik': '/scratch/chronic_ephys/s_b1555_22/sglx/kwik/2022-04-29', 'processed': '/mnt/sphere/chronic_ephys/proc/s_b1555_22/2022-04-29/sglx', 'derived': '/mnt/sphere/chronic_ephys/der/s_b1555_22/2022-04-29/sglx', 'tmp': '/scratch/chronic_ephys/tmp', 'msort': '/scratch/chronic_ephys/s_b1555_22/sglx/msort/2022-04-29', 'ksort': '/scratch/chronic_ephys/s_b1555_22/sglx/ksort/2022-04-29/0', 'sort': '/mnt/sphere/chronic_ephys/der/s_b1555_22/2022-04-29/sglx/0'}, 'files': {'par': '/scratch/chronic_ephys/s_b1555_22/sglx/ksort/2022-04-29/0/params.json', 'set': '/mnt/sphere/speech_bci/raw_data/s_b1555_22/2022-04-29/sglx/settings.isf', 'rig': '/mnt/sphere/speech_bci/raw_data/s_b1555_22/2022-04-29/sglx/rig.json', 'kwd': '/scratch/chronic_ephys/s_b1555_22/sglx/kwik/2022-04-29/stream.kwd', 'kwik': '/scratch/chronic_ephys/s_b1555_22/sglx/kwik/2022-04-29/sort_0/spikes.kwik', 'kwe': '/scratch/chronic_ephys/s_b1555_22/sglx/kwik/2022-04-29/events.kwe', 'dat_mic': '/mnt/sphere/chronic_ephys/proc/s_b1555_22/2022-04-29/sglx/dat_mic.mat', 'dat_ap': '/mnt/sphere/chronic_ephys/proc/s_b1555_22/2022-04-29/sglx/dat_ap.mat', 'allevents': '/mnt/sphere/chronic_ephys/proc/s_b1555_22/2022-04-29/sglx/dat_all.pkl', 'wav_mic': '/mnt/sphere/chronic_ephys/der/s_b1555_22/2022-04-29/sglx/wav_mic.wav', 'mda_raw': '/scratch/chronic_ephys/s_b1555_22/sglx/msort/2022-04-29/raw.mda', 'bin_raw': '/scratch/chronic_ephys/s_b1555_22/sglx/ksort/2022-04-29/0/raw.bin'}}\n",
      "2023-09-05 12:25:43,962 ceciestunepipe.file.bcistructure INFO     {'folders': {'bird': '/mnt/sphere/speech_bci/raw_data/s_b1555_22', 'raw': '/mnt/sphere/speech_bci/raw_data/s_b1555_22/2022-04-29', 'sglx': '/mnt/sphere/speech_bci/raw_data/s_b1555_22/2022-04-29/sglx', 'kwik': '/scratch/chronic_ephys/s_b1555_22/sglx/kwik/2022-04-29', 'processed': '/mnt/sphere/chronic_ephys/proc/s_b1555_22/2022-04-29/sglx', 'derived': '/mnt/sphere/chronic_ephys/der/s_b1555_22/2022-04-29/sglx', 'tmp': '/scratch/chronic_ephys/tmp', 'msort': '/scratch/chronic_ephys/s_b1555_22/sglx/msort/2022-04-29', 'ksort': '/scratch/chronic_ephys/s_b1555_22/sglx/ksort/2022-04-29/0', 'sort': '/mnt/sphere/chronic_ephys/der/s_b1555_22/2022-04-29/sglx/0'}, 'files': {'par': '/scratch/chronic_ephys/s_b1555_22/sglx/ksort/2022-04-29/0/params.json', 'set': '/mnt/sphere/speech_bci/raw_data/s_b1555_22/2022-04-29/sglx/settings.isf', 'rig': '/mnt/sphere/speech_bci/raw_data/s_b1555_22/2022-04-29/sglx/rig.json', 'kwd': '/scratch/chronic_ephys/s_b1555_22/sglx/kwik/2022-04-29/stream.kwd', 'kwik': '/scratch/chronic_ephys/s_b1555_22/sglx/kwik/2022-04-29/sort_0/spikes.kwik', 'kwe': '/scratch/chronic_ephys/s_b1555_22/sglx/kwik/2022-04-29/events.kwe', 'dat_mic': '/mnt/sphere/chronic_ephys/proc/s_b1555_22/2022-04-29/sglx/dat_mic.mat', 'dat_ap': '/mnt/sphere/chronic_ephys/proc/s_b1555_22/2022-04-29/sglx/dat_ap.mat', 'allevents': '/mnt/sphere/chronic_ephys/proc/s_b1555_22/2022-04-29/sglx/dat_all.pkl', 'wav_mic': '/mnt/sphere/chronic_ephys/der/s_b1555_22/2022-04-29/sglx/wav_mic.wav', 'mda_raw': '/scratch/chronic_ephys/s_b1555_22/sglx/msort/2022-04-29/raw.mda', 'bin_raw': '/scratch/chronic_ephys/s_b1555_22/sglx/ksort/2022-04-29/0/raw.bin'}}\n",
      "2023-09-05 12:25:44,041 ceciestunepipe.util.sglxsync INFO     getting syn patterns for nidq\n",
      "2023-09-05 12:25:44,041 ceciestunepipe.util.sglxsync INFO     getting syn patterns for nidq\n",
      "2023-09-05 12:25:44,041 ceciestunepipe.util.sglxsync INFO     getting syn patterns for nidq\n",
      "2023-09-05 12:25:44,077 ceciestunepipe.util.sglxsync INFO     loading syn_dict from /mnt/sphere/chronic_ephys/der/s_b1555_22/2022-04-29/sglx/0644_g0/nidq_sync_dict.pkl\n",
      "2023-09-05 12:25:44,077 ceciestunepipe.util.sglxsync INFO     loading syn_dict from /mnt/sphere/chronic_ephys/der/s_b1555_22/2022-04-29/sglx/0644_g0/nidq_sync_dict.pkl\n",
      "2023-09-05 12:25:44,077 ceciestunepipe.util.sglxsync INFO     loading syn_dict from /mnt/sphere/chronic_ephys/der/s_b1555_22/2022-04-29/sglx/0644_g0/nidq_sync_dict.pkl\n",
      "2023-09-05 12:25:44,103 ceciestunepipe.util.sglxsync INFO     getting syn patterns for lf_0\n",
      "2023-09-05 12:25:44,103 ceciestunepipe.util.sglxsync INFO     getting syn patterns for lf_0\n",
      "2023-09-05 12:25:44,103 ceciestunepipe.util.sglxsync INFO     getting syn patterns for lf_0\n",
      "2023-09-05 12:25:44,106 ceciestunepipe.util.sglxsync INFO     loading syn_dict from /mnt/sphere/chronic_ephys/der/s_b1555_22/2022-04-29/sglx/0644_g0/lf_0_sync_dict.pkl\n",
      "2023-09-05 12:25:44,106 ceciestunepipe.util.sglxsync INFO     loading syn_dict from /mnt/sphere/chronic_ephys/der/s_b1555_22/2022-04-29/sglx/0644_g0/lf_0_sync_dict.pkl\n",
      "2023-09-05 12:25:44,106 ceciestunepipe.util.sglxsync INFO     loading syn_dict from /mnt/sphere/chronic_ephys/der/s_b1555_22/2022-04-29/sglx/0644_g0/lf_0_sync_dict.pkl\n",
      "2023-09-05 12:25:44,113 ceciestunepipe.util.sglxsync INFO     getting syn patterns for ap_0\n",
      "2023-09-05 12:25:44,113 ceciestunepipe.util.sglxsync INFO     getting syn patterns for ap_0\n",
      "2023-09-05 12:25:44,113 ceciestunepipe.util.sglxsync INFO     getting syn patterns for ap_0\n",
      "2023-09-05 12:25:44,114 ceciestunepipe.util.sglxsync INFO     File /mnt/sphere/chronic_ephys/der/s_b1555_22/2022-04-29/sglx/0644_g0/ap_0_sync_dict.pkl not found or forced computation, getting the events\n",
      "2023-09-05 12:25:44,114 ceciestunepipe.util.sglxsync INFO     File /mnt/sphere/chronic_ephys/der/s_b1555_22/2022-04-29/sglx/0644_g0/ap_0_sync_dict.pkl not found or forced computation, getting the events\n",
      "2023-09-05 12:25:44,114 ceciestunepipe.util.sglxsync INFO     File /mnt/sphere/chronic_ephys/der/s_b1555_22/2022-04-29/sglx/0644_g0/ap_0_sync_dict.pkl not found or forced computation, getting the events\n",
      "2023-09-05 12:25:44,115 ceciestunepipe.util.spikeextractors.extractors.spikeglxrecordingextractor.spikeglxrecordingextractor INFO     getting ttl events, chan 0\n",
      "2023-09-05 12:25:44,115 ceciestunepipe.util.spikeextractors.extractors.spikeglxrecordingextractor.spikeglxrecordingextractor INFO     getting ttl events, chan 0\n",
      "2023-09-05 12:25:44,115 ceciestunepipe.util.spikeextractors.extractors.spikeglxrecordingextractor.spikeglxrecordingextractor INFO     getting ttl events, chan 0\n",
      "2023-09-05 12:25:44,116 ceciestunepipe.util.spikeextractors.extractors.readSGLX INFO     Extracting digital on imec stream: there is only one channel, if any (SYN) and will be converted from an int16 channel \n"
     ]
    },
    {
     "name": "stderr",
     "output_type": "stream",
     "text": [
      "2023-09-05 12:25:44,116 ceciestunepipe.util.spikeextractors.extractors.readSGLX INFO     Extracting digital on imec stream: there is only one channel, if any (SYN) and will be converted from an int16 channel \n",
      "2023-09-05 12:25:44,116 ceciestunepipe.util.spikeextractors.extractors.readSGLX INFO     Extracting digital on imec stream: there is only one channel, if any (SYN) and will be converted from an int16 channel \n",
      "2023-09-05 12:25:44,119 ceciestunepipe.util.spikeextractors.extractors.readSGLX INFO     allocated array for syn channel of size (452822823,)\n",
      "2023-09-05 12:25:44,119 ceciestunepipe.util.spikeextractors.extractors.readSGLX INFO     allocated array for syn channel of size (452822823,)\n",
      "2023-09-05 12:25:44,119 ceciestunepipe.util.spikeextractors.extractors.readSGLX INFO     allocated array for syn channel of size (452822823,)\n"
     ]
    },
    {
     "name": "stdout",
     "output_type": "stream",
     "text": [
      "s_b1555_22 2022-04-29 0644_g0 syncing..\n"
     ]
    },
    {
     "name": "stderr",
     "output_type": "stream",
     "text": [
      "2023-09-05 13:10:07,989 ceciestunepipe.util.spikeextractors.extractors.readSGLX INFO     Threshold for logical hi is 0\n",
      "2023-09-05 13:10:07,989 ceciestunepipe.util.spikeextractors.extractors.readSGLX INFO     Threshold for logical hi is 0\n",
      "2023-09-05 13:10:07,989 ceciestunepipe.util.spikeextractors.extractors.readSGLX INFO     Threshold for logical hi is 0\n",
      "2023-09-05 13:10:18,713 ceciestunepipe.util.sglxsync INFO     saving events array to /mnt/sphere/chronic_ephys/der/s_b1555_22/2022-04-29/sglx/0644_g0/ap_0_sync_evt.npy\n",
      "2023-09-05 13:10:18,713 ceciestunepipe.util.sglxsync INFO     saving events array to /mnt/sphere/chronic_ephys/der/s_b1555_22/2022-04-29/sglx/0644_g0/ap_0_sync_evt.npy\n",
      "2023-09-05 13:10:18,713 ceciestunepipe.util.sglxsync INFO     saving events array to /mnt/sphere/chronic_ephys/der/s_b1555_22/2022-04-29/sglx/0644_g0/ap_0_sync_evt.npy\n",
      "2023-09-05 13:10:18,894 ceciestunepipe.util.sglxsync INFO     saving t_0 array to /mnt/sphere/chronic_ephys/der/s_b1555_22/2022-04-29/sglx/0644_g0/ap_0_t0.npy\n",
      "2023-09-05 13:10:18,894 ceciestunepipe.util.sglxsync INFO     saving t_0 array to /mnt/sphere/chronic_ephys/der/s_b1555_22/2022-04-29/sglx/0644_g0/ap_0_t0.npy\n",
      "2023-09-05 13:10:18,894 ceciestunepipe.util.sglxsync INFO     saving t_0 array to /mnt/sphere/chronic_ephys/der/s_b1555_22/2022-04-29/sglx/0644_g0/ap_0_t0.npy\n",
      "2023-09-05 13:10:25,862 ceciestunepipe.util.sglxsync INFO     saving sync dict to /mnt/sphere/chronic_ephys/der/s_b1555_22/2022-04-29/sglx/0644_g0/ap_0_sync_dict.pkl\n",
      "2023-09-05 13:10:25,862 ceciestunepipe.util.sglxsync INFO     saving sync dict to /mnt/sphere/chronic_ephys/der/s_b1555_22/2022-04-29/sglx/0644_g0/ap_0_sync_dict.pkl\n",
      "2023-09-05 13:10:25,862 ceciestunepipe.util.sglxsync INFO     saving sync dict to /mnt/sphere/chronic_ephys/der/s_b1555_22/2022-04-29/sglx/0644_g0/ap_0_sync_dict.pkl\n",
      "2023-09-05 13:10:25,988 ceciestunepipe.util.sglxsync INFO     loading syn_dict from /mnt/sphere/chronic_ephys/der/s_b1555_22/2022-04-29/sglx/0644_g0/ap_0_sync_dict.pkl\n",
      "2023-09-05 13:10:25,988 ceciestunepipe.util.sglxsync INFO     loading syn_dict from /mnt/sphere/chronic_ephys/der/s_b1555_22/2022-04-29/sglx/0644_g0/ap_0_sync_dict.pkl\n",
      "2023-09-05 13:10:25,988 ceciestunepipe.util.sglxsync INFO     loading syn_dict from /mnt/sphere/chronic_ephys/der/s_b1555_22/2022-04-29/sglx/0644_g0/ap_0_sync_dict.pkl\n",
      "2023-09-05 13:10:25,998 ceciestunepipe.util.sglxsync INFO     getting syn patterns for wav\n",
      "2023-09-05 13:10:25,998 ceciestunepipe.util.sglxsync INFO     getting syn patterns for wav\n",
      "2023-09-05 13:10:25,998 ceciestunepipe.util.sglxsync INFO     getting syn patterns for wav\n",
      "2023-09-05 13:10:26,000 ceciestunepipe.util.sglxsync INFO     File /mnt/sphere/chronic_ephys/der/s_b1555_22/2022-04-29/sglx/0644_g0/wav_sync_dict.pkl not found or forced computation, getting the events\n",
      "2023-09-05 13:10:26,000 ceciestunepipe.util.sglxsync INFO     File /mnt/sphere/chronic_ephys/der/s_b1555_22/2022-04-29/sglx/0644_g0/wav_sync_dict.pkl not found or forced computation, getting the events\n",
      "2023-09-05 13:10:26,000 ceciestunepipe.util.sglxsync INFO     File /mnt/sphere/chronic_ephys/der/s_b1555_22/2022-04-29/sglx/0644_g0/wav_sync_dict.pkl not found or forced computation, getting the events\n"
     ]
    },
    {
     "ename": "KeyError",
     "evalue": "'wav'",
     "output_type": "error",
     "traceback": [
      "\u001b[0;31m---------------------------------------------------------------------------\u001b[0m",
      "\u001b[0;31mKeyError\u001b[0m                                  Traceback (most recent call last)",
      "File \u001b[0;32m<timed exec>:33\u001b[0m\n",
      "File \u001b[0;32m<timed exec>:33\u001b[0m, in \u001b[0;36m<dictcomp>\u001b[0;34m(.0)\u001b[0m\n",
      "File \u001b[0;32m/mnt/cube/tsmcpher/code/ceciestunepipe/util/sglxsync.py:36\u001b[0m, in \u001b[0;36mget_syn_pattern\u001b[0;34m(run_recs_dict, exp_struct, stream, force)\u001b[0m\n\u001b[1;32m     34\u001b[0m \u001b[38;5;28;01mif\u001b[39;00m \u001b[38;5;129;01mnot\u001b[39;00m(os\u001b[38;5;241m.\u001b[39mpath\u001b[38;5;241m.\u001b[39mexists(syn_dict_path) \u001b[38;5;129;01mand\u001b[39;00m (force \u001b[38;5;129;01mis\u001b[39;00m \u001b[38;5;28;01mFalse\u001b[39;00m)):\n\u001b[1;32m     35\u001b[0m     logger\u001b[38;5;241m.\u001b[39minfo(\u001b[38;5;124m'\u001b[39m\u001b[38;5;124mFile \u001b[39m\u001b[38;5;132;01m{}\u001b[39;00m\u001b[38;5;124m not found or forced computation, getting the events\u001b[39m\u001b[38;5;124m'\u001b[39m\u001b[38;5;241m.\u001b[39mformat(syn_dict_path))\n\u001b[0;32m---> 36\u001b[0m     syn_tuple \u001b[38;5;241m=\u001b[39m \u001b[43mrun_recs_dict\u001b[49m\u001b[43m[\u001b[49m\u001b[43mstream\u001b[49m\u001b[43m]\u001b[49m\u001b[38;5;241m.\u001b[39mget_effective_sf(force_ttl\u001b[38;5;241m=\u001b[39m\u001b[38;5;28;01mTrue\u001b[39;00m)\n\u001b[1;32m     37\u001b[0m     syn_arr \u001b[38;5;241m=\u001b[39m np\u001b[38;5;241m.\u001b[39mvstack(\u001b[38;5;28mlist\u001b[39m(syn_tuple[\u001b[38;5;241m2\u001b[39m][:]))\n\u001b[1;32m     39\u001b[0m     t_0_path \u001b[38;5;241m=\u001b[39m os\u001b[38;5;241m.\u001b[39mpath\u001b[38;5;241m.\u001b[39mjoin(exp_struct[\u001b[38;5;124m'\u001b[39m\u001b[38;5;124mfolders\u001b[39m\u001b[38;5;124m'\u001b[39m][\u001b[38;5;124m'\u001b[39m\u001b[38;5;124mderived\u001b[39m\u001b[38;5;124m'\u001b[39m],  \u001b[38;5;124m'\u001b[39m\u001b[38;5;132;01m{}\u001b[39;00m\u001b[38;5;124m_t0.npy\u001b[39m\u001b[38;5;124m'\u001b[39m\u001b[38;5;241m.\u001b[39mformat(stream))\n",
      "\u001b[0;31mKeyError\u001b[0m: 'wav'"
     ]
    }
   ],
   "source": [
    "%%time\n",
    "# loop through all birds / recordings\n",
    "for this_bird in bird_rec_dict.keys():\n",
    "    # get all session configurations\n",
    "    sess_all = bird_rec_dict[this_bird]\n",
    "    # get session configuration\n",
    "    for this_sess_config in sess_all:\n",
    "        # loop through sessions\n",
    "        for this_sess in this_sess_config['sess_par_list']:\n",
    "            # which sofrtware\n",
    "            this_software = this_sess_config['software']\n",
    "            # build session parameter dictionary\n",
    "            sess_par = {'bird':this_bird,\n",
    "                        'sess':this_sess,\n",
    "                        'sort':this_sess_config['sort']}\n",
    "            \n",
    "            if this_software == 'sglx':\n",
    "                # get epochs\n",
    "                sess_epochs = et.list_sgl_epochs(sess_par)\n",
    "                # loop through epochs\n",
    "                for this_epoch in sess_epochs:\n",
    "                    # add to session parameter dictionary\n",
    "                    sess_par['epoch'] = this_epoch\n",
    "                    # get epoch files\n",
    "                    exp_struct = et.sgl_struct(sess_par,this_epoch)\n",
    "                    sgl_folders, sgl_files = sglu.sgl_file_struct(exp_struct['folders']['sglx'])\n",
    "                    run_meta_files = {k:v[0] for k,v in sgl_files.items()}\n",
    "                    run_recordings = {k:sglex.SpikeGLXRecordingExtractor(sglu.get_data_meta_path(v)[0]) for k,v in run_meta_files.items()}\n",
    "                    print(this_bird,this_sess,this_epoch,'syncing..')\n",
    "\n",
    "                    # get streams, from raw recording extractors and preprocessed data\n",
    "                    all_streams = list(run_recordings.keys()) + ['wav']\n",
    "                    # get sync pattern\n",
    "                    all_syn_dict = {k:sy.get_syn_pattern(run_recordings,exp_struct,k,force=False) for k in all_streams}\n",
    "                    # run sync\n",
    "                    sy.sync_all(all_syn_dict,sess_par['ref_stream'],force=False)\n",
    "\n",
    "                    # load bouts\n",
    "                    hparams, bout_pd = sb.load_bouts(sess_par['bird'],sess_par['sess'],'', derived_folder='bouts_sglx',bout_file_key='bout_curated_file')\n",
    "                    # keep only curated bouts\n",
    "                    logger.info('filtering only good bouts from this epoch {}'.format(sess_par['epoch']))\n",
    "                    drop_condition = (~bout_pd['file'].str.contains(sess_par['epoch'])) | (bout_pd['bout_check']==False)\n",
    "                    bout_pd.drop(bout_pd[drop_condition].index, inplace=True)\n",
    "                    bout_pd.reset_index(drop=True, inplace=True)\n",
    "                    # sync bouts to spike time base\n",
    "                    bout_dict, bout_syn_pd = sy.bout_dict_from_pd(bout_pd,all_syn_dict,s_f_key='wav')\n",
    "                    \n",
    "                    # save synced bouts\n",
    "                    bout_dict_path = os.path.join(exp_struct['folders']['derived'], 'bout_dict_ap0.pkl')\n",
    "                    bout_pd_path = os.path.join(exp_struct['folders']['derived'], 'bout_pd_ap0.pkl')\n",
    "                    with open(bout_dict_path, 'wb') as handle:\n",
    "                        pickle.dump(bout_dict, handle)\n",
    "                    bout_pd.to_pickle(bout_pd_path)\n",
    "                    logger.info('saved syncronized bout dict and pandas dataframe to {}, {}'.format(bout_dict_path, bout_pd_path))\n",
    "\n",
    "                    # syn_ttl comes from the digital pin, syn_sine_ttl from the sine\n",
    "                    event_name = 'wav_stim'\n",
    "                    ttl_ev_name = event_name + '_sync_sine_ttl' \n",
    "                    # get the events npy file\n",
    "                    npy_stim_path = os.path.join(exp_struct['folders']['derived'],ttl_ev_name + '_evt.npy')\n",
    "                    stream_stim_path = os.path.join(exp_struct['folders']['derived'],event_name + '.npy')\n",
    "                    trial_ttl = np.load(npy_stim_path)\n",
    "                    trial_stream = np.load(stream_stim_path,mmap_mode='r')\n",
    "                    # get sampling frequency\n",
    "                    stim_s_f = int(all_syn_dict['nidq']['s_f'])\n",
    "                    # load the stimulus name - frequency tag dictionary\n",
    "                    stim_tags_dict = preproc_sglx.load_stim_tags_dict(sess_par['stim_sess'])\n",
    "                    # get trial tagged dataframe\n",
    "                    trial_tagged_pd = su.get_trials_pd(trial_ttl, trial_stream, stim_s_f,on_signal=sess_par['on_signal'],\n",
    "                                                       tag_chan=sess_par['trial_tag_chan'],stim_tags_dict=stim_tags_dict,\n",
    "                                                       trial_is_onof=True)\n",
    "                    # sync stim\n",
    "                    trial_dict, trial_syn_pd = sy.trial_syn_from_pd(trial_tagged_pd,all_syn_dict,s_f_key='nidq')\n",
    "                    \n",
    "                    # save synced stim\n",
    "                    stim_dict_path = os.path.join(exp_struct['folders']['derived'],'stim_dict_ap0.pkl')\n",
    "                    stim_pd_path = os.path.join(exp_struct['folders']['derived'],'stim_pd_ap0.pkl')\n",
    "                    with open(stim_dict_path,'wb') as handle:\n",
    "                        pickle.dump(trial_dict,handle)\n",
    "                    trial_syn_pd.to_pickle(stim_pd_path)\n",
    "                    logger.info('saved syncronized stim dict and pandas dataframe to {}, {}'.format(stim_dict_path, stim_pd_path))\n",
    "                \n",
    "            elif this_software == 'oe':\n",
    "                # get epochs\n",
    "                exp_struct = et.get_exp_struct(sess_par['bird'],sess_par['sess'],sort=sess_par['sort'],ephys_software=this_software)\n",
    "                sess_epochs = oeu.list_oe_epochs(exp_struct)\n",
    "                # loop through epochs\n",
    "                for this_epoch in sess_epochs:\n",
    "                    # add to session parameter dictionary\n",
    "                    sess_par['epoch'] = this_epoch\n",
    "                    # get eoch files\n",
    "                    oe_exp_struct = et.sgl_struct(sess_par,this_epoch,ephys_software=this_software)\n",
    "                    run_recordings = {'oeb':preproc_oe.get_oe_cont_recording(exp_struct,this_epoch)}\n",
    "                    print(this_bird,this_sess,this_epoch,'syncing..')\n",
    "                    \n",
    "                    # make an all_syn_dict\n",
    "                    mic_file_name = os.path.join(exp_struct['folders']['derived'],this_epoch,'wav_mic.wav')\n",
    "                    wav_s_f, mic_stream = wavfile.read(mic_file_name, mmap=True)\n",
    "                    all_syn_dict = {'wav': {'s_f': wav_s_f}, \n",
    "                                   'ap_0': {'s_f': run_recordings['oeb'].get_sampling_frequency()},\n",
    "                                   'nidq': {'s_f': run_recordings['oeb'].get_sampling_frequency()}}\n",
    "\n",
    "                    # make bouts pandas file for this session - match sglx format, streams already synced\n",
    "                    bout_pd = et.get_epoch_bout_pd(sess_par,only_curated=True,software='oe')\n",
    "                    bout_dict = preproc_oe.bout_dict_from_pd(bout_pd,all_syn_dict)\n",
    "\n",
    "                    # save\n",
    "                    bout_dict_path = os.path.join(oe_exp_struct['folders']['derived'],'bout_dict_oe.pkl')\n",
    "                    bout_pd_path = os.path.join(oe_exp_struct['folders']['derived'],'bout_pd_oe.pkl')\n",
    "                    with open(bout_dict_path,'wb') as handle:\n",
    "                        pickle.dump(bout_dict,handle)\n",
    "                    bout_pd.to_pickle(bout_pd_path)\n",
    "            \n",
    "            else:\n",
    "                print(sess_par['software'],'not implemented..')"
   ]
  },
  {
   "cell_type": "code",
   "execution_count": null,
   "metadata": {},
   "outputs": [],
   "source": []
  }
 ],
 "metadata": {
  "kernelspec": {
   "display_name": "Python [conda env:tsmcpher-spk_sort_tsm]",
   "language": "python",
   "name": "conda-env-tsmcpher-spk_sort_tsm-py"
  },
  "language_info": {
   "codemirror_mode": {
    "name": "ipython",
    "version": 3
   },
   "file_extension": ".py",
   "mimetype": "text/x-python",
   "name": "python",
   "nbconvert_exporter": "python",
   "pygments_lexer": "ipython3",
   "version": "3.8.16"
  }
 },
 "nbformat": 4,
 "nbformat_minor": 4
}
