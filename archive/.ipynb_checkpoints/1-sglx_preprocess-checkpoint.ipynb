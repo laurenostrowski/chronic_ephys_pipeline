{
 "cells": [
  {
   "cell_type": "markdown",
   "metadata": {},
   "source": [
    "# Pre-processing pipeline for spikeglx sessions\n",
    "\n",
    "In the processing pipeline for chronic ephys data\n",
    "- **1-sglx_preprocess**\n",
    "- 2-sglx_pipe-mot_search ####motif could be an optional tag for syllables in a bout, to make this generalizable across species\n",
    "- 3-sglx_pipe-sort_rasters\n",
    "- 4-sglx_load-spikesorted-assign_cluster_labels_RA-HVC\n",
    "- 5-v1-load_sync_sglx_prepareGPFA\n",
    "\n",
    "For every run in the session:\n",
    " - Load the recordings\n",
    " - Extract wav chan with microhpone and make a wav chan with the nidq syn signal\n",
    " - Get the sync events for the nidq sync channel\n",
    " - Do bout detection\n",
    " \n",
    "In another notebook, bout detection is curated\n",
    "- Left to decide where to:\n",
    "    - Sort spikes\n",
    "    - Sync the spikes/lfp/nidq\n",
    "    - make and plot 'bout rasters'"
   ]
  },
  {
   "cell_type": "code",
   "execution_count": 2,
   "metadata": {
    "tags": []
   },
   "outputs": [],
   "source": [
    "%matplotlib inline\n",
    "import os\n",
    "import glob\n",
    "import logging\n",
    "import pickle\n",
    "import numpy as np\n",
    "import pandas as pd\n",
    "from scipy.io import wavfile\n",
    "from scipy import signal\n",
    "import traceback\n",
    "import warnings\n",
    "\n",
    "from matplotlib import pyplot as plt\n",
    "from importlib import reload\n",
    "\n",
    "logger = logging.getLogger()\n",
    "handler = logging.StreamHandler()\n",
    "formatter = logging.Formatter('%(asctime)s %(name)-12s %(levelname)-8s %(message)s')\n",
    "handler.setFormatter(formatter)\n",
    "logger.addHandler(handler)\n",
    "logger.setLevel(logging.INFO)\n"
   ]
  },
  {
   "cell_type": "code",
   "execution_count": 3,
   "metadata": {},
   "outputs": [
    {
     "name": "stdout",
     "output_type": "stream",
     "text": [
      "h5py version > 2.10.0. Some extractors might not work properly. It is recommended to downgrade to version 2.10.0: \n",
      ">>> pip install h5py==2.10.0\n"
     ]
    }
   ],
   "source": [
    "from ceciestunepipe.file import bcistructure as et\n",
    "from ceciestunepipe.util import sglxutil as sglu\n",
    "from ceciestunepipe.util import rigutil as ru\n",
    "from ceciestunepipe.util import wavutil as wu\n",
    "from ceciestunepipe.util import syncutil as su\n",
    "\n",
    "from ceciestunepipe.util.sound import boutsearch as bs\n",
    "\n",
    "from ceciestunepipe.util.spikeextractors import preprocess as pre\n",
    "from ceciestunepipe.util.spikeextractors.extractors.spikeglxrecordingextractor import readSGLX as rsgl\n",
    "from ceciestunepipe.util.spikeextractors.extractors.spikeglxrecordingextractor import spikeglxrecordingextractor as sglex"
   ]
  },
  {
   "cell_type": "code",
   "execution_count": 4,
   "metadata": {},
   "outputs": [
    {
     "name": "stderr",
     "output_type": "stream",
     "text": [
      "/tmp/ipykernel_858977/2248648104.py:3: DeprecationWarning: The 'toolkit' module is deprecated. Use spikeinterface.preprocessing/postptocessing/qualitymetrics instead\n",
      "  import spikeinterface.toolkit as st\n",
      "2023-08-24 14:38:44,577 root         INFO     all modules loaded\n"
     ]
    }
   ],
   "source": [
    "import spikeinterface as si\n",
    "import spikeinterface.extractors as se\n",
    "import spikeinterface.toolkit as st\n",
    "import spikeinterface.sorters as ss\n",
    "import spikeinterface.comparison as sc\n",
    "import spikeinterface.widgets as sw\n",
    "logger.info('all modules loaded')"
   ]
  },
  {
   "cell_type": "markdown",
   "metadata": {},
   "source": [
    "## Session parameters and raw files"
   ]
  },
  {
   "cell_type": "markdown",
   "metadata": {},
   "source": [
    "#### list all the sessions for this bird"
   ]
  },
  {
   "cell_type": "code",
   "execution_count": 5,
   "metadata": {},
   "outputs": [
    {
     "name": "stderr",
     "output_type": "stream",
     "text": [
      "2023-08-24 14:38:44,590 root         INFO     all sessions for bird are ['2021-09-03', '2021-09-04', '2021-09-05', '2021-09-06', '2021-09-07', '2021-09-08', '2021-09-09', '2021-09-10', '2021-09-11', '2021-09-12', '2021-09-13', '2021-09-14', '2021-09-15', '2021-09-16', '2021-09-17', '2021-09-18', '2021-09-19', '2021-09-20', '2021-09-21', '2021-09-22', '2021-09-23', '2021-09-24', '2021-09-25', '2021-09-26', '2021-09-27', '2021-09-28', '2021-09-29', '2021-09-30', '2021-10-01', '2021-10-02', '2021-10-03', '2021-10-04', '2021-10-05', '2021-10-06', '2021-10-07', '2021-10-08', '2021-10-09', '2021-10-10', '2021-10-11', '2021-10-12', '2021-10-13', '2021-10-14', '2021-10-15', '2021-10-16', '2021-10-17', '2021-10-18', '2021-10-19', '2021-10-20', '2021-10-21', '2021-10-22', '2021-10-23', '2021-10-24', '2021-10-25', '2021-10-26', '2021-10-27', '2021-10-28', '2021-10-29', '2021-10-30', '2021-10-31', '2021-11-01', '2021-11-02', '2021-11-03', '2021-11-04', '2021-11-05', '2021-11-06', '2021-11-07', '2021-11-08', '2021-11-09', '2021-11-10', '2021-11-11', '2021-11-12', '2021-11-13', '2021-11-14', '2021-11-15', '2021-11-16', '2021-11-17', '2021-11-18', '2021-11-19', '2021-11-20', '2021-11-21', '2021-11-22', '2021-11-23', '2021-11-24', '2021-11-25', '2021-11-26', '2021-11-27', '2021-11-28', '2021-11-29', '2021-11-30', '2021-12-01', '2021-12-02', '2021-12-03', '2021-12-04', '2021-12-05', '2021-12-06', '2021-12-07', '2021-12-08', '2021-12-09', '2021-12-10', '2021-12-11', '2021-12-12', '2021-12-13', '2021-12-14', '2021-12-15', '2021-12-16', '2021-12-17', '2021-12-18', '2021-12-19', '2021-12-20', '2021-12-21', '2021-12-22', '2021-12-23', '2021-12-24', '2021-12-25', '2021-12-26', '2021-12-27', '2021-12-28', '2021-12-29', '2021-12-30', '2021-12-31', '2022-01-01', '2022-01-02', '2022-01-03', '2022-01-04', '2022-01-05', '2022-01-06', '2022-01-07', '2022-01-08', '2022-01-09', '2022-01-10', '2022-01-11', '2022-01-12', '2022-01-13', '2022-01-14', '2022-01-15', '2022-01-16', '2022-01-17', '2022-01-18', '2022-01-19', '2022-01-20', '2022-01-21', '2022-01-22', '2022-01-23', '2022-01-24', '2022-01-25', '2022-01-26', '2022-01-27', '2022-01-28', '2022-01-29', '2022-01-30', '2022-01-31', '2022-02-01', '2022-02-02', '2022-02-03', '2022-02-04', '2022-02-05', '2022-02-06', '2022-02-07', '2022-02-08', '2022-02-09', '2022-02-10', '2022-02-11', '2022-02-12', '2022-02-13', '2022-02-14', '2022-02-15', '2022-02-16', '2022-02-17', '2022-02-18', '2022-02-19', '2022-02-20', '2022-02-21', '2022-02-22', '2022-02-23', '2022-02-24', '2022-02-25', '2022-02-26', '2022-02-27', '2022-02-28', '2022-03-01', '2022-03-02', '2022-03-03', '2022-03-04', '2022-03-05', '2022-03-06', '2022-03-07', '2022-03-08', '2022-03-09', '2022-03-10', '2022-03-11', '2022-03-12', '2022-03-13', '2022-03-14', '2022-03-15', '2022-03-16', '2022-03-17', '2022-03-18', '2022-03-19', '2022-03-20', '2022-03-21', '2022-03-22']\n"
     ]
    }
   ],
   "source": [
    "bird = 'z_y19o20_21'\n",
    "all_bird_sess = et.list_sessions(bird)\n",
    "logger.info('all sessions for bird are {}'.format(all_bird_sess))"
   ]
  },
  {
   "cell_type": "markdown",
   "metadata": {},
   "source": [
    "### Set up bird and sessions parameters\n",
    "This will define:\n",
    "- locations of files (for the bird)\n",
    "- signals and channels to look for in the metadata of the files and in the rig.json parameter file *(note that these have to exist in all of the sessions that will be processed)*\n",
    "- 'sess' is unimportant here, but it comes handy if there is need to debug usin a single session"
   ]
  },
  {
   "cell_type": "code",
   "execution_count": 6,
   "metadata": {},
   "outputs": [],
   "source": [
    "reload(et)\n",
    "# for one example session\n",
    "\n",
    "sess_par = {'bird': 'z_y19o20_21',\n",
    "           'sess': '2021-12-21',\n",
    "           'probes': ['probe_0'], #probes of interest (should only be one?)\n",
    "           'mic_list': ['microphone_1'], #list of mics of interest, by signal name in rig.json (where is this file?)\n",
    "           'sort': 0, #label for this sort instance\n",
    "           }\n",
    "\n",
    "exp_struct = et.get_exp_struct(sess_par['bird'], sess_par['sess'], sort=sess_par['sort'])\n",
    "\n",
    "ksort_folder = exp_struct['folders']['ksort']\n",
    "raw_folder = exp_struct['folders']['sglx']"
   ]
  },
  {
   "cell_type": "markdown",
   "metadata": {},
   "source": [
    "list all the epochs in a session, to check that it is finding what it has to find"
   ]
  },
  {
   "cell_type": "code",
   "execution_count": 7,
   "metadata": {},
   "outputs": [
    {
     "name": "stderr",
     "output_type": "stream",
     "text": [
      "2023-08-24 14:38:51,052 ceciestunepipe.file.bcistructure INFO     {'folders': {'bird': '/mnt/sphere/speech_bci/raw_data/z_y19o20_21', 'raw': '/mnt/sphere/speech_bci/raw_data/z_y19o20_21/2021-12-21', 'sglx': '/mnt/sphere/speech_bci/raw_data/z_y19o20_21/2021-12-21/sglx', 'kwik': '/scratch/earneodo/z_y19o20_21/sglx/kwik/2021-12-21', 'processed': '/mnt/sphere/speech_bci/processed_data/z_y19o20_21/2021-12-21/sglx', 'derived': '/mnt/sphere/speech_bci/derived_data/z_y19o20_21/2021-12-21/sglx', 'tmp': '/scratch/earneodo/tmp', 'msort': '/scratch/earneodo/z_y19o20_21/sglx/msort/2021-12-21', 'ksort': '/scratch/earneodo/z_y19o20_21/sglx/ksort/2021-12-21/0', 'sort': '/mnt/sphere/speech_bci/derived_data/z_y19o20_21/2021-12-21/sglx/0'}, 'files': {'par': '/scratch/earneodo/z_y19o20_21/sglx/ksort/2021-12-21/0/params.json', 'set': '/mnt/sphere/speech_bci/raw_data/z_y19o20_21/2021-12-21/sglx/settings.isf', 'rig': '/mnt/sphere/speech_bci/raw_data/z_y19o20_21/2021-12-21/sglx/rig.json', 'kwd': '/scratch/earneodo/z_y19o20_21/sglx/kwik/2021-12-21/stream.kwd', 'kwik': '/scratch/earneodo/z_y19o20_21/sglx/kwik/2021-12-21/sort_0/spikes.kwik', 'kwe': '/scratch/earneodo/z_y19o20_21/sglx/kwik/2021-12-21/events.kwe', 'dat_mic': '/mnt/sphere/speech_bci/processed_data/z_y19o20_21/2021-12-21/sglx/dat_mic.mat', 'dat_ap': '/mnt/sphere/speech_bci/processed_data/z_y19o20_21/2021-12-21/sglx/dat_ap.mat', 'allevents': '/mnt/sphere/speech_bci/processed_data/z_y19o20_21/2021-12-21/sglx/dat_all.pkl', 'wav_mic': '/mnt/sphere/speech_bci/derived_data/z_y19o20_21/2021-12-21/sglx/wav_mic.wav', 'mda_raw': '/scratch/earneodo/z_y19o20_21/sglx/msort/2021-12-21/raw.mda', 'bin_raw': '/scratch/earneodo/z_y19o20_21/sglx/ksort/2021-12-21/0/raw.bin'}}\n"
     ]
    },
    {
     "data": {
      "text/plain": [
       "['1805_female_pin_g0']"
      ]
     },
     "execution_count": 7,
     "metadata": {},
     "output_type": "execute_result"
    }
   ],
   "source": [
    "sess_epochs = et.list_sgl_epochs(sess_par)\n",
    "sess_epochs"
   ]
  },
  {
   "cell_type": "markdown",
   "metadata": {
    "tags": []
   },
   "source": [
    "#### define pre-processing steps for each epoch and for the session"
   ]
  },
  {
   "cell_type": "code",
   "execution_count": 12,
   "metadata": {},
   "outputs": [],
   "source": [
    "def preprocess_run(sess_par, exp_struct, epoch):\n",
    "    # get the recordings\n",
    "    logger.info('PREPROCESSING sess {} | epoch {}'.format(sess_par['sess'], epoch))\n",
    "    logger.info('getting extractors')\n",
    "    sgl_exp_struct = et.sgl_struct(sess_par, epoch)\n",
    "    run_recs_dict, run_meta_files, files_pd, rig_dict = pre.load_sglx_recordings(sgl_exp_struct, epoch)\n",
    "    \n",
    "    # get the microphone to wav\n",
    "    # get the chans\n",
    "    mic_list = sess_par['mic_list']\n",
    "    logger.info('Getting microphone channel(s) {}'.format(mic_list))\n",
    "    mic_stream = pre.extract_nidq_channels(sess_par, run_recs_dict, rig_dict, mic_list, chan_type='adc')\n",
    "    # get the sampling rate\n",
    "    nidq_s_f = run_recs_dict['nidq'].get_sampling_frequency()\n",
    "    \n",
    "    mic_file_path = os.path.join(sgl_exp_struct['folders']['derived'], 'wav_mic.wav') ### want to reroute this to tmp/\n",
    "    wav_s_f = wu.save_wav(mic_stream, nidq_s_f, mic_file_path)\n",
    "    \n",
    "   \n",
    "    # get the syn to wav\n",
    "    # get the chans\n",
    "    sync_list = ['sync']\n",
    "    logger.info('Getting sync channel(s) {}'.format(sync_list))\n",
    "    sync_stream = pre.extract_nidq_channels(sess_par, run_recs_dict, rig_dict, sync_list, chan_type='ttl')\n",
    "    \n",
    "    sync_file_path = os.path.join(sgl_exp_struct['folders']['derived'], 'wav_sync.wav') ### want to reroute this to tmp/\n",
    "    wav_s_f = wu.save_wav(sync_stream, nidq_s_f, sync_file_path)\n",
    "    \n",
    "    logger.info('Getting sync events from the wav sync channel')\n",
    "    sync_ev_path = os.path.join(sgl_exp_struct['folders']['derived'], 'wav_sync_evt.npy') ### want to reroute this to tmp/\n",
    "    wav_s_f, x_d, ttl_arr = wu.wav_to_syn(sync_file_path)\n",
    "    logger.info('saving sync events of the wav channel to {}'.format(sync_ev_path))\n",
    "    np.save(sync_ev_path, ttl_arr)\n",
    "    \n",
    "    t_0_path = os.path.join(sgl_exp_struct['folders']['derived'], 'wav_t0.npy') ### want to reroute this to tmp/\n",
    "    logger.info('saving t0 for wav channel to {}'.format(t_0_path))\n",
    "    np.save(t_0_path, np.arange(sync_stream.size)/wav_s_f)\n",
    "    #make the sync dict\n",
    "    syn_dict = {'s_f': wav_s_f,\n",
    "           't_0_path': t_0_path,\n",
    "           'evt_arr_path': sync_ev_path}\n",
    "    \n",
    "    syn_dict_path = os.path.join(sgl_exp_struct['folders']['derived'],  '{}_sync_dict.pkl'.format('wav')) ### want to reroute this to tmp/\n",
    "    syn_dict['path'] = syn_dict_path\n",
    "    logger.info('saving sync dict to ' + syn_dict_path)\n",
    "    with open(syn_dict_path, 'wb') as pf:\n",
    "        pickle.dump(syn_dict, pf)\n",
    "\n",
    "    epoch_dict = {'epoch': epoch,\n",
    "                'files_pd': files_pd,\n",
    "                 'recordings': run_recs_dict,\n",
    "                 'meta': run_meta_files,\n",
    "                 'rig': rig_dict}\n",
    "    \n",
    "    return epoch_dict\n",
    "\n",
    "    \n",
    "# one_epoch_dict = preprocess_run(sess_par, exp_struct, sess_epochs[0])"
   ]
  },
  {
   "cell_type": "code",
   "execution_count": 9,
   "metadata": {
    "tags": []
   },
   "outputs": [
    {
     "ename": "NameError",
     "evalue": "name 'one_epoch_dict' is not defined",
     "output_type": "error",
     "traceback": [
      "\u001b[0;31m---------------------------------------------------------------------------\u001b[0m",
      "\u001b[0;31mNameError\u001b[0m                                 Traceback (most recent call last)",
      "Cell \u001b[0;32mIn[9], line 1\u001b[0m\n\u001b[0;32m----> 1\u001b[0m \u001b[43mone_epoch_dict\u001b[49m\n",
      "\u001b[0;31mNameError\u001b[0m: name 'one_epoch_dict' is not defined"
     ]
    }
   ],
   "source": [
    "one_epoch_dict"
   ]
  },
  {
   "cell_type": "code",
   "execution_count": 9,
   "metadata": {
    "scrolled": true,
    "tags": []
   },
   "outputs": [
    {
     "name": "stderr",
     "output_type": "stream",
     "text": [
      "2022-01-11 15:35:36,687 root         INFO     pre-process all runs of sess 2021-12-21\n",
      "2022-01-11 15:35:36,689 ceciestunepipe.file.bcistructure INFO     {'folders': {'bird': '/mnt/sphere/speech_bci/raw_data/z_y19o20_21', 'raw': '/mnt/sphere/speech_bci/raw_data/z_y19o20_21/2021-12-21', 'sglx': '/mnt/sphere/speech_bci/raw_data/z_y19o20_21/2021-12-21/sglx', 'kwik': '/experiment/z_y19o20_21/sglx/kwik/2021-12-21', 'processed': '/mnt/sphere/speech_bci/processed_data/z_y19o20_21/2021-12-21/sglx', 'derived': '/mnt/sphere/speech_bci/derived_data/z_y19o20_21/2021-12-21/sglx', 'tmp': '/experiment/tmp/tmp', 'msort': '/experiment/tmp/z_y19o20_21/sglx/msort/2021-12-21', 'ksort': '/experiment/tmp/z_y19o20_21/sglx/ksort/2021-12-21/0', 'sort': '/mnt/sphere/speech_bci/derived_data/z_y19o20_21/2021-12-21/sglx/0'}, 'files': {'par': '/experiment/tmp/z_y19o20_21/sglx/ksort/2021-12-21/0/params.json', 'set': '/mnt/sphere/speech_bci/raw_data/z_y19o20_21/2021-12-21/sglx/settings.isf', 'rig': '/mnt/sphere/speech_bci/raw_data/z_y19o20_21/2021-12-21/sglx/rig.json', 'kwd': '/experiment/z_y19o20_21/sglx/kwik/2021-12-21/stream.kwd', 'kwik': '/experiment/z_y19o20_21/sglx/kwik/2021-12-21/sort_0/spikes.kwik', 'kwe': '/experiment/z_y19o20_21/sglx/kwik/2021-12-21/events.kwe', 'dat_mic': '/mnt/sphere/speech_bci/processed_data/z_y19o20_21/2021-12-21/sglx/dat_mic.mat', 'dat_ap': '/mnt/sphere/speech_bci/processed_data/z_y19o20_21/2021-12-21/sglx/dat_ap.mat', 'allevents': '/mnt/sphere/speech_bci/processed_data/z_y19o20_21/2021-12-21/sglx/dat_all.pkl', 'wav_mic': '/mnt/sphere/speech_bci/derived_data/z_y19o20_21/2021-12-21/sglx/wav_mic.wav', 'mda_raw': '/experiment/tmp/z_y19o20_21/sglx/msort/2021-12-21/raw.mda', 'bin_raw': '/experiment/tmp/z_y19o20_21/sglx/ksort/2021-12-21/0/raw.bin'}}\n",
      "2022-01-11 15:35:36,692 root         INFO     found epochs: ['1805_female_pin_g0']\n",
      "2022-01-11 15:35:36,694 root         INFO     PREPROCESSING sess 2021-12-21 | epoch 1805_female_pin_g0\n",
      "2022-01-11 15:35:36,694 root         INFO     getting extractors\n",
      "2022-01-11 15:35:37,228 root         INFO     Getting microphone channel(s) ['microphone_1']\n",
      "2022-01-11 15:35:37,230 ceciestunepipe.util.wavutil INFO     sampling rate 40000\n",
      "2022-01-11 15:35:37,231 ceciestunepipe.util.wavutil INFO     saving (1, 111518003)-shaped array as wav in /mnt/sphere/speech_bci/derived_data/z_y19o20_21/2021-12-21/sglx/1805_female_pin_g0/wav_mic.wav\n",
      "2022-01-11 15:35:51,247 ceciestunepipe.util.wavutil INFO     saving (1, 111518003)-shaped array as npy in /mnt/sphere/speech_bci/derived_data/z_y19o20_21/2021-12-21/sglx/1805_female_pin_g0/wav_mic.npy\n",
      "2022-01-11 15:35:56,730 root         INFO     Getting sync channel(s) ['sync']\n",
      "2022-01-11 15:35:56,731 ceciestunepipe.util.spikeextractors.extractors.spikeglxrecordingextractor.spikeglxrecordingextractor INFO     getting ttl traces, chan range(0, 7)\n",
      "2022-01-11 15:35:58,983 ceciestunepipe.util.wavutil INFO     sampling rate 40000\n",
      "2022-01-11 15:35:58,983 ceciestunepipe.util.wavutil INFO     saving (1, 111518003)-shaped array as wav in /mnt/sphere/speech_bci/derived_data/z_y19o20_21/2021-12-21/sglx/1805_female_pin_g0/wav_sync.wav\n",
      "2022-01-11 15:36:01,037 ceciestunepipe.util.wavutil INFO     saving (1, 111518003)-shaped array as npy in /mnt/sphere/speech_bci/derived_data/z_y19o20_21/2021-12-21/sglx/1805_female_pin_g0/wav_sync.npy\n",
      "2022-01-11 15:36:03,110 root         INFO     Getting sync events from the wav sync channel\n",
      "2022-01-11 15:36:03,881 root         INFO     saving sync events of the wav channel to /mnt/sphere/speech_bci/derived_data/z_y19o20_21/2021-12-21/sglx/1805_female_pin_g0/wav_sync_evt.npy\n",
      "2022-01-11 15:36:03,886 root         INFO     saving t0 for wav channel to /mnt/sphere/speech_bci/derived_data/z_y19o20_21/2021-12-21/sglx/1805_female_pin_g0/wav_t0.npy\n",
      "2022-01-11 15:36:12,608 root         INFO     saving sync dict to /mnt/sphere/speech_bci/derived_data/z_y19o20_21/2021-12-21/sglx/1805_female_pin_g0/wav_sync_dict.pkl\n"
     ]
    }
   ],
   "source": [
    "### sequentially process all runs of the sessions\n",
    "def preprocess_session(sess_par: dict):\n",
    "    logger.info('pre-process all runs of sess ' + sess_par['sess'])\n",
    "    # get exp struct\n",
    "    sess_struct = et.get_exp_struct(sess_par['bird'], sess_par['sess'], sort=sess_par['sort'])\n",
    "    # list the epochs\n",
    "    sess_epochs = et.list_sgl_epochs(sess_par)\n",
    "    logger.info('found epochs: {}'.format(sess_epochs))\n",
    "    # preprocess all epochs\n",
    "    epoch_dict_list = []\n",
    "    for i_ep, epoch in enumerate(sess_epochs):\n",
    "        try:\n",
    "            exp_struct = et.sgl_struct(sess_par, epoch)\n",
    "            one_epoch_dict = preprocess_run(sess_par, exp_struct, epoch)\n",
    "            epoch_dict_list.append(one_epoch_dict)\n",
    "        except Exception as exc:\n",
    "            warnings.warn('Error in epoch {}'.format(epoch), UserWarning)\n",
    "            logger.info(traceback.format_exc)\n",
    "            logger.info(exc)\n",
    "            logger.info('Session {} epoch {} could not be preprocessed'.format(sess_par['sess'], epoch))\n",
    "        \n",
    "    return epoch_dict_list\n",
    "\n",
    "all_epoch_list = preprocess_session(sess_par)"
   ]
  },
  {
   "cell_type": "code",
   "execution_count": 10,
   "metadata": {},
   "outputs": [
    {
     "data": {
      "text/plain": [
       "[{'epoch': '1805_female_pin_g0',\n",
       "  'files_pd':                                                 nidq  \\\n",
       "  0  /mnt/sphere/speech_bci/raw_data/z_y19o20_21/20...   \n",
       "  \n",
       "                                                  lf_0  \\\n",
       "  0  /mnt/sphere/speech_bci/raw_data/z_y19o20_21/20...   \n",
       "  \n",
       "                                                  ap_0  \n",
       "  0  /mnt/sphere/speech_bci/raw_data/z_y19o20_21/20...  ,\n",
       "  'recordings': {'nidq': <ceciestunepipe.util.spikeextractors.extractors.spikeglxrecordingextractor.spikeglxrecordingextractor.SpikeGLXRecordingExtractor at 0x7f4224ff7cd0>,\n",
       "   'lf_0': <ceciestunepipe.util.spikeextractors.extractors.spikeglxrecordingextractor.spikeglxrecordingextractor.SpikeGLXRecordingExtractor at 0x7f4229e64e80>,\n",
       "   'ap_0': <ceciestunepipe.util.spikeextractors.extractors.spikeglxrecordingextractor.spikeglxrecordingextractor.SpikeGLXRecordingExtractor at 0x7f422515caf0>},\n",
       "  'meta': {'nidq': '/mnt/sphere/speech_bci/raw_data/z_y19o20_21/2021-12-21/sglx/1805_female_pin_g0/1805_female_pin_g0_t0.nidq.meta',\n",
       "   'lf_0': '/mnt/sphere/speech_bci/raw_data/z_y19o20_21/2021-12-21/sglx/1805_female_pin_g0/1805_female_pin_g0_imec0/1805_female_pin_g0_t0.imec0.lf.meta',\n",
       "   'ap_0': '/mnt/sphere/speech_bci/raw_data/z_y19o20_21/2021-12-21/sglx/1805_female_pin_g0/1805_female_pin_g0_imec0/1805_female_pin_g0_t0.imec0.ap.meta'},\n",
       "  'rig': {'chan': {'ttl': {'sync': 'DIN-00', 'wav_ttl': 'DIN-02'},\n",
       "    'adc': {'microphone_0': 'adc-00',\n",
       "     'microphone_1': 'adc-03',\n",
       "     'wav_stim': 'adc-01',\n",
       "     'wav_syn': 'adc-02'},\n",
       "    'port': {'probe_0': 'A-'}},\n",
       "   'probe': {'probe_0': {'model': 'neuropix-3b',\n",
       "     'serial': '19108311042',\n",
       "     'headstage': 'neuropix-3b'}}}}]"
      ]
     },
     "execution_count": 10,
     "metadata": {},
     "output_type": "execute_result"
    }
   ],
   "source": [
    "all_epoch_list"
   ]
  },
  {
   "cell_type": "markdown",
   "metadata": {},
   "source": [
    "## Process multiple sessions"
   ]
  },
  {
   "cell_type": "code",
   "execution_count": 13,
   "metadata": {},
   "outputs": [],
   "source": [
    "sess_list = all_bird_sess\n",
    "# fist implant, right hemisphere\n",
    "sess_list = ['2021-10-26', '2021-10-27']"
   ]
  },
  {
   "cell_type": "code",
   "execution_count": 21,
   "metadata": {
    "tags": []
   },
   "outputs": [
    {
     "name": "stderr",
     "output_type": "stream",
     "text": [
      "2021-10-19 13:02:14,812 root         INFO     pre-process all runs of sess 2020-11-04\n",
      "2021-10-19 13:02:14,814 ceciestunepipe.file.bcistructure INFO     {'folders': {'bird': '/mnt/sphere/speech_bci/raw_data/z_w12m7_20', 'raw': '/mnt/sphere/speech_bci/raw_data/z_w12m7_20/2020-11-04', 'sglx': '/mnt/sphere/speech_bci/raw_data/z_w12m7_20/2020-11-04/sglx', 'kwik': '/experiment/z_w12m7_20/sglx/kwik/2020-11-04', 'processed': '/mnt/sphere/speech_bci/processed_data/z_w12m7_20/2020-11-04/sglx', 'derived': '/mnt/sphere/speech_bci/derived_data/z_w12m7_20/2020-11-04/sglx', 'tmp': '/experiment/tmp/tmp', 'msort': '/experiment/tmp/z_w12m7_20/sglx/msort/2020-11-04', 'ksort': '/experiment/tmp/z_w12m7_20/sglx/ksort/2020-11-04'}, 'files': {'par': '/experiment/tmp/z_w12m7_20/sglx/ksort/2020-11-04/params.json', 'set': '/mnt/sphere/speech_bci/raw_data/z_w12m7_20/2020-11-04/sglx/settings.isf', 'rig': '/mnt/sphere/speech_bci/raw_data/z_w12m7_20/2020-11-04/sglx/rig.json', 'kwd': '/experiment/z_w12m7_20/sglx/kwik/2020-11-04/stream.kwd', 'kwik': '/experiment/z_w12m7_20/sglx/kwik/2020-11-04/sort_4/spikes.kwik', 'kwe': '/experiment/z_w12m7_20/sglx/kwik/2020-11-04/events.kwe', 'dat_mic': '/mnt/sphere/speech_bci/processed_data/z_w12m7_20/2020-11-04/sglx/dat_mic.mat', 'dat_ap': '/mnt/sphere/speech_bci/processed_data/z_w12m7_20/2020-11-04/sglx/dat_ap.mat', 'allevents': '/mnt/sphere/speech_bci/processed_data/z_w12m7_20/2020-11-04/sglx/dat_all.pkl', 'wav_mic': '/mnt/sphere/speech_bci/derived_data/z_w12m7_20/2020-11-04/sglx/wav_mic.wav', 'mda_raw': '/experiment/tmp/z_w12m7_20/sglx/msort/2020-11-04/raw.mda', 'bin_raw': '/experiment/tmp/z_w12m7_20/sglx/ksort/2020-11-04/raw.bin'}}\n",
      "2021-10-19 13:02:14,830 root         INFO     found epochs: ['2500r250a_3500_dir_g0', '2500r250a_3500_dir_g1', '2500r250a_3500_dir_g2']\n",
      "2021-10-19 13:02:14,831 root         INFO     PREPROCESSING sess 2020-11-04 | epoch 2500r250a_3500_dir_g0\n",
      "2021-10-19 13:02:14,832 root         INFO     getting extractors\n",
      "2021-10-19 13:02:15,131 root         INFO     Getting microphone channel(s) ['microphone_0']\n",
      "2021-10-19 13:02:15,132 ceciestunepipe.util.wavutil INFO     sampling rate 25000\n",
      "2021-10-19 13:02:15,133 ceciestunepipe.util.wavutil INFO     saving (1, 191052384)-shaped array as wav in /mnt/sphere/speech_bci/derived_data/z_w12m7_20/2020-11-04/sglx/2500r250a_3500_dir_g0/wav_mic.wav\n",
      "2021-10-19 13:02:41,396 ceciestunepipe.util.wavutil INFO     saving (1, 191052384)-shaped array as npy in /mnt/sphere/speech_bci/derived_data/z_w12m7_20/2020-11-04/sglx/2500r250a_3500_dir_g0/wav_mic.npy\n",
      "2021-10-19 13:02:51,054 root         INFO     Getting sync channel(s) ['sync']\n",
      "2021-10-19 13:02:51,055 ceciestunepipe.util.spikeextractors.extractors.spikeglxrecordingextractor.spikeglxrecordingextractor INFO     getting ttl traces, chan range(0, 7)\n",
      "2021-10-19 13:02:55,092 ceciestunepipe.util.wavutil INFO     sampling rate 25000\n",
      "2021-10-19 13:02:55,093 ceciestunepipe.util.wavutil INFO     saving (1, 191052384)-shaped array as wav in /mnt/sphere/speech_bci/derived_data/z_w12m7_20/2020-11-04/sglx/2500r250a_3500_dir_g0/wav_sync.wav\n",
      "2021-10-19 13:02:58,699 ceciestunepipe.util.wavutil INFO     saving (1, 191052384)-shaped array as npy in /mnt/sphere/speech_bci/derived_data/z_w12m7_20/2020-11-04/sglx/2500r250a_3500_dir_g0/wav_sync.npy\n",
      "2021-10-19 13:03:02,306 root         INFO     Getting sync events from the wav sync channel\n",
      "2021-10-19 13:03:03,621 root         INFO     saving sync events of the wav channel to /mnt/sphere/speech_bci/derived_data/z_w12m7_20/2020-11-04/sglx/2500r250a_3500_dir_g0/wav_sync_evt.npy\n",
      "2021-10-19 13:03:03,644 root         INFO     saving t0 for wav channel to /mnt/sphere/speech_bci/derived_data/z_w12m7_20/2020-11-04/sglx/2500r250a_3500_dir_g0/wav_t0.npy\n",
      "2021-10-19 13:03:18,865 root         INFO     saving sync dict to /mnt/sphere/speech_bci/derived_data/z_w12m7_20/2020-11-04/sglx/2500r250a_3500_dir_g0/wav_sync_dict.pkl\n",
      "2021-10-19 13:03:19,039 root         INFO     PREPROCESSING sess 2020-11-04 | epoch 2500r250a_3500_dir_g1\n",
      "2021-10-19 13:03:19,040 root         INFO     getting extractors\n",
      "2021-10-19 13:03:19,172 root         INFO     Getting microphone channel(s) ['microphone_0']\n",
      "2021-10-19 13:03:19,173 ceciestunepipe.util.wavutil INFO     sampling rate 25000\n",
      "2021-10-19 13:03:19,174 ceciestunepipe.util.wavutil INFO     saving (1, 23393601)-shaped array as wav in /mnt/sphere/speech_bci/derived_data/z_w12m7_20/2020-11-04/sglx/2500r250a_3500_dir_g1/wav_mic.wav\n",
      "2021-10-19 13:03:23,653 ceciestunepipe.util.wavutil INFO     saving (1, 23393601)-shaped array as npy in /mnt/sphere/speech_bci/derived_data/z_w12m7_20/2020-11-04/sglx/2500r250a_3500_dir_g1/wav_mic.npy\n",
      "2021-10-19 13:03:24,941 root         INFO     Getting sync channel(s) ['sync']\n",
      "2021-10-19 13:03:24,942 ceciestunepipe.util.spikeextractors.extractors.spikeglxrecordingextractor.spikeglxrecordingextractor INFO     getting ttl traces, chan range(0, 7)\n",
      "2021-10-19 13:03:25,452 ceciestunepipe.util.wavutil INFO     sampling rate 25000\n",
      "2021-10-19 13:03:25,453 ceciestunepipe.util.wavutil INFO     saving (1, 23393601)-shaped array as wav in /mnt/sphere/speech_bci/derived_data/z_w12m7_20/2020-11-04/sglx/2500r250a_3500_dir_g1/wav_sync.wav\n",
      "2021-10-19 13:03:25,962 ceciestunepipe.util.wavutil INFO     saving (1, 23393601)-shaped array as npy in /mnt/sphere/speech_bci/derived_data/z_w12m7_20/2020-11-04/sglx/2500r250a_3500_dir_g1/wav_sync.npy\n",
      "2021-10-19 13:03:26,423 root         INFO     Getting sync events from the wav sync channel\n",
      "2021-10-19 13:03:26,671 root         INFO     saving sync events of the wav channel to /mnt/sphere/speech_bci/derived_data/z_w12m7_20/2020-11-04/sglx/2500r250a_3500_dir_g1/wav_sync_evt.npy\n",
      "2021-10-19 13:03:26,676 root         INFO     saving t0 for wav channel to /mnt/sphere/speech_bci/derived_data/z_w12m7_20/2020-11-04/sglx/2500r250a_3500_dir_g1/wav_t0.npy\n",
      "2021-10-19 13:03:28,616 root         INFO     saving sync dict to /mnt/sphere/speech_bci/derived_data/z_w12m7_20/2020-11-04/sglx/2500r250a_3500_dir_g1/wav_sync_dict.pkl\n",
      "2021-10-19 13:03:28,636 root         INFO     PREPROCESSING sess 2020-11-04 | epoch 2500r250a_3500_dir_g2\n",
      "2021-10-19 13:03:28,637 root         INFO     getting extractors\n",
      "2021-10-19 13:03:28,734 root         INFO     Getting microphone channel(s) ['microphone_0']\n",
      "2021-10-19 13:03:28,735 ceciestunepipe.util.wavutil INFO     sampling rate 25000\n",
      "2021-10-19 13:03:28,735 ceciestunepipe.util.wavutil INFO     saving (1, 3340000)-shaped array as wav in /mnt/sphere/speech_bci/derived_data/z_w12m7_20/2020-11-04/sglx/2500r250a_3500_dir_g2/wav_mic.wav\n",
      "2021-10-19 13:03:29,432 ceciestunepipe.util.wavutil INFO     saving (1, 3340000)-shaped array as npy in /mnt/sphere/speech_bci/derived_data/z_w12m7_20/2020-11-04/sglx/2500r250a_3500_dir_g2/wav_mic.npy\n",
      "2021-10-19 13:03:29,660 root         INFO     Getting sync channel(s) ['sync']\n",
      "2021-10-19 13:03:29,661 ceciestunepipe.util.spikeextractors.extractors.spikeglxrecordingextractor.spikeglxrecordingextractor INFO     getting ttl traces, chan range(0, 7)\n",
      "2021-10-19 13:03:29,743 ceciestunepipe.util.wavutil INFO     sampling rate 25000\n",
      "2021-10-19 13:03:29,744 ceciestunepipe.util.wavutil INFO     saving (1, 3340000)-shaped array as wav in /mnt/sphere/speech_bci/derived_data/z_w12m7_20/2020-11-04/sglx/2500r250a_3500_dir_g2/wav_sync.wav\n",
      "2021-10-19 13:03:29,827 ceciestunepipe.util.wavutil INFO     saving (1, 3340000)-shaped array as npy in /mnt/sphere/speech_bci/derived_data/z_w12m7_20/2020-11-04/sglx/2500r250a_3500_dir_g2/wav_sync.npy\n",
      "2021-10-19 13:03:29,920 root         INFO     Getting sync events from the wav sync channel\n",
      "2021-10-19 13:03:29,948 root         INFO     saving sync events of the wav channel to /mnt/sphere/speech_bci/derived_data/z_w12m7_20/2020-11-04/sglx/2500r250a_3500_dir_g2/wav_sync_evt.npy\n",
      "2021-10-19 13:03:29,952 root         INFO     saving t0 for wav channel to /mnt/sphere/speech_bci/derived_data/z_w12m7_20/2020-11-04/sglx/2500r250a_3500_dir_g2/wav_t0.npy\n",
      "2021-10-19 13:03:30,252 root         INFO     saving sync dict to /mnt/sphere/speech_bci/derived_data/z_w12m7_20/2020-11-04/sglx/2500r250a_3500_dir_g2/wav_sync_dict.pkl\n",
      "2021-10-19 13:03:30,386 root         INFO     pre-process all runs of sess 2020-11-05\n",
      "2021-10-19 13:03:30,387 ceciestunepipe.file.bcistructure INFO     {'folders': {'bird': '/mnt/sphere/speech_bci/raw_data/z_w12m7_20', 'raw': '/mnt/sphere/speech_bci/raw_data/z_w12m7_20/2020-11-05', 'sglx': '/mnt/sphere/speech_bci/raw_data/z_w12m7_20/2020-11-05/sglx', 'kwik': '/experiment/z_w12m7_20/sglx/kwik/2020-11-05', 'processed': '/mnt/sphere/speech_bci/processed_data/z_w12m7_20/2020-11-05/sglx', 'derived': '/mnt/sphere/speech_bci/derived_data/z_w12m7_20/2020-11-05/sglx', 'tmp': '/experiment/tmp/tmp', 'msort': '/experiment/tmp/z_w12m7_20/sglx/msort/2020-11-05', 'ksort': '/experiment/tmp/z_w12m7_20/sglx/ksort/2020-11-05'}, 'files': {'par': '/experiment/tmp/z_w12m7_20/sglx/ksort/2020-11-05/params.json', 'set': '/mnt/sphere/speech_bci/raw_data/z_w12m7_20/2020-11-05/sglx/settings.isf', 'rig': '/mnt/sphere/speech_bci/raw_data/z_w12m7_20/2020-11-05/sglx/rig.json', 'kwd': '/experiment/z_w12m7_20/sglx/kwik/2020-11-05/stream.kwd', 'kwik': '/experiment/z_w12m7_20/sglx/kwik/2020-11-05/sort_4/spikes.kwik', 'kwe': '/experiment/z_w12m7_20/sglx/kwik/2020-11-05/events.kwe', 'dat_mic': '/mnt/sphere/speech_bci/processed_data/z_w12m7_20/2020-11-05/sglx/dat_mic.mat', 'dat_ap': '/mnt/sphere/speech_bci/processed_data/z_w12m7_20/2020-11-05/sglx/dat_ap.mat', 'allevents': '/mnt/sphere/speech_bci/processed_data/z_w12m7_20/2020-11-05/sglx/dat_all.pkl', 'wav_mic': '/mnt/sphere/speech_bci/derived_data/z_w12m7_20/2020-11-05/sglx/wav_mic.wav', 'mda_raw': '/experiment/tmp/z_w12m7_20/sglx/msort/2020-11-05/raw.mda', 'bin_raw': '/experiment/tmp/z_w12m7_20/sglx/ksort/2020-11-05/raw.bin'}}\n",
      "2021-10-19 13:03:30,390 root         INFO     found epochs: ['dir_g0', 'dir_m101_extref_g0', 'dir_m101_g0']\n",
      "2021-10-19 13:03:30,391 root         INFO     PREPROCESSING sess 2020-11-05 | epoch dir_g0\n",
      "2021-10-19 13:03:30,391 root         INFO     getting extractors\n",
      "2021-10-19 13:03:30,499 root         INFO     Getting microphone channel(s) ['microphone_0']\n",
      "2021-10-19 13:03:30,500 ceciestunepipe.util.wavutil INFO     sampling rate 25000\n",
      "2021-10-19 13:03:30,501 ceciestunepipe.util.wavutil INFO     saving (1, 141651680)-shaped array as wav in /mnt/sphere/speech_bci/derived_data/z_w12m7_20/2020-11-05/sglx/dir_g0/wav_mic.wav\n",
      "2021-10-19 13:03:58,467 ceciestunepipe.util.wavutil INFO     saving (1, 141651680)-shaped array as npy in /mnt/sphere/speech_bci/derived_data/z_w12m7_20/2020-11-05/sglx/dir_g0/wav_mic.npy\n",
      "2021-10-19 13:04:05,663 root         INFO     Getting sync channel(s) ['sync']\n",
      "2021-10-19 13:04:05,664 ceciestunepipe.util.spikeextractors.extractors.spikeglxrecordingextractor.spikeglxrecordingextractor INFO     getting ttl traces, chan range(0, 7)\n",
      "2021-10-19 13:04:08,696 ceciestunepipe.util.wavutil INFO     sampling rate 25000\n",
      "2021-10-19 13:04:08,697 ceciestunepipe.util.wavutil INFO     saving (1, 141651680)-shaped array as wav in /mnt/sphere/speech_bci/derived_data/z_w12m7_20/2020-11-05/sglx/dir_g0/wav_sync.wav\n",
      "2021-10-19 13:04:11,368 ceciestunepipe.util.wavutil INFO     saving (1, 141651680)-shaped array as npy in /mnt/sphere/speech_bci/derived_data/z_w12m7_20/2020-11-05/sglx/dir_g0/wav_sync.npy\n",
      "2021-10-19 13:04:14,017 root         INFO     Getting sync events from the wav sync channel\n",
      "2021-10-19 13:04:14,947 root         INFO     saving sync events of the wav channel to /mnt/sphere/speech_bci/derived_data/z_w12m7_20/2020-11-05/sglx/dir_g0/wav_sync_evt.npy\n",
      "2021-10-19 13:04:14,954 root         INFO     saving t0 for wav channel to /mnt/sphere/speech_bci/derived_data/z_w12m7_20/2020-11-05/sglx/dir_g0/wav_t0.npy\n",
      "2021-10-19 13:04:26,068 root         INFO     saving sync dict to /mnt/sphere/speech_bci/derived_data/z_w12m7_20/2020-11-05/sglx/dir_g0/wav_sync_dict.pkl\n",
      "2021-10-19 13:04:26,092 root         INFO     PREPROCESSING sess 2020-11-05 | epoch dir_m101_extref_g0\n",
      "2021-10-19 13:04:26,093 root         INFO     getting extractors\n",
      "2021-10-19 13:04:26,213 root         INFO     Getting microphone channel(s) ['microphone_0']\n",
      "2021-10-19 13:04:26,214 ceciestunepipe.util.wavutil INFO     sampling rate 25000\n",
      "2021-10-19 13:04:26,215 ceciestunepipe.util.wavutil INFO     saving (1, 10843457)-shaped array as wav in /mnt/sphere/speech_bci/derived_data/z_w12m7_20/2020-11-05/sglx/dir_m101_extref_g0/wav_mic.wav\n",
      "2021-10-19 13:04:28,274 ceciestunepipe.util.wavutil INFO     saving (1, 10843457)-shaped array as npy in /mnt/sphere/speech_bci/derived_data/z_w12m7_20/2020-11-05/sglx/dir_m101_extref_g0/wav_mic.npy\n",
      "2021-10-19 13:04:28,873 root         INFO     Getting sync channel(s) ['sync']\n",
      "2021-10-19 13:04:28,874 ceciestunepipe.util.spikeextractors.extractors.spikeglxrecordingextractor.spikeglxrecordingextractor INFO     getting ttl traces, chan range(0, 7)\n",
      "2021-10-19 13:04:29,116 ceciestunepipe.util.wavutil INFO     sampling rate 25000\n",
      "2021-10-19 13:04:29,117 ceciestunepipe.util.wavutil INFO     saving (1, 10843457)-shaped array as wav in /mnt/sphere/speech_bci/derived_data/z_w12m7_20/2020-11-05/sglx/dir_m101_extref_g0/wav_sync.wav\n",
      "2021-10-19 13:04:29,322 ceciestunepipe.util.wavutil INFO     saving (1, 10843457)-shaped array as npy in /mnt/sphere/speech_bci/derived_data/z_w12m7_20/2020-11-05/sglx/dir_m101_extref_g0/wav_sync.npy\n",
      "2021-10-19 13:04:29,531 root         INFO     Getting sync events from the wav sync channel\n",
      "2021-10-19 13:04:29,622 root         INFO     saving sync events of the wav channel to /mnt/sphere/speech_bci/derived_data/z_w12m7_20/2020-11-05/sglx/dir_m101_extref_g0/wav_sync_evt.npy\n",
      "2021-10-19 13:04:29,626 root         INFO     saving t0 for wav channel to /mnt/sphere/speech_bci/derived_data/z_w12m7_20/2020-11-05/sglx/dir_m101_extref_g0/wav_t0.npy\n",
      "2021-10-19 13:04:30,510 root         INFO     saving sync dict to /mnt/sphere/speech_bci/derived_data/z_w12m7_20/2020-11-05/sglx/dir_m101_extref_g0/wav_sync_dict.pkl\n",
      "2021-10-19 13:04:30,515 root         INFO     PREPROCESSING sess 2020-11-05 | epoch dir_m101_g0\n",
      "2021-10-19 13:04:30,516 root         INFO     getting extractors\n",
      "2021-10-19 13:04:30,610 root         INFO     Getting microphone channel(s) ['microphone_0']\n",
      "2021-10-19 13:04:30,611 ceciestunepipe.util.wavutil INFO     sampling rate 25000\n",
      "2021-10-19 13:04:30,612 ceciestunepipe.util.wavutil INFO     saving (1, 13042785)-shaped array as wav in /mnt/sphere/speech_bci/derived_data/z_w12m7_20/2020-11-05/sglx/dir_m101_g0/wav_mic.wav\n",
      "2021-10-19 13:04:33,028 ceciestunepipe.util.wavutil INFO     saving (1, 13042785)-shaped array as npy in /mnt/sphere/speech_bci/derived_data/z_w12m7_20/2020-11-05/sglx/dir_m101_g0/wav_mic.npy\n",
      "2021-10-19 13:04:33,752 root         INFO     Getting sync channel(s) ['sync']\n",
      "2021-10-19 13:04:33,753 ceciestunepipe.util.spikeextractors.extractors.spikeglxrecordingextractor.spikeglxrecordingextractor INFO     getting ttl traces, chan range(0, 7)\n",
      "2021-10-19 13:04:34,039 ceciestunepipe.util.wavutil INFO     sampling rate 25000\n",
      "2021-10-19 13:04:34,040 ceciestunepipe.util.wavutil INFO     saving (1, 13042785)-shaped array as wav in /mnt/sphere/speech_bci/derived_data/z_w12m7_20/2020-11-05/sglx/dir_m101_g0/wav_sync.wav\n",
      "2021-10-19 13:04:34,284 ceciestunepipe.util.wavutil INFO     saving (1, 13042785)-shaped array as npy in /mnt/sphere/speech_bci/derived_data/z_w12m7_20/2020-11-05/sglx/dir_m101_g0/wav_sync.npy\n",
      "2021-10-19 13:04:34,537 root         INFO     Getting sync events from the wav sync channel\n",
      "2021-10-19 13:04:34,634 root         INFO     saving sync events of the wav channel to /mnt/sphere/speech_bci/derived_data/z_w12m7_20/2020-11-05/sglx/dir_m101_g0/wav_sync_evt.npy\n",
      "2021-10-19 13:04:34,638 root         INFO     saving t0 for wav channel to /mnt/sphere/speech_bci/derived_data/z_w12m7_20/2020-11-05/sglx/dir_m101_g0/wav_t0.npy\n",
      "2021-10-19 13:04:35,675 root         INFO     saving sync dict to /mnt/sphere/speech_bci/derived_data/z_w12m7_20/2020-11-05/sglx/dir_m101_g0/wav_sync_dict.pkl\n",
      "2021-10-19 13:04:35,750 root         INFO     pre-process all runs of sess 2020-11-06\n",
      "2021-10-19 13:04:35,751 ceciestunepipe.file.bcistructure INFO     {'folders': {'bird': '/mnt/sphere/speech_bci/raw_data/z_w12m7_20', 'raw': '/mnt/sphere/speech_bci/raw_data/z_w12m7_20/2020-11-06', 'sglx': '/mnt/sphere/speech_bci/raw_data/z_w12m7_20/2020-11-06/sglx', 'kwik': '/experiment/z_w12m7_20/sglx/kwik/2020-11-06', 'processed': '/mnt/sphere/speech_bci/processed_data/z_w12m7_20/2020-11-06/sglx', 'derived': '/mnt/sphere/speech_bci/derived_data/z_w12m7_20/2020-11-06/sglx', 'tmp': '/experiment/tmp/tmp', 'msort': '/experiment/tmp/z_w12m7_20/sglx/msort/2020-11-06', 'ksort': '/experiment/tmp/z_w12m7_20/sglx/ksort/2020-11-06'}, 'files': {'par': '/experiment/tmp/z_w12m7_20/sglx/ksort/2020-11-06/params.json', 'set': '/mnt/sphere/speech_bci/raw_data/z_w12m7_20/2020-11-06/sglx/settings.isf', 'rig': '/mnt/sphere/speech_bci/raw_data/z_w12m7_20/2020-11-06/sglx/rig.json', 'kwd': '/experiment/z_w12m7_20/sglx/kwik/2020-11-06/stream.kwd', 'kwik': '/experiment/z_w12m7_20/sglx/kwik/2020-11-06/sort_4/spikes.kwik', 'kwe': '/experiment/z_w12m7_20/sglx/kwik/2020-11-06/events.kwe', 'dat_mic': '/mnt/sphere/speech_bci/processed_data/z_w12m7_20/2020-11-06/sglx/dat_mic.mat', 'dat_ap': '/mnt/sphere/speech_bci/processed_data/z_w12m7_20/2020-11-06/sglx/dat_ap.mat', 'allevents': '/mnt/sphere/speech_bci/processed_data/z_w12m7_20/2020-11-06/sglx/dat_all.pkl', 'wav_mic': '/mnt/sphere/speech_bci/derived_data/z_w12m7_20/2020-11-06/sglx/wav_mic.wav', 'mda_raw': '/experiment/tmp/z_w12m7_20/sglx/msort/2020-11-06/raw.mda', 'bin_raw': '/experiment/tmp/z_w12m7_20/sglx/ksort/2020-11-06/raw.bin'}}\n",
      "2021-10-19 13:04:35,755 root         INFO     found epochs: ['dir_g0']\n",
      "2021-10-19 13:04:35,756 root         INFO     PREPROCESSING sess 2020-11-06 | epoch dir_g0\n",
      "2021-10-19 13:04:35,756 root         INFO     getting extractors\n",
      "2021-10-19 13:04:35,913 root         INFO     Getting microphone channel(s) ['microphone_0']\n",
      "2021-10-19 13:04:35,914 ceciestunepipe.util.wavutil INFO     sampling rate 25000\n",
      "2021-10-19 13:04:35,915 ceciestunepipe.util.wavutil INFO     saving (1, 349616384)-shaped array as wav in /mnt/sphere/speech_bci/derived_data/z_w12m7_20/2020-11-06/sglx/dir_g0/wav_mic.wav\n",
      "2021-10-19 13:06:11,009 ceciestunepipe.util.wavutil INFO     saving (1, 349616384)-shaped array as npy in /mnt/sphere/speech_bci/derived_data/z_w12m7_20/2020-11-06/sglx/dir_g0/wav_mic.npy\n",
      "2021-10-19 13:06:28,862 root         INFO     Getting sync channel(s) ['sync']\n",
      "2021-10-19 13:06:28,863 ceciestunepipe.util.spikeextractors.extractors.spikeglxrecordingextractor.spikeglxrecordingextractor INFO     getting ttl traces, chan range(0, 7)\n",
      "2021-10-19 13:06:43,417 ceciestunepipe.util.wavutil INFO     sampling rate 25000\n",
      "2021-10-19 13:06:43,418 ceciestunepipe.util.wavutil INFO     saving (1, 349616384)-shaped array as wav in /mnt/sphere/speech_bci/derived_data/z_w12m7_20/2020-11-06/sglx/dir_g0/wav_sync.wav\n",
      "2021-10-19 13:06:50,096 ceciestunepipe.util.wavutil INFO     saving (1, 349616384)-shaped array as npy in /mnt/sphere/speech_bci/derived_data/z_w12m7_20/2020-11-06/sglx/dir_g0/wav_sync.npy\n",
      "2021-10-19 13:06:56,625 root         INFO     Getting sync events from the wav sync channel\n",
      "2021-10-19 13:07:00,034 root         INFO     saving sync events of the wav channel to /mnt/sphere/speech_bci/derived_data/z_w12m7_20/2020-11-06/sglx/dir_g0/wav_sync_evt.npy\n",
      "2021-10-19 13:07:00,047 root         INFO     saving t0 for wav channel to /mnt/sphere/speech_bci/derived_data/z_w12m7_20/2020-11-06/sglx/dir_g0/wav_t0.npy\n",
      "2021-10-19 13:07:34,819 root         INFO     saving sync dict to /mnt/sphere/speech_bci/derived_data/z_w12m7_20/2020-11-06/sglx/dir_g0/wav_sync_dict.pkl\n"
     ]
    }
   ],
   "source": [
    "all_sess_dict = {}\n",
    "\n",
    "for one_sess in sess_list[:]:\n",
    "    sess_par['sess'] = one_sess\n",
    "    preprocess_session(sess_par)"
   ]
  },
  {
   "cell_type": "code",
   "execution_count": 22,
   "metadata": {},
   "outputs": [
    {
     "data": {
      "text/plain": [
       "{'bird': 'z_w12m7_20',\n",
       " 'sess': '2020-11-06',\n",
       " 'probes': ['probe_0'],\n",
       " 'mic_list': ['microphone_0'],\n",
       " 'sort': 4}"
      ]
     },
     "execution_count": 22,
     "metadata": {},
     "output_type": "execute_result"
    }
   ],
   "source": [
    "sess_par"
   ]
  },
  {
   "cell_type": "code",
   "execution_count": 23,
   "metadata": {},
   "outputs": [],
   "source": [
    "# Search bouts"
   ]
  },
  {
   "cell_type": "markdown",
   "metadata": {},
   "source": [
    "## search bouts for those sessions"
   ]
  },
  {
   "cell_type": "code",
   "execution_count": 7,
   "metadata": {},
   "outputs": [],
   "source": [
    "from ceciestunepipe.util.sound import boutsearch as bs\n",
    "from ceciestunepipe.util import wavutil as wu\n",
    "\n",
    "from joblib import Parallel, delayed\n",
    "import pickle\n",
    "import sys"
   ]
  },
  {
   "cell_type": "code",
   "execution_count": 25,
   "metadata": {},
   "outputs": [
    {
     "data": {
      "text/plain": [
       "<module 'ceciestunepipe.util.sound.boutsearch' from '/home/finch/repos/ceciestunepipe/ceciestunepipe/util/sound/boutsearch.py'>"
      ]
     },
     "execution_count": 25,
     "metadata": {},
     "output_type": "execute_result"
    }
   ],
   "source": [
    "reload(bs)"
   ]
  },
  {
   "cell_type": "code",
   "execution_count": 8,
   "metadata": {},
   "outputs": [],
   "source": [
    "def sess_file_id(f_path):\n",
    "    n = int(os.path.split(f_path)[1].split('-')[-1].split('.wav')[0])\n",
    "    return n\n",
    "\n",
    "\n",
    "def get_all_day_bouts(sess_par: dict, hparams:dict, n_jobs: int=12, ephys_software='sglx', \n",
    "                     parallel=True) -> pd.DataFrame:\n",
    "    \n",
    "    logger.info('Will search for bouts through all session {}, {}'.format(sess_par['bird'], sess_par['sess']))\n",
    "    exp_struct = et.get_exp_struct(sess_par['bird'], sess_par['sess'], ephys_software=ephys_software)\n",
    "\n",
    "    # get all the paths to the wav files of the epochs of the day   \n",
    "    source_folder = exp_struct['folders']['derived']\n",
    "    logger.info('looking for mic wav files in {}'.format(source_folder))\n",
    "    wav_path_list = et.get_sgl_files_epochs(source_folder, file_filter='*wav_mic.wav')\n",
    "    wav_path_list.sort()\n",
    "    logger.info('Found {} files'.format(len(wav_path_list)))\n",
    "    print(wav_path_list)\n",
    "    \n",
    "    get_file_bouts = lambda path: bs.get_epoch_bouts(path, hparams)\n",
    "    # Go parallel through all the paths in the day, get a list of all the pandas dataframes for each file\n",
    "    if parallel:\n",
    "        sess_pd_list = Parallel(n_jobs=n_jobs, verbose=100, prefer='threads')(delayed(get_file_bouts)(i) for i in wav_path_list)\n",
    "    else:\n",
    "        sess_pd_list = [get_file_bouts(i) for i in wav_path_list]\n",
    "    \n",
    "    #concatenate the file and return it, eventually write to a pickle\n",
    "    sess_bout_pd = pd.concat(sess_pd_list)\n",
    "    return sess_bout_pd\n",
    "\n",
    "def save_auto_bouts(sess_bout_pd, sess_par, hparams):\n",
    "    exp_struct = et.get_exp_struct(sess_par['bird'], sess_par['sess'], ephys_software='bouts_sglx')\n",
    "    #sess_bouts_dir = os.path.join(exp_struct['folders']['derived'], 'bouts_ceciestunepipe')\n",
    "    sess_bouts_dir = exp_struct['folders']['derived']\n",
    "\n",
    "    sess_bouts_path = os.path.join(sess_bouts_dir, hparams['bout_auto_file'])\n",
    "    hparams_pickle_path = os.path.join(sess_bouts_dir, 'bout_search_params.pickle')\n",
    "\n",
    "    os.makedirs(sess_bouts_dir, exist_ok=True)\n",
    "    logger.info('saving bouts pandas to ' + sess_bouts_path)\n",
    "    sess_bout_pd.to_pickle(sess_bouts_path)\n",
    "\n",
    "    logger.info('saving bout detect parameters dict to ' + hparams_pickle_path)\n",
    "    with open(hparams_pickle_path, 'wb') as fh:\n",
    "        pickle.dump(hparams, fh)"
   ]
  },
  {
   "cell_type": "code",
   "execution_count": 9,
   "metadata": {},
   "outputs": [],
   "source": [
    "## need to enter 'sample_rate' from the file!\n",
    "hparams = {\n",
    "    # spectrogram\n",
    "    'num_freq':1024, #1024# how many channels to use in a spectrogram #\n",
    "    'preemphasis':0.97, \n",
    "    'frame_shift_ms':5, # step size for fft\n",
    "    'frame_length_ms':10, #128 # frame length for fft FRAME SAMPLES < NUM_FREQ!!!\n",
    "    'min_level_db':-55, # minimum threshold db for computing spe \n",
    "    'ref_level_db':110, # reference db for computing spec\n",
    "    #'sample_rate':None, # sample rate of your data\n",
    "    \n",
    "    # spectrograms\n",
    "    'mel_filter': False, # should a mel filter be used?\n",
    "    'num_mels':1024, # how many channels to use in the mel-spectrogram\n",
    "    'fmin': 300, # low frequency cutoff for mel filter\n",
    "    'fmax': 12000, # high frequency cutoff for mel filter\n",
    "    \n",
    "    # spectrogram inversion\n",
    "    'max_iters':200,\n",
    "    'griffin_lim_iters':20,\n",
    "    'power':1.5,\n",
    "\n",
    "    # Added for the searching\n",
    "    'read_wav_fun': wu.read_wav_chan, # function for loading the wav_like_stream (has to returns fs, ndarray)\n",
    "    'file_order_fun': sess_file_id, # function for extracting the file id within the session\n",
    "    'min_segment': 10, # Minimum length of supra_threshold to consider a 'syllable' (ms)\n",
    "    'min_silence': 3000, # Minmum distance between groups of syllables to consider separate bouts (ms)\n",
    "    'min_bout': 50, # min bout duration (ms)\n",
    "    'peak_thresh_rms': 0.55, # threshold (rms) for peak acceptance,\n",
    "    'thresh_rms': 0.25, # threshold for detection of syllables\n",
    "    'mean_syl_rms_thresh': 0.3, #threshold for acceptance of mean rms across the syllable (relative to rms of the file)\n",
    "    'max_bout': 10000, #exclude bouts too long\n",
    "    'l_p_r_thresh': 100, # threshold for n of len_ms/peaks (typycally about 2-3 syllable spans\n",
    "    \n",
    "    'waveform_edges': 200, #get number of ms before and after the edges of the bout for the waveform sample\n",
    "    \n",
    "    'bout_auto_file': 'bout_auto.pickle', # extension for saving the auto found files\n",
    "    'bout_curated_file': 'bout_checked.pickle', #extension for manually curated files (coming soon)\n",
    "    }"
   ]
  },
  {
   "cell_type": "code",
   "execution_count": 12,
   "metadata": {},
   "outputs": [
    {
     "data": {
      "text/plain": [
       "['2020-11-04', '2020-11-05', '2020-11-06']"
      ]
     },
     "execution_count": 12,
     "metadata": {},
     "output_type": "execute_result"
    }
   ],
   "source": [
    "sess_list"
   ]
  },
  {
   "cell_type": "code",
   "execution_count": 14,
   "metadata": {
    "tags": []
   },
   "outputs": [
    {
     "name": "stderr",
     "output_type": "stream",
     "text": [
      "2021-11-18 16:52:59,395 root         INFO     Will search for bouts through all session z_w12m7_20, 2020-11-06\n",
      "2021-11-18 16:52:59,396 root         INFO     looking for mic wav files in /mnt/sphere/speech_bci/derived_data/z_w12m7_20/2020-11-06/sglx\n",
      "2021-11-18 16:52:59,413 root         INFO     Found 1 files\n",
      "2021-11-18 16:52:59,414 ceciestunepipe.util.sound.boutsearch INFO     Getting bouts for long file /mnt/sphere/speech_bci/derived_data/z_w12m7_20/2020-11-06/sglx/dir_g0/wav_mic.wav\n"
     ]
    },
    {
     "name": "stdout",
     "output_type": "stream",
     "text": [
      "['/mnt/sphere/speech_bci/derived_data/z_w12m7_20/2020-11-06/sglx/dir_g0/wav_mic.wav']\n",
      "tu vieja file /mnt/sphere/speech_bci/derived_data/z_w12m7_20/2020-11-06/sglx/dir_g0/wav_mic.wav\n"
     ]
    },
    {
     "name": "stderr",
     "output_type": "stream",
     "text": [
      "2021-11-18 16:52:59,519 ceciestunepipe.util.sound.boutsearch INFO     splitting file into 4 chunks\n"
     ]
    },
    {
     "data": {
      "application/vnd.jupyter.widget-view+json": {
       "model_id": "0fda68b28d5a49a9869f57afed5ec791",
       "version_major": 2,
       "version_minor": 0
      },
      "text/plain": [
       "  0%|          | 0/4 [00:00<?, ?it/s]"
      ]
     },
     "metadata": {},
     "output_type": "display_data"
    },
    {
     "name": "stderr",
     "output_type": "stream",
     "text": [
      "2021-11-18 16:57:01,999 ceciestunepipe.util.sound.boutsearch INFO     saving bout detect parameters dict to /mnt/sphere/speech_bci/derived_data/z_w12m7_20/2020-11-06/sglx/dir_g0/bout_search_params.pickle\n",
      "2021-11-18 16:57:02,007 ceciestunepipe.util.sound.boutsearch INFO     saving bouts pandas to /mnt/sphere/speech_bci/derived_data/z_w12m7_20/2020-11-06/sglx/dir_g0/bout_auto.pickle\n",
      "2021-11-18 16:57:02,559 root         INFO     saving bouts pandas to /mnt/sphere/speech_bci/derived_data/z_w12m7_20/2020-11-06/bouts_sglx/bout_auto.pickle\n",
      "2021-11-18 16:57:03,105 root         INFO     saving bout detect parameters dict to /mnt/sphere/speech_bci/derived_data/z_w12m7_20/2020-11-06/bouts_sglx/bout_search_params.pickle\n"
     ]
    }
   ],
   "source": [
    "all_sessions = sess_list[-1:]\n",
    "#all_sessions = ['2021-07-18']\n",
    "\n",
    "for sess in all_sessions:\n",
    "    sess_par['sess'] = sess\n",
    "    sess_bout_pd = get_all_day_bouts(sess_par, hparams, parallel=False)\n",
    "    save_auto_bouts(sess_bout_pd, sess_par, hparams)\n",
    "    sess_bouts_folder = os.path.join(exp_struct['folders']['derived'], 'bouts')\n",
    "    #bouts_to_wavs(sess_bout_pd, sess_par, hparams, sess_bouts_folder)"
   ]
  },
  {
   "cell_type": "code",
   "execution_count": 13,
   "metadata": {},
   "outputs": [
    {
     "data": {
      "text/plain": [
       "\u001b[0;31mSignature:\u001b[0m\n",
       "\u001b[0mget_all_day_bouts\u001b[0m\u001b[0;34m(\u001b[0m\u001b[0;34m\u001b[0m\n",
       "\u001b[0;34m\u001b[0m    \u001b[0msess_par\u001b[0m\u001b[0;34m:\u001b[0m \u001b[0mdict\u001b[0m\u001b[0;34m,\u001b[0m\u001b[0;34m\u001b[0m\n",
       "\u001b[0;34m\u001b[0m    \u001b[0mhparams\u001b[0m\u001b[0;34m:\u001b[0m \u001b[0mdict\u001b[0m\u001b[0;34m,\u001b[0m\u001b[0;34m\u001b[0m\n",
       "\u001b[0;34m\u001b[0m    \u001b[0mn_jobs\u001b[0m\u001b[0;34m:\u001b[0m \u001b[0mint\u001b[0m \u001b[0;34m=\u001b[0m \u001b[0;36m12\u001b[0m\u001b[0;34m,\u001b[0m\u001b[0;34m\u001b[0m\n",
       "\u001b[0;34m\u001b[0m    \u001b[0mephys_software\u001b[0m\u001b[0;34m=\u001b[0m\u001b[0;34m'sglx'\u001b[0m\u001b[0;34m,\u001b[0m\u001b[0;34m\u001b[0m\n",
       "\u001b[0;34m\u001b[0m    \u001b[0mparallel\u001b[0m\u001b[0;34m=\u001b[0m\u001b[0;32mTrue\u001b[0m\u001b[0;34m,\u001b[0m\u001b[0;34m\u001b[0m\n",
       "\u001b[0;34m\u001b[0m\u001b[0;34m)\u001b[0m \u001b[0;34m->\u001b[0m \u001b[0mpandas\u001b[0m\u001b[0;34m.\u001b[0m\u001b[0mcore\u001b[0m\u001b[0;34m.\u001b[0m\u001b[0mframe\u001b[0m\u001b[0;34m.\u001b[0m\u001b[0mDataFrame\u001b[0m\u001b[0;34m\u001b[0m\u001b[0;34m\u001b[0m\u001b[0m\n",
       "\u001b[0;31mDocstring:\u001b[0m <no docstring>\n",
       "\u001b[0;31mSource:\u001b[0m   \n",
       "\u001b[0;32mdef\u001b[0m \u001b[0mget_all_day_bouts\u001b[0m\u001b[0;34m(\u001b[0m\u001b[0msess_par\u001b[0m\u001b[0;34m:\u001b[0m \u001b[0mdict\u001b[0m\u001b[0;34m,\u001b[0m \u001b[0mhparams\u001b[0m\u001b[0;34m:\u001b[0m\u001b[0mdict\u001b[0m\u001b[0;34m,\u001b[0m \u001b[0mn_jobs\u001b[0m\u001b[0;34m:\u001b[0m \u001b[0mint\u001b[0m\u001b[0;34m=\u001b[0m\u001b[0;36m12\u001b[0m\u001b[0;34m,\u001b[0m \u001b[0mephys_software\u001b[0m\u001b[0;34m=\u001b[0m\u001b[0;34m'sglx'\u001b[0m\u001b[0;34m,\u001b[0m \u001b[0;34m\u001b[0m\n",
       "\u001b[0;34m\u001b[0m                     \u001b[0mparallel\u001b[0m\u001b[0;34m=\u001b[0m\u001b[0;32mTrue\u001b[0m\u001b[0;34m)\u001b[0m \u001b[0;34m->\u001b[0m \u001b[0mpd\u001b[0m\u001b[0;34m.\u001b[0m\u001b[0mDataFrame\u001b[0m\u001b[0;34m:\u001b[0m\u001b[0;34m\u001b[0m\n",
       "\u001b[0;34m\u001b[0m    \u001b[0;34m\u001b[0m\n",
       "\u001b[0;34m\u001b[0m    \u001b[0mlogger\u001b[0m\u001b[0;34m.\u001b[0m\u001b[0minfo\u001b[0m\u001b[0;34m(\u001b[0m\u001b[0;34m'Will search for bouts through all session {}, {}'\u001b[0m\u001b[0;34m.\u001b[0m\u001b[0mformat\u001b[0m\u001b[0;34m(\u001b[0m\u001b[0msess_par\u001b[0m\u001b[0;34m[\u001b[0m\u001b[0;34m'bird'\u001b[0m\u001b[0;34m]\u001b[0m\u001b[0;34m,\u001b[0m \u001b[0msess_par\u001b[0m\u001b[0;34m[\u001b[0m\u001b[0;34m'sess'\u001b[0m\u001b[0;34m]\u001b[0m\u001b[0;34m)\u001b[0m\u001b[0;34m)\u001b[0m\u001b[0;34m\u001b[0m\n",
       "\u001b[0;34m\u001b[0m    \u001b[0mexp_struct\u001b[0m \u001b[0;34m=\u001b[0m \u001b[0met\u001b[0m\u001b[0;34m.\u001b[0m\u001b[0mget_exp_struct\u001b[0m\u001b[0;34m(\u001b[0m\u001b[0msess_par\u001b[0m\u001b[0;34m[\u001b[0m\u001b[0;34m'bird'\u001b[0m\u001b[0;34m]\u001b[0m\u001b[0;34m,\u001b[0m \u001b[0msess_par\u001b[0m\u001b[0;34m[\u001b[0m\u001b[0;34m'sess'\u001b[0m\u001b[0;34m]\u001b[0m\u001b[0;34m,\u001b[0m \u001b[0mephys_software\u001b[0m\u001b[0;34m=\u001b[0m\u001b[0mephys_software\u001b[0m\u001b[0;34m)\u001b[0m\u001b[0;34m\u001b[0m\n",
       "\u001b[0;34m\u001b[0m\u001b[0;34m\u001b[0m\n",
       "\u001b[0;34m\u001b[0m    \u001b[0;31m# get all the paths to the wav files of the epochs of the day   \u001b[0m\u001b[0;34m\u001b[0m\n",
       "\u001b[0;34m\u001b[0m    \u001b[0msource_folder\u001b[0m \u001b[0;34m=\u001b[0m \u001b[0mexp_struct\u001b[0m\u001b[0;34m[\u001b[0m\u001b[0;34m'folders'\u001b[0m\u001b[0;34m]\u001b[0m\u001b[0;34m[\u001b[0m\u001b[0;34m'derived'\u001b[0m\u001b[0;34m]\u001b[0m\u001b[0;34m\u001b[0m\n",
       "\u001b[0;34m\u001b[0m    \u001b[0mwav_path_list\u001b[0m \u001b[0;34m=\u001b[0m \u001b[0met\u001b[0m\u001b[0;34m.\u001b[0m\u001b[0mget_sgl_files_epochs\u001b[0m\u001b[0;34m(\u001b[0m\u001b[0msource_folder\u001b[0m\u001b[0;34m,\u001b[0m \u001b[0mfile_filter\u001b[0m\u001b[0;34m=\u001b[0m\u001b[0;34m'*wav_mic.wav'\u001b[0m\u001b[0;34m)\u001b[0m\u001b[0;34m\u001b[0m\n",
       "\u001b[0;34m\u001b[0m    \u001b[0mwav_path_list\u001b[0m\u001b[0;34m.\u001b[0m\u001b[0msort\u001b[0m\u001b[0;34m(\u001b[0m\u001b[0;34m)\u001b[0m\u001b[0;34m\u001b[0m\n",
       "\u001b[0;34m\u001b[0m    \u001b[0mlogger\u001b[0m\u001b[0;34m.\u001b[0m\u001b[0minfo\u001b[0m\u001b[0;34m(\u001b[0m\u001b[0;34m'Found {} files'\u001b[0m\u001b[0;34m.\u001b[0m\u001b[0mformat\u001b[0m\u001b[0;34m(\u001b[0m\u001b[0mlen\u001b[0m\u001b[0;34m(\u001b[0m\u001b[0mwav_path_list\u001b[0m\u001b[0;34m)\u001b[0m\u001b[0;34m)\u001b[0m\u001b[0;34m)\u001b[0m\u001b[0;34m\u001b[0m\n",
       "\u001b[0;34m\u001b[0m    \u001b[0mprint\u001b[0m\u001b[0;34m(\u001b[0m\u001b[0mwav_path_list\u001b[0m\u001b[0;34m)\u001b[0m\u001b[0;34m\u001b[0m\n",
       "\u001b[0;34m\u001b[0m    \u001b[0;34m\u001b[0m\n",
       "\u001b[0;34m\u001b[0m    \u001b[0mget_file_bouts\u001b[0m \u001b[0;34m=\u001b[0m \u001b[0;32mlambda\u001b[0m \u001b[0mpath\u001b[0m\u001b[0;34m:\u001b[0m \u001b[0mbs\u001b[0m\u001b[0;34m.\u001b[0m\u001b[0mget_epoch_bouts\u001b[0m\u001b[0;34m(\u001b[0m\u001b[0mpath\u001b[0m\u001b[0;34m,\u001b[0m \u001b[0mhparams\u001b[0m\u001b[0;34m)\u001b[0m\u001b[0;34m\u001b[0m\n",
       "\u001b[0;34m\u001b[0m    \u001b[0;31m# Go parallel through all the paths in the day, get a list of all the pandas dataframes for each file\u001b[0m\u001b[0;34m\u001b[0m\n",
       "\u001b[0;34m\u001b[0m    \u001b[0;32mif\u001b[0m \u001b[0mparallel\u001b[0m\u001b[0;34m:\u001b[0m\u001b[0;34m\u001b[0m\n",
       "\u001b[0;34m\u001b[0m        \u001b[0msess_pd_list\u001b[0m \u001b[0;34m=\u001b[0m \u001b[0mParallel\u001b[0m\u001b[0;34m(\u001b[0m\u001b[0mn_jobs\u001b[0m\u001b[0;34m=\u001b[0m\u001b[0mn_jobs\u001b[0m\u001b[0;34m,\u001b[0m \u001b[0mverbose\u001b[0m\u001b[0;34m=\u001b[0m\u001b[0;36m100\u001b[0m\u001b[0;34m,\u001b[0m \u001b[0mprefer\u001b[0m\u001b[0;34m=\u001b[0m\u001b[0;34m'threads'\u001b[0m\u001b[0;34m)\u001b[0m\u001b[0;34m(\u001b[0m\u001b[0mdelayed\u001b[0m\u001b[0;34m(\u001b[0m\u001b[0mget_file_bouts\u001b[0m\u001b[0;34m)\u001b[0m\u001b[0;34m(\u001b[0m\u001b[0mi\u001b[0m\u001b[0;34m)\u001b[0m \u001b[0;32mfor\u001b[0m \u001b[0mi\u001b[0m \u001b[0;32min\u001b[0m \u001b[0mwav_path_list\u001b[0m\u001b[0;34m)\u001b[0m\u001b[0;34m\u001b[0m\n",
       "\u001b[0;34m\u001b[0m    \u001b[0;32melse\u001b[0m\u001b[0;34m:\u001b[0m\u001b[0;34m\u001b[0m\n",
       "\u001b[0;34m\u001b[0m        \u001b[0msess_pd_list\u001b[0m \u001b[0;34m=\u001b[0m \u001b[0;34m[\u001b[0m\u001b[0mget_file_bouts\u001b[0m\u001b[0;34m(\u001b[0m\u001b[0mi\u001b[0m\u001b[0;34m)\u001b[0m \u001b[0;32mfor\u001b[0m \u001b[0mi\u001b[0m \u001b[0;32min\u001b[0m \u001b[0mwav_path_list\u001b[0m\u001b[0;34m]\u001b[0m\u001b[0;34m\u001b[0m\n",
       "\u001b[0;34m\u001b[0m    \u001b[0;34m\u001b[0m\n",
       "\u001b[0;34m\u001b[0m    \u001b[0;31m#concatenate the file and return it, eventually write to a pickle\u001b[0m\u001b[0;34m\u001b[0m\n",
       "\u001b[0;34m\u001b[0m    \u001b[0msess_bout_pd\u001b[0m \u001b[0;34m=\u001b[0m \u001b[0mpd\u001b[0m\u001b[0;34m.\u001b[0m\u001b[0mconcat\u001b[0m\u001b[0;34m(\u001b[0m\u001b[0msess_pd_list\u001b[0m\u001b[0;34m)\u001b[0m\u001b[0;34m\u001b[0m\n",
       "\u001b[0;34m\u001b[0m    \u001b[0;32mreturn\u001b[0m \u001b[0msess_bout_pd\u001b[0m\u001b[0;34m\u001b[0m\u001b[0;34m\u001b[0m\u001b[0m\n",
       "\u001b[0;31mFile:\u001b[0m      ~/repos/ceciestunepipe/notebooks/pipeline/z_r12r13_21/<ipython-input-10-4e84049f0cc5>\n",
       "\u001b[0;31mType:\u001b[0m      function\n"
      ]
     },
     "metadata": {},
     "output_type": "display_data"
    }
   ],
   "source": [
    "get_all_day_bouts??"
   ]
  },
  {
   "cell_type": "code",
   "execution_count": 22,
   "metadata": {
    "collapsed": true,
    "jupyter": {
     "outputs_hidden": true
    },
    "tags": []
   },
   "outputs": [
    {
     "name": "stdout",
     "output_type": "stream",
     "text": [
      "<class 'pandas.core.frame.DataFrame'>\n",
      "Int64Index: 103 entries, 0 to 37\n",
      "Data columns (total 17 columns):\n",
      " #   Column        Non-Null Count  Dtype  \n",
      "---  ------        --------------  -----  \n",
      " 0   start_ms      103 non-null    int64  \n",
      " 1   end_ms        103 non-null    int64  \n",
      " 2   start_sample  103 non-null    int64  \n",
      " 3   end_sample    103 non-null    int64  \n",
      " 4   p_step        103 non-null    object \n",
      " 5   rms_p         103 non-null    float64\n",
      " 6   peak_p        103 non-null    float64\n",
      " 7   bout_check    103 non-null    bool   \n",
      " 8   file          103 non-null    object \n",
      " 9   len_ms        103 non-null    int64  \n",
      " 10  syl_in        103 non-null    object \n",
      " 11  n_syl         103 non-null    int64  \n",
      " 12  peaks_p       103 non-null    object \n",
      " 13  n_peaks       103 non-null    int64  \n",
      " 14  l_p_ratio     103 non-null    float64\n",
      " 15  waveform      103 non-null    object \n",
      " 16  confusing     103 non-null    bool   \n",
      "dtypes: bool(2), float64(3), int64(7), object(5)\n",
      "memory usage: 13.1+ KB\n"
     ]
    }
   ],
   "source": [
    "sess_bout_pd.info()"
   ]
  },
  {
   "cell_type": "code",
   "execution_count": 24,
   "metadata": {},
   "outputs": [
    {
     "data": {
      "text/plain": [
       "103"
      ]
     },
     "execution_count": 24,
     "metadata": {},
     "output_type": "execute_result"
    }
   ],
   "source": [
    "np.unique(sess_bout_pd['start_ms']).size"
   ]
  },
  {
   "cell_type": "markdown",
   "metadata": {},
   "source": [
    "# debug"
   ]
  },
  {
   "cell_type": "markdown",
   "metadata": {},
   "source": [
    "## debug search_bout"
   ]
  },
  {
   "cell_type": "code",
   "execution_count": 21,
   "metadata": {},
   "outputs": [
    {
     "name": "stderr",
     "output_type": "stream",
     "text": [
      "2021-09-22 15:13:39,371 root         INFO     Found 4 files\n"
     ]
    },
    {
     "name": "stdout",
     "output_type": "stream",
     "text": [
      "['/mnt/sphere/speech_bci/derived_data/s_b1253_21/2021-06-14/sglx/0712_g0/wav_mic.wav', '/mnt/sphere/speech_bci/derived_data/s_b1253_21/2021-06-14/sglx/1255_g0/wav_mic.wav', '/mnt/sphere/speech_bci/derived_data/s_b1253_21/2021-06-14/sglx/1740_g0/wav_mic.wav', '/mnt/sphere/speech_bci/derived_data/s_b1253_21/2021-06-14/sglx/2118_g0/wav_mic.wav']\n"
     ]
    }
   ],
   "source": [
    "## look for a single file\n",
    "sess = sess_list[0]\n",
    "\n",
    "exp_struct = et.get_exp_struct(sess_par['bird'], sess, ephys_software='sglx')\n",
    "source_folder = exp_struct['folders']['derived']\n",
    "wav_path_list = et.get_sgl_files_epochs(source_folder, file_filter='*wav_mic.wav')\n",
    "wav_path_list.sort()\n",
    "logger.info('Found {} files'.format(len(wav_path_list)))\n",
    "print(wav_path_list)"
   ]
  },
  {
   "cell_type": "code",
   "execution_count": 22,
   "metadata": {},
   "outputs": [],
   "source": [
    "one_file = wav_path_list[0]"
   ]
  },
  {
   "cell_type": "code",
   "execution_count": null,
   "metadata": {},
   "outputs": [
    {
     "name": "stderr",
     "output_type": "stream",
     "text": [
      "2021-09-22 15:13:45,924 ceciestunepipe.util.sound.boutsearch INFO     Getting bouts for long file /mnt/sphere/speech_bci/derived_data/s_b1253_21/2021-06-14/sglx/0712_g0/wav_mic.wav\n"
     ]
    },
    {
     "name": "stdout",
     "output_type": "stream",
     "text": [
      "tu vieja file /mnt/sphere/speech_bci/derived_data/s_b1253_21/2021-06-14/sglx/0712_g0/wav_mic.wav\n"
     ]
    },
    {
     "name": "stderr",
     "output_type": "stream",
     "text": [
      "2021-09-22 15:13:45,962 ceciestunepipe.util.sound.boutsearch INFO     splitting file into 5 chunks\n"
     ]
    },
    {
     "data": {
      "application/vnd.jupyter.widget-view+json": {
       "model_id": "2ee46791b8cc495dae356f151c0a45d0",
       "version_major": 2,
       "version_minor": 0
      },
      "text/plain": [
       "  0%|          | 0/5 [00:00<?, ?it/s]"
      ]
     },
     "metadata": {},
     "output_type": "display_data"
    }
   ],
   "source": [
    "reload(bs)\n",
    "epoch_bout_pd, epoch_wav = bs.get_bouts_in_long_file(wav_path_list[0], hparams)"
   ]
  },
  {
   "cell_type": "code",
   "execution_count": null,
   "metadata": {},
   "outputs": [],
   "source": []
  }
 ],
 "metadata": {
  "kernelspec": {
   "display_name": "spikesort",
   "language": "python",
   "name": "spikesort"
  },
  "language_info": {
   "codemirror_mode": {
    "name": "ipython",
    "version": 3
   },
   "file_extension": ".py",
   "mimetype": "text/x-python",
   "name": "python",
   "nbconvert_exporter": "python",
   "pygments_lexer": "ipython3",
   "version": "3.8.16"
  }
 },
 "nbformat": 4,
 "nbformat_minor": 4
}
