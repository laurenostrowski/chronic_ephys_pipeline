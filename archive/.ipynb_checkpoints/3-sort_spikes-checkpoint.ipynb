{
 "cells": [
  {
   "cell_type": "code",
   "execution_count": 1,
   "metadata": {},
   "outputs": [
    {
     "name": "stdout",
     "output_type": "stream",
     "text": [
      "h5py version > 2.10.0. Some extractors might not work properly. It is recommended to downgrade to version 2.10.0: \n",
      ">>> pip install h5py==2.10.0\n",
      "(2, 64)\n"
     ]
    }
   ],
   "source": [
    "import numpy as np\n",
    "import pandas as pd\n",
    "import os\n",
    "os.environ[\"NPY_MATLAB_PATH\"] = '/mnt/sphere/chronic_ephys/code/npy-matlab'\n",
    "os.environ[\"KILOSORT2_PATH\"] = '/mnt/sphere/chronic_ephys/code/Kilosort2'\n",
    "os.environ[\"KILOSORT3_PATH\"] = '/mnt/sphere/chronic_ephys/code/Kilosort'\n",
    "import spikeinterface.sorters as ss # has to go after setting sort environment path\n",
    "import sys\n",
    "sys.path.append('/mnt/cube/tsmcpher/code/')\n",
    "from ceciestunepipe.file import bcistructure as et\n",
    "from ceciestunepipe.util import sglxutil as sglu\n",
    "from ceciestunepipe.util.spike import kilosort as ks\n",
    "from ceciestunepipe.util.spikeextractors.extractors.spikeglxrecordingextractor import spikeglxrecordingextractor as sglex\n",
    "from ceciestunepipe.util import oeutil as oeu\n",
    "from ceciestunepipe.tsm import preproc_oe as oe_proc\n",
    "from ceciestunepipe.util import probemaps as pm\n",
    "from probeinterface import ProbeGroup\n",
    "from probeinterface import write_prb\n",
    "import logging\n",
    "logger = logging.getLogger()\n",
    "handler = logging.StreamHandler()\n",
    "formatter = logging.Formatter(\n",
    "        '%(asctime)s %(name)-12s %(levelname)-8s %(message)s')\n",
    "handler.setFormatter(formatter)\n",
    "logger.addHandler(handler)\n",
    "logger.setLevel(logging.INFO)"
   ]
  },
  {
   "cell_type": "code",
   "execution_count": 2,
   "metadata": {},
   "outputs": [],
   "source": [
    "force_redo = False"
   ]
  },
  {
   "cell_type": "code",
   "execution_count": 44,
   "metadata": {},
   "outputs": [],
   "source": [
    "bird_rec_dict = {\n",
    "    's_b1555_22':[\n",
    "        {'sess_par_list':['2022-04-29'], # sessions with this configuration\n",
    "         'probes':{}, # probes of interest, for oe only\n",
    "            else:\n",
    "                print(sess_par['software'],'not implemented..')            else:\n",
    "                print(sess_par['software'],'not implemented..')            else:\n",
    "                print(sess_par['software'],'not implemented..')            else:\n",
    "                print(sess_par['software'],'not implemented..')\n",
    "         'sorter':'kilosort3', # sort method\n",
    "         'sort_params': {'minFR':0.0001,'minfr_goodchannels':0.001}, # non default sort params\n",
    "         'software':'sglx' # sglx or oe\n",
    "        },],\n",
    "    's_b1515_23':[\n",
    "        {'sess_par_list':['2023-03-24'], # sessions with this configuration\n",
    "         'probes':{'probes_dir':'/mnt/sphere/chronic_ephys/code/probes/','probe_type':'neuronexus','probe_model':'a4x16-poly3-5mm-20s-200-160_h64_intan'}, # probes of interest, for oe only\n",
    "         'sort':0, # label for this sort instance\n",
    "         'sorter':'kilosort3', # sort method\n",
    "         'sort_params': {'minFR':0.0001,'minfr_goodchannels':0.001}, # non default sort params\n",
    "         'software':'oe' # sglx or oe\n",
    "        },],\n",
    "}"
   ]
  },
  {
   "cell_type": "code",
   "execution_count": 46,
   "metadata": {
    "scrolled": true
   },
   "outputs": [
    {
     "name": "stderr",
     "output_type": "stream",
     "text": [
      "2023-09-05 11:18:21,953 ceciestunepipe.file.bcistructure INFO     {'folders': {'bird': '/mnt/sphere/speech_bci/raw_data/s_b1555_22', 'raw': '/mnt/sphere/speech_bci/raw_data/s_b1555_22/2022-04-29', 'sglx': '/mnt/sphere/speech_bci/raw_data/s_b1555_22/2022-04-29/sglx', 'kwik': '/scratch/chronic_ephys/s_b1555_22/sglx/kwik/2022-04-29', 'processed': '/mnt/sphere/chronic_ephys/proc/s_b1555_22/2022-04-29/sglx', 'derived': '/mnt/sphere/chronic_ephys/der/s_b1555_22/2022-04-29/sglx', 'tmp': '/scratch/chronic_ephys/tmp', 'msort': '/scratch/chronic_ephys/s_b1555_22/sglx/msort/2022-04-29', 'ksort': '/scratch/chronic_ephys/s_b1555_22/sglx/ksort/2022-04-29/0', 'sort': '/mnt/sphere/chronic_ephys/der/s_b1555_22/2022-04-29/sglx/0'}, 'files': {'par': '/scratch/chronic_ephys/s_b1555_22/sglx/ksort/2022-04-29/0/params.json', 'set': '/mnt/sphere/speech_bci/raw_data/s_b1555_22/2022-04-29/sglx/settings.isf', 'rig': '/mnt/sphere/speech_bci/raw_data/s_b1555_22/2022-04-29/sglx/rig.json', 'kwd': '/scratch/chronic_ephys/s_b1555_22/sglx/kwik/2022-04-29/stream.kwd', 'kwik': '/scratch/chronic_ephys/s_b1555_22/sglx/kwik/2022-04-29/sort_0/spikes.kwik', 'kwe': '/scratch/chronic_ephys/s_b1555_22/sglx/kwik/2022-04-29/events.kwe', 'dat_mic': '/mnt/sphere/chronic_ephys/proc/s_b1555_22/2022-04-29/sglx/dat_mic.mat', 'dat_ap': '/mnt/sphere/chronic_ephys/proc/s_b1555_22/2022-04-29/sglx/dat_ap.mat', 'allevents': '/mnt/sphere/chronic_ephys/proc/s_b1555_22/2022-04-29/sglx/dat_all.pkl', 'wav_mic': '/mnt/sphere/chronic_ephys/der/s_b1555_22/2022-04-29/sglx/wav_mic.wav', 'mda_raw': '/scratch/chronic_ephys/s_b1555_22/sglx/msort/2022-04-29/raw.mda', 'bin_raw': '/scratch/chronic_ephys/s_b1555_22/sglx/ksort/2022-04-29/0/raw.bin'}}\n",
      "2023-09-05 11:18:21,953 ceciestunepipe.file.bcistructure INFO     {'folders': {'bird': '/mnt/sphere/speech_bci/raw_data/s_b1555_22', 'raw': '/mnt/sphere/speech_bci/raw_data/s_b1555_22/2022-04-29', 'sglx': '/mnt/sphere/speech_bci/raw_data/s_b1555_22/2022-04-29/sglx', 'kwik': '/scratch/chronic_ephys/s_b1555_22/sglx/kwik/2022-04-29', 'processed': '/mnt/sphere/chronic_ephys/proc/s_b1555_22/2022-04-29/sglx', 'derived': '/mnt/sphere/chronic_ephys/der/s_b1555_22/2022-04-29/sglx', 'tmp': '/scratch/chronic_ephys/tmp', 'msort': '/scratch/chronic_ephys/s_b1555_22/sglx/msort/2022-04-29', 'ksort': '/scratch/chronic_ephys/s_b1555_22/sglx/ksort/2022-04-29/0', 'sort': '/mnt/sphere/chronic_ephys/der/s_b1555_22/2022-04-29/sglx/0'}, 'files': {'par': '/scratch/chronic_ephys/s_b1555_22/sglx/ksort/2022-04-29/0/params.json', 'set': '/mnt/sphere/speech_bci/raw_data/s_b1555_22/2022-04-29/sglx/settings.isf', 'rig': '/mnt/sphere/speech_bci/raw_data/s_b1555_22/2022-04-29/sglx/rig.json', 'kwd': '/scratch/chronic_ephys/s_b1555_22/sglx/kwik/2022-04-29/stream.kwd', 'kwik': '/scratch/chronic_ephys/s_b1555_22/sglx/kwik/2022-04-29/sort_0/spikes.kwik', 'kwe': '/scratch/chronic_ephys/s_b1555_22/sglx/kwik/2022-04-29/events.kwe', 'dat_mic': '/mnt/sphere/chronic_ephys/proc/s_b1555_22/2022-04-29/sglx/dat_mic.mat', 'dat_ap': '/mnt/sphere/chronic_ephys/proc/s_b1555_22/2022-04-29/sglx/dat_ap.mat', 'allevents': '/mnt/sphere/chronic_ephys/proc/s_b1555_22/2022-04-29/sglx/dat_all.pkl', 'wav_mic': '/mnt/sphere/chronic_ephys/der/s_b1555_22/2022-04-29/sglx/wav_mic.wav', 'mda_raw': '/scratch/chronic_ephys/s_b1555_22/sglx/msort/2022-04-29/raw.mda', 'bin_raw': '/scratch/chronic_ephys/s_b1555_22/sglx/ksort/2022-04-29/0/raw.bin'}}\n"
     ]
    },
    {
     "name": "stdout",
     "output_type": "stream",
     "text": [
      "s_b1555_22 2022-04-29 0644_g0\n"
     ]
    },
    {
     "ename": "NameError",
     "evalue": "name 'breakme' is not defined",
     "output_type": "error",
     "traceback": [
      "\u001b[0;31m---------------------------------------------------------------------------\u001b[0m",
      "\u001b[0;31mNameError\u001b[0m                                 Traceback (most recent call last)",
      "File \u001b[0;32m<timed exec>:39\u001b[0m\n",
      "\u001b[0;31mNameError\u001b[0m: name 'breakme' is not defined"
     ]
    }
   ],
   "source": [
    "%%time\n",
    "# sort chunking - for sglx only\n",
    "chunk_mb = 8192\n",
    "\n",
    "# loop through all birds / recordings\n",
    "for this_bird in bird_rec_dict.keys():\n",
    "    # get all session configurations\n",
    "    sess_all = bird_rec_dict[this_bird]\n",
    "    # get session configuration\n",
    "    for this_sess_config in sess_all:\n",
    "        # loop through sessions\n",
    "        for this_sess in this_sess_config['sess_par_list']:\n",
    "            # which sofrtware\n",
    "            this_software = this_sess_config['software']\n",
    "            # build session parameter dictionary\n",
    "            sess_par = {'bird':this_bird,\n",
    "                        'sess':this_sess,\n",
    "                        'sort':this_sess_config['sort']}\n",
    "            # get epochs\n",
    "            sess_epochs = et.list_sgl_epochs(sess_par)\n",
    "            # loop through epochs\n",
    "            for this_epoch in sess_epochs:\n",
    "                # add to session parameter dictionary\n",
    "                sess_par['epoch'] = this_epoch\n",
    "                # get epoch files\n",
    "                exp_struct = et.sgl_struct(sess_par,this_epoch)\n",
    "                # sort directories\n",
    "                tmp_loc = os.path.join(exp_struct['folders']['ksort'])\n",
    "                sort_pickle_path = os.path.join(tmp_loc,'sort_ks3.pickle')\n",
    "                sort_folder = os.path.join(exp_struct['folders']['derived'],'sort_{}'.format(sess_par['sort']))\n",
    "                os.makedirs(sort_folder, mode=0o777, exist_ok=True)\n",
    "                print(this_bird,this_sess,this_epoch)\n",
    "                \n",
    "                if this_software == 'sglx':\n",
    "                    # get recordings\n",
    "                    sgl_folders, sgl_files = sglu.sgl_file_struct(exp_struct['folders']['sglx']) \n",
    "                    run_meta_files = {k:v[0] for k,v in sgl_files.items()}\n",
    "                    run_recordings = {k:sglex.SpikeGLXRecordingExtractor(sglu.get_data_meta_path(v)[0]) for k,v in run_meta_files.items()}\n",
    "                    # run sort\n",
    "                    ks.run_spikesort(run_recordings['ap_0'],logger,sort_pickle_path,tmp_loc,restrict_to_gpu=1,\n",
    "                                     sorting_method=sorting_method,chunk_mb=chunk_mb,force_redo=force_redo,\n",
    "                                     **ks_params)\n",
    "                    \n",
    "                elif this_software =='oe':\n",
    "                    # get recordings\n",
    "                    oe_exp_struct = et.sgl_struct(sess_par,this_epoch,ephys_software='oe')\n",
    "                    run_recordings = {'oeb': oe_proc.get_oe_cont_recording(exp_struct,this_epoch)}\n",
    "                    ap_extractor = run_recordings['oeb']\n",
    "                    # get probe info\n",
    "                    probe_0 = pm.make_probes(probe_type,probe_model)\n",
    "                    probegroup = ProbeGroup()\n",
    "                    probegroup.add_probe(probe_0)\n",
    "                    probe_file = probes_dir + probe_model + '.prb'\n",
    "                    write_prb(probe_file,probegroup)\n",
    "                    sort_rec = run_recordings['oeb'].load_probe_file(probe_file)\n",
    "                    # run sort\n",
    "                    sort = oe_proc.run_spikesort(sort_rec,logger,sort_pickle_path,tmp_loc,\n",
    "                                 sorting_method='kilosort3',restrict_to_gpu=1,\n",
    "                                 **ks_params)\n",
    "                    \n",
    "                else:\n",
    "                    print(sess_par['software'],'not implemented..')\n",
    "                    \n",
    "                # save sort clusters / spikes\n",
    "                clu_df, spk_df = ks.load_spikes(os.path.join(tmp_loc,'tmp_ks3'))\n",
    "                clu_df_path = os.path.join(sort_folder,'clu_df.pickle')\n",
    "                clu_df.to_pickle(clu_df_path)\n",
    "                spk_df_path = os.path.join(sort_folder,'spk_df.pickle')\n",
    "                spk_df.to_pickle(spk_df_path)"
   ]
  }
 ],
 "metadata": {
  "kernelspec": {
   "display_name": "Python [conda env:tsmcpher-spk_sort_tsm]",
   "language": "python",
   "name": "conda-env-tsmcpher-spk_sort_tsm-py"
  },
  "language_info": {
   "codemirror_mode": {
    "name": "ipython",
    "version": 3
   },
   "file_extension": ".py",
   "mimetype": "text/x-python",
   "name": "python",
   "nbconvert_exporter": "python",
   "pygments_lexer": "ipython3",
   "version": "3.8.16"
  }
 },
 "nbformat": 4,
 "nbformat_minor": 4
}
