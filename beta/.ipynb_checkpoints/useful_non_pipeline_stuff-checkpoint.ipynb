{
 "cells": [
  {
   "cell_type": "markdown",
   "id": "7e4035bf-bc6d-4dad-b232-6f7c6989cdd2",
   "metadata": {},
   "source": [
    "### Things that seem useful but don't necessarily belong in pipeline"
   ]
  },
  {
   "cell_type": "code",
   "execution_count": 18,
   "id": "e4baa8d3-253b-4540-8e2f-e3ede076ec0b",
   "metadata": {},
   "outputs": [
    {
     "name": "stdout",
     "output_type": "stream",
     "text": [
      "Location: /mnt/sphere/speech_bci/raw_data/z_w12m7_20/2020-11-04/sglx/rig.json\n"
     ]
    },
    {
     "data": {
      "text/plain": [
       "{'chan': {'ttl': {'sync': 'DIN-00', 'wav_ttl': 'DIN-02'},\n",
       "  'adc': {'microphone_0': 'adc-00',\n",
       "   'microphone_1': 'adc-03',\n",
       "   'wav_stim': 'adc-01',\n",
       "   'wav_syn': 'adc-02'},\n",
       "  'port': {'probe_0': 'A-'}},\n",
       " 'probe': {'probe_0': {'model': 'neuropix-3b',\n",
       "   'serial': '19108311042',\n",
       "   'headstage': 'neuropix-3b'}}}"
      ]
     },
     "execution_count": 18,
     "metadata": {},
     "output_type": "execute_result"
    }
   ],
   "source": [
    "## to retrieve rig.json file\n",
    "import sys\n",
    "sys.path.append('/mnt/cube/lo/envs/ceciestunepipe')\n",
    "from ceciestunepipe.file import bcistructure as et\n",
    "print('Location:',et.get_exp_struct('z_w12m7_20','2020-11-04')['files']['rig'])\n",
    "\n",
    "## Zeke's function to load JSON:\n",
    "et.get_rig_par(et.get_exp_struct('z_y19o20_21','2021-12-21'))"
   ]
  },
  {
   "cell_type": "code",
   "execution_count": 15,
   "id": "9c5b2eac-5e2d-47d9-922b-dfaac4b7bd5e",
   "metadata": {},
   "outputs": [
    {
     "data": {
      "text/plain": [
       "{'chan': {'ttl': {'sync': 'DIN-00', 'wav_ttl': 'DIN-02'},\n",
       "  'adc': {'microphone_0': 'adc-00',\n",
       "   'microphone_1': 'adc-03',\n",
       "   'pressure': 'adc-04',\n",
       "   'wav_stim': 'adc-01',\n",
       "   'wav_syn': 'adc-02'},\n",
       "  'port': {'probe_0': 'None'}},\n",
       " 'probe': {'probe_0': {'model': 'None',\n",
       "   'serial': 'None',\n",
       "   'headstage': 'None'}}}"
      ]
     },
     "execution_count": 15,
     "metadata": {},
     "output_type": "execute_result"
    }
   ],
   "source": [
    "et.get_rig_par(et.get_exp_struct('s_b1515_23','2023-03-06'))"
   ]
  },
  {
   "cell_type": "code",
   "execution_count": 23,
   "id": "2c2d8738-7949-4ac1-a2fa-ac59b0365fbe",
   "metadata": {},
   "outputs": [
    {
     "data": {
      "text/plain": [
       "True"
      ]
     },
     "execution_count": 23,
     "metadata": {},
     "output_type": "execute_result"
    }
   ],
   "source": [
    "et.get_rig_par(et.get_exp_struct('z_y19o20_21','2021-12-21')) == et.get_rig_par(et.get_exp_struct('z_y19o20_21','2021-12-23'))"
   ]
  },
  {
   "cell_type": "code",
   "execution_count": 9,
   "id": "2aa00b82-5cff-4fb2-b98c-09a6b3448c61",
   "metadata": {},
   "outputs": [
    {
     "data": {
      "text/plain": [
       "{'chan': {'ttl': {'sync': 'DIN-00', 'wav_ttl': 'DIN-02'},\n",
       "  'adc': {'microphone_0': 'adc-00',\n",
       "   'microphone_1': 'adc-03',\n",
       "   'wav_stim': 'adc-01',\n",
       "   'wav_syn': 'adc-02'},\n",
       "  'port': {'probe_0': 'A-'}},\n",
       " 'probe': {'probe_0': {'model': 'neuropix-3b',\n",
       "   'serial': '19108303111',\n",
       "   'headstage': 'neuropix-3b'}}}"
      ]
     },
     "execution_count": 9,
     "metadata": {},
     "output_type": "execute_result"
    }
   ],
   "source": [
    "# creating rig.json file for z_c5o30_23:\n",
    "the_json = et.get_rig_par(et.get_exp_struct('z_y19o20_21','2021-10-26'))\n",
    "the_json['probe']['probe_0']['serial'] = '19108303111'\n",
    "the_json"
   ]
  },
  {
   "cell_type": "code",
   "execution_count": null,
   "id": "6c1184a2-1ed5-4204-b76b-91d92ea8d723",
   "metadata": {},
   "outputs": [],
   "source": [
    "the_json = {\n",
    "    'chan': {\n",
    "        'ttl': {\n",
    "            'sync': 'DIN-00',\n",
    "            'wav_ttl': 'DIN-02'\n",
    "        },\n",
    "        'adc': {\n",
    "            'microphone_0': 'adc-00',\n",
    "            'microphone_1': 'adc-03',\n",
    "            'wav_stim': 'adc-01',\n",
    "            'wav_syn': 'adc-02'},\n",
    "        'port': {\n",
    "            'probe_0': 'A-'\n",
    "        }\n",
    "    },\n",
    "    'probe': {\n",
    "        'probe_0': {\n",
    "            'model': 'neuropix-3b',\n",
    "            'serial': '19108303111',\n",
    "            'headstage': 'neuropix-3b'\n",
    "        }\n",
    "    }\n",
    "}"
   ]
  },
  {
   "cell_type": "code",
   "execution_count": 14,
   "id": "246cbcc2-27b4-4396-9834-705c7ccb7009",
   "metadata": {},
   "outputs": [],
   "source": [
    "import json\n",
    "json_path = et.get_exp_struct('z_c5o30_23','2023-06-16')['files']['rig']\n",
    "with open(json_path, 'w') as fp:\n",
    "    json.dump(the_json, fp)"
   ]
  },
  {
   "cell_type": "code",
   "execution_count": 1,
   "id": "239ba6e0-fb52-4afa-8771-29bd8eb395de",
   "metadata": {},
   "outputs": [
    {
     "ename": "NameError",
     "evalue": "name 'bout_df' is not defined",
     "output_type": "error",
     "traceback": [
      "\u001b[0;31m---------------------------------------------------------------------------\u001b[0m",
      "\u001b[0;31mNameError\u001b[0m                                 Traceback (most recent call last)",
      "\u001b[0;32m<ipython-input-1-bcb7849d68c2>\u001b[0m in \u001b[0;36m<module>\u001b[0;34m\u001b[0m\n\u001b[1;32m     26\u001b[0m         \u001b[0mpu\u001b[0m\u001b[0;34m.\u001b[0m\u001b[0mplot_as_raster\u001b[0m\u001b[0;34m(\u001b[0m\u001b[0mspk_arr\u001b[0m\u001b[0;34m,\u001b[0m \u001b[0mt_0\u001b[0m\u001b[0;34m=\u001b[0m\u001b[0mint\u001b[0m\u001b[0;34m(\u001b[0m\u001b[0;34m-\u001b[0m\u001b[0mt_pre\u001b[0m\u001b[0;34m*\u001b[0m\u001b[0ms_f_ap\u001b[0m\u001b[0;34m)\u001b[0m\u001b[0;34m,\u001b[0m \u001b[0max\u001b[0m\u001b[0;34m=\u001b[0m\u001b[0max\u001b[0m\u001b[0;34m[\u001b[0m\u001b[0;36m2\u001b[0m\u001b[0;34m]\u001b[0m\u001b[0;34m)\u001b[0m\u001b[0;34m\u001b[0m\u001b[0;34m\u001b[0m\u001b[0m\n\u001b[1;32m     27\u001b[0m \u001b[0;34m\u001b[0m\u001b[0m\n\u001b[0;32m---> 28\u001b[0;31m \u001b[0mplot_bout\u001b[0m\u001b[0;34m(\u001b[0m\u001b[0mbout_df\u001b[0m\u001b[0;34m.\u001b[0m\u001b[0miloc\u001b[0m\u001b[0;34m[\u001b[0m\u001b[0;36m11\u001b[0m\u001b[0;34m]\u001b[0m\u001b[0;34m,\u001b[0m \u001b[0mbout_dict\u001b[0m\u001b[0;34m,\u001b[0m \u001b[0mplot_raster\u001b[0m \u001b[0;34m=\u001b[0m \u001b[0;32mFalse\u001b[0m\u001b[0;34m)\u001b[0m\u001b[0;34m\u001b[0m\u001b[0;34m\u001b[0m\u001b[0m\n\u001b[0m",
      "\u001b[0;31mNameError\u001b[0m: name 'bout_df' is not defined"
     ]
    }
   ],
   "source": [
    "# From /mnt/cube/tsmcpher/proj/am_pop/notebooks/s_b1555_22/bout_seg_clust_s_b1555_22-20220429_0644-pakhi-ra.ipynb\n",
    "def plot_bout(bout_series, bout_dict, plot_raster=False):\n",
    "    # get the raster, the spectrogram and the pressure\n",
    "    \n",
    "    t_pre = bout_dict['t_pre']\n",
    "    s_f_ap = bout_dict['s_f_ap_0']\n",
    "    s_f = bout_dict['s_f']\n",
    "    \n",
    "    mic_arr = bout_series['mic_arr']\n",
    "    pre_arr = bout_series['pre_arr']\n",
    "    gpf_arr = bout_series['spk_gpf']\n",
    "    \n",
    "    # plot\n",
    "    \n",
    "    fig, ax = plt.subplots(nrows=4, gridspec_kw={'height_ratios': [1, 1, 1, 9]}, figsize=(10, 22))\n",
    "\n",
    "    f, t, sxx = sp.ms_spectrogram(mic_arr.flatten(), s_f)\n",
    "\n",
    "    #ax[0].plot(mic_arr.flatten())\n",
    "    ax[0].pcolormesh(t, f, np.log(sxx), cmap='inferno')\n",
    "    ax[1].plot(pre_arr.flatten());\n",
    "    ax[2].plot(gpf_arr[:3].T)\n",
    "    \n",
    "    \n",
    "    if plot_raster:\n",
    "        spk_arr = bout_series['spk_arr']\n",
    "        pu.plot_as_raster(spk_arr, t_0=int(-t_pre*s_f_ap), ax=ax[2])\n",
    "    \n",
    "plot_bout(bout_df.iloc[11], bout_dict, plot_raster = False)"
   ]
  },
  {
   "cell_type": "code",
   "execution_count": null,
   "id": "ee833e4f-599c-4dc4-9431-98af7792132d",
   "metadata": {},
   "outputs": [],
   "source": [
    "# From /mnt/cube/tsmcpher/proj/am_pop/notebooks/s_b1555_22/bout_seg_clust_s_b1555_22-20220429_0644-pakhi-ra.ipynb\n",
    "i_syl = 11\n",
    "one_spec = make_spec(syl_df.iloc[i_syl]['mic_arr']/32768, bout_dict['s_f'],\n",
    "                    hparams=hparams,\n",
    "                    mel_matrix=mel_matrix,\n",
    "                    use_mel=True,\n",
    "                    use_tensorflow=False)\n",
    "\n",
    "fig, ax = plt.subplots(nrows=5, figsize=(12, 8))\n",
    "\n",
    "ax[0].plot(syl_df.iloc[i_syl]['mic_arr'])\n",
    "ax[1].plot(syl_df.iloc[i_syl]['pre_arr'])\n",
    "ax[2].plot(syl_df.iloc[i_syl]['gpf_arr'].T);\n",
    "ax[3].imshow(one_spec[::-1], aspect='auto')\n",
    "#pu.plot_as_raster(syl_df.iloc[i_syl]['spk_ms_arr'], ax[4])"
   ]
  },
  {
   "cell_type": "code",
   "execution_count": null,
   "id": "1b9d1feb-901b-45cb-ba90-b88ef875117b",
   "metadata": {},
   "outputs": [],
   "source": [
    "# From /mnt/cube/tsmcpher/proj/am_pop/notebooks/s_b1555_22/bout_seg_clust_s_b1555_22-20220429_0644-pakhi-ra.ipynb\n",
    "i_syl=11\n",
    "\n",
    "def plot_syl(syl_df, i_syl, spk=False):\n",
    "    fig, ax = plt.subplots(nrows=4, figsize=(12, 8))\n",
    "\n",
    "    ax[0].imshow(syl_df.iloc[i_syl]['spec_pad'][::-1], aspect='auto')\n",
    "    ax[1].plot(syl_df.iloc[i_syl]['pre_pad'])\n",
    "    ax[2].plot(syl_df.iloc[i_syl]['gpf_pad'].T);\n",
    "    if spk:\n",
    "        pu.plot_as_raster(syl_df.iloc[i_syl]['spk_pad'], ax[3])\n",
    "        ax[3].set_xlim(0, syl_df.iloc[i_syl]['spk_pad'].shape[-1])\n",
    "    return ax, syl_df.iloc[i_syl]\n",
    "\n",
    "ax, syl_ds = plot_syl(syl_df, i_syl)"
   ]
  }
 ],
 "metadata": {
  "kernelspec": {
   "display_name": "lostarling",
   "language": "python",
   "name": "lostarling"
  },
  "language_info": {
   "codemirror_mode": {
    "name": "ipython",
    "version": 3
   },
   "file_extension": ".py",
   "mimetype": "text/x-python",
   "name": "python",
   "nbconvert_exporter": "python",
   "pygments_lexer": "ipython3",
   "version": "3.9.7"
  }
 },
 "nbformat": 4,
 "nbformat_minor": 5
}
