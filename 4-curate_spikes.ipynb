{
 "cells": [
  {
   "cell_type": "markdown",
   "metadata": {},
   "source": [
    "# Curate results of spike sorting\n",
    "\n",
    "Notebook within the chronic ephys processing pipeline\n",
    "- 1-preprocess_acoustics\n",
    "- 2-curate_acoustics\n",
    "- 3-sort_spikes\n",
    "- **4-curate_spikes**\n",
    "\n",
    "Use the environment **spikeproc** to run this notebook\n",
    "\n",
    "If necessary, SpikeInterface has a [method](https://spikeinterface.readthedocs.io/en/stable/modules/sorters.html) to concatenate multi-segment recordings "
   ]
  },
  {
   "cell_type": "code",
   "execution_count": 1,
   "metadata": {},
   "outputs": [],
   "source": [
    "%matplotlib inline\n",
    "import pandas as pd\n",
    "import numpy as np\n",
    "import os\n",
    "import pickle\n",
    "import matplotlib.pyplot as plt\n",
    "import spikeinterface.full as si\n",
    "import traceback\n",
    "\n",
    "import sys\n",
    "sys.path.append('/mnt/cube/lo/envs/ceciestunepipe')\n",
    "from ceciestunepipe.mods import spike_util as su\n",
    "\n",
    "# si.set_global_job_kwargs(n_jobs=-1, progress_bar=True)"
   ]
  },
  {
   "cell_type": "code",
   "execution_count": 2,
   "metadata": {},
   "outputs": [
    {
     "name": "stdout",
     "output_type": "stream",
     "text": [
      "Name: spikeinterface\n",
      "Version: 0.101.0\n",
      "Summary: Python toolkit for analysis, visualization, and comparison of spike sorting output\n",
      "Home-page: \n",
      "Author: \n",
      "Author-email: Alessio Buccino <alessiop.buccino@gmail.com>, Samuel Garcia <sam.garcia.die@gmail.com>\n",
      "License: \n",
      "Location: /mnt/cube/lo/envs/spikeproc101/lib/python3.8/site-packages\n",
      "Requires: neo, numpy, packaging, probeinterface, threadpoolctl, tqdm, zarr\n",
      "Required-by: sortingview\n",
      "Note: you may need to restart the kernel to use updated packages.\n"
     ]
    }
   ],
   "source": [
    "pip show spikeinterface"
   ]
  },
  {
   "cell_type": "markdown",
   "metadata": {},
   "source": [
    "## Set parameters"
   ]
  },
  {
   "cell_type": "code",
   "execution_count": 3,
   "metadata": {},
   "outputs": [],
   "source": [
    "sess_par = {\n",
    "    'bird':'z_r12r13_21', # bird ID\n",
    "    'sess':'2021-06-28', # session date\n",
    "    'probe':{'probe_type':'neuropixels-1.0'}, # probe specs\n",
    "    'epoch':'0701_g0', # epoch\n",
    "    'ephys_software':'sglx', # recording software, sglx or oe\n",
    "    'sorter':'kilosort4', # spike sorting algorithm\n",
    "    'sort':'sort_0', # sort index\n",
    "}"
   ]
  },
  {
   "cell_type": "code",
   "execution_count": 4,
   "metadata": {},
   "outputs": [],
   "source": [
    "# Probe absolute location (unit locations are relative)\n",
    "# SI formatting: probe width (x), depth (y), othogonal (z)\n",
    "# Assuming flat of probe extends M/L, foot is anterior, and vertical implant, use:\n",
    "# M/L (x), D/V (y), A/P (z) -- units are um\n",
    "# Typical HVC-RA implant: [2200, 4300, 300]\n",
    "probe_abs_loc = np.array([2200, 4300, 300])"
   ]
  },
  {
   "cell_type": "markdown",
   "metadata": {},
   "source": [
    "## Load data"
   ]
  },
  {
   "cell_type": "code",
   "execution_count": 5,
   "metadata": {},
   "outputs": [
    {
     "data": {
      "text/plain": [
       "({'bird': 'z_r12r13_21',\n",
       "  'sess': '2021-06-28',\n",
       "  'probe': {'probe_type': 'neuropixels-1.0'},\n",
       "  'epoch': '0701_g0',\n",
       "  'ephys_software': 'sglx',\n",
       "  'sorter': 'kilosort4',\n",
       "  'sort': 'sort_0'},\n",
       " '/mnt/cube/chronic_ephys/der/z_r12r13_21/2021-06-28/sglx/0701_g0/kilosort4/sort_0/')"
      ]
     },
     "execution_count": 5,
     "metadata": {},
     "output_type": "execute_result"
    }
   ],
   "source": [
    "sort_dir = '/mnt/cube/chronic_ephys/der/{}/{}/{}/{}/{}/{}/'.format(\n",
    "    sess_par['bird'],sess_par['sess'],sess_par['ephys_software'],\n",
    "    sess_par['epoch'],sess_par['sorter'],sess_par['sort'])\n",
    "sess_par, sort_dir"
   ]
  },
  {
   "cell_type": "code",
   "execution_count": null,
   "metadata": {},
   "outputs": [
    {
     "name": "stdout",
     "output_type": "stream",
     "text": [
      "loading sorting analyzer..\n"
     ]
    }
   ],
   "source": [
    "sort_path = sort_dir + 'sorter_output/'\n",
    "analyzer_path = sort_dir + 'sorting_analyzer/'\n",
    "waveforms_path = sort_dir + 'waveforms/'\n",
    "\n",
    "# Spike interface version ≥ 0.101.0\n",
    "if os.path.exists(analyzer_path):\n",
    "    print('loading sorting analyzer..')\n",
    "    use_analyzer_not_wave = True\n",
    "    metrics_path = analyzer_path + 'extensions/quality_metrics/metrics.csv'\n",
    "    analyzer = si.load_sorting_analyzer(analyzer_path)\n",
    "# Spike interface version < 0.101.0\n",
    "else:\n",
    "    if os.path.exists(waveforms_path):\n",
    "        print('loading waveforms..')\n",
    "        use_analyzer_not_wave = False\n",
    "        metrics_path = waveforms_path + 'quality_metrics/metrics.csv'\n",
    "        analyzer = si.load_waveforms(waveforms_path)\n",
    "    else: print('no analyzer or waveforms..')"
   ]
  },
  {
   "cell_type": "markdown",
   "metadata": {},
   "source": [
    "## Compute quality metrics\n",
    "- [ISI violations](https://spikeinterface.readthedocs.io/en/stable/modules/qualitymetrics/isi_violations.html)\n",
    "- [SNR](https://spikeinterface.readthedocs.io/en/stable/modules/qualitymetrics/snr.html)\n",
    "- [Presence ratio](https://spikeinterface.readthedocs.io/en/stable/modules/qualitymetrics/presence_ratio.html)"
   ]
  },
  {
   "cell_type": "code",
   "execution_count": null,
   "metadata": {},
   "outputs": [],
   "source": [
    "# Thresholds for quality metric curation\n",
    "ISI_VR_THRESH = [0.1,0.5]\n",
    "SNR_THRESH = [1,2]\n",
    "PRESENCE_THRESH = [0.05,0.95]"
   ]
  },
  {
   "cell_type": "code",
   "execution_count": null,
   "metadata": {},
   "outputs": [],
   "source": [
    "# Load metrics\n",
    "metrics_pd = pd.read_csv(metrics_path)\n",
    "try: metrics_pd.drop(columns=['Unnamed: 0'], inplace=True)\n",
    "except: pass\n",
    "\n",
    "# # Remove NaN metrics\n",
    "# metrics_list = [key for key in metrics_pd.keys() if not metrics_pd[key].isna().any()]\n",
    "metrics_list = metrics_pd.keys().tolist()\n",
    "\n",
    "# Store quality metrics in sorting analyzer\n",
    "for this_metric in metrics_list:\n",
    "    analyzer.sorting.set_property(this_metric,metrics_pd[this_metric].values)\n",
    "\n",
    "# Set ISI violations threshold\n",
    "isi_vr_label = np.full(analyzer.sorting.get_num_units(),'l')\n",
    "isi_vr_label[np.where((analyzer.sorting.get_property('isi_violations_ratio') > ISI_VR_THRESH[0]) & \n",
    "                (analyzer.sorting.get_property('isi_violations_ratio') < ISI_VR_THRESH[1]))[0]] = 'm'\n",
    "isi_vr_label[np.where(analyzer.sorting.get_property('isi_violations_ratio') > ISI_VR_THRESH[1])[0]] = 'h'  \n",
    "analyzer.sorting.set_property('isi_vr_thresh', isi_vr_label)\n",
    "\n",
    "# Set SNR threshold\n",
    "snr_label = np.full(analyzer.sorting.get_num_units(),'l')\n",
    "snr_label[np.where((analyzer.sorting.get_property('snr') > SNR_THRESH[0]) & \n",
    "                (analyzer.sorting.get_property('snr') < SNR_THRESH[1]))[0]] = 'm'\n",
    "snr_label[np.where(analyzer.sorting.get_property('snr') > SNR_THRESH[1])[0]] = 'h' \n",
    "analyzer.sorting.set_property('snr_thresh', snr_label)\n",
    "\n",
    "# Set presence ratio threshold\n",
    "presence_label = np.full(analyzer.sorting.get_num_units(),'l')\n",
    "presence_label[np.where((analyzer.sorting.get_property('presence_ratio') > PRESENCE_THRESH[0]) & \n",
    "                (analyzer.sorting.get_property('presence_ratio') < PRESENCE_THRESH[1]))[0]] = 'm'\n",
    "presence_label[np.where(analyzer.sorting.get_property('presence_ratio') > PRESENCE_THRESH[1])[0]] = 'h' \n",
    "analyzer.sorting.set_property('presence_thresh', presence_label)\n",
    "\n",
    "# Set quality labels according to thresholds for quality metric curation\n",
    "quality_labels = np.full(analyzer.sorting.get_num_units(),'_____')\n",
    "quality_labels[np.where(isi_vr_label == 'h')[0]] = 'mua_4'\n",
    "quality_labels[np.where((isi_vr_label == 'l') & (snr_label == 'h'))[0]] = 'sua_1'\n",
    "quality_labels[np.where((isi_vr_label == 'l') & (snr_label == 'm'))[0]] = 'sua_2'\n",
    "quality_labels[np.where((isi_vr_label == 'm') & (snr_label == 'h'))[0]] = 'sua_2'\n",
    "quality_labels[np.where((isi_vr_label == 'm') & (snr_label == 'm'))[0]] = 'sua_3'\n",
    "quality_labels[np.where(snr_label == 'l')[0]] = 'noise'\n",
    "quality_labels[np.where(presence_label == 'l')[0]] = 'noise'\n",
    "analyzer.sorting.set_property('quality_labels', quality_labels)\n",
    "\n",
    "su.print_unit_counts(quality_labels)\n",
    "print(analyzer.sorting); print(analyzer)"
   ]
  },
  {
   "cell_type": "markdown",
   "metadata": {},
   "source": [
    "## Get and store auto merges"
   ]
  },
  {
   "cell_type": "code",
   "execution_count": null,
   "metadata": {
    "scrolled": true
   },
   "outputs": [],
   "source": [
    "%%time\n",
    "merges_auto_init_all = []\n",
    "merges_auto_all = []\n",
    "sort_auto_all = []\n",
    "\n",
    "presets_all = ['similarity_correlograms','x_contaminations','temporal_splits','feature_neighbors']\n",
    "for this_preset in presets_all:\n",
    "    try:\n",
    "        print(this_preset + '..')\n",
    "        merges_auto_init = si.get_potential_auto_merge(analyzer, preset=this_preset)\n",
    "        merges_auto = su.merge_lists(merges_auto_init)\n",
    "        print(merges_auto)\n",
    "        if len(merges_auto) > 0: sort_auto = si.MergeUnitsSorting(analyzer.sorting, merges_auto)\n",
    "        else: sort_auto = analyzer.sorting\n",
    "        print(sort_auto,'\\n')\n",
    "\n",
    "        merges_auto_init_all.append(merges_auto_init)\n",
    "        merges_auto_all.append(merges_auto)\n",
    "        sort_auto_all.append(sort_auto)\n",
    "    except Exception as e:\n",
    "        print('WARNING,',this_preset,'failed:', e)\n",
    "        print(traceback.format_exc())"
   ]
  },
  {
   "cell_type": "markdown",
   "metadata": {},
   "source": [
    "## Curate spikes\n",
    "Using the [SpikeInterface](https://spikeinterface.readthedocs.io/en/latest/) [web-based](https://github.com/SpikeInterface/spikeinterface) [viewer](https://github.com/magland/sortingview)"
   ]
  },
  {
   "cell_type": "code",
   "execution_count": null,
   "metadata": {
    "scrolled": true
   },
   "outputs": [],
   "source": [
    "unit_table_properties = ['quality_labels','KSLabel','isi_violations_ratio','snr','num_spikes']\n",
    "label_choices = ['sua_1','sua_2','sua_3','mua_4','noise']\n",
    "pss = si.plot_sorting_summary(analyzer, curation=True, backend='sortingview', label_choices=label_choices,\n",
    "                              unit_table_properties=unit_table_properties)"
   ]
  },
  {
   "cell_type": "markdown",
   "metadata": {},
   "source": [
    "## Import curated sorts...\n",
    "When complete, click the button labeled `Save as snapshot (sha1://)` and paste the link below to generate sort_curated, a [sorting](https://spikeinterface.readthedocs.io/en/latest/api.html#spikeinterface.core.BaseSorting) [object](https://github.com/SpikeInterface/spikeinterface/blob/25bb836601e3ec358a06dcb73be34699d8065faf/src/spikeinterface/core/basesorting.py)"
   ]
  },
  {
   "cell_type": "code",
   "execution_count": 11,
   "metadata": {},
   "outputs": [],
   "source": [
    "sha_uri = 'sha1://d77b60d5ef908afb76898d9305082edb9a93f4d8'"
   ]
  },
  {
   "cell_type": "code",
   "execution_count": 12,
   "metadata": {},
   "outputs": [
    {
     "name": "stderr",
     "output_type": "stream",
     "text": [
      "/mnt/cube/lo/envs/spikeproc101/lib/python3.8/site-packages/spikeinterface/core/job_tools.py:103: UserWarning: `n_jobs` is not set so parallel processing is disabled! To speed up computations, it is recommended to set n_jobs either globally (with the `spikeinterface.set_global_job_kwargs()` function) or locally (with the `n_jobs` argument). Use `spikeinterface.set_global_job_kwargs?` for more information about job_kwargs.\n",
      "  warnings.warn(\n",
      "/mnt/cube/lo/envs/spikeproc101/lib/python3.8/site-packages/numpy/core/_methods.py:269: RuntimeWarning: Degrees of freedom <= 0 for slice\n",
      "  ret = _var(a, axis=axis, dtype=dtype, out=out, ddof=ddof,\n",
      "/mnt/cube/lo/envs/spikeproc101/lib/python3.8/site-packages/numpy/core/_methods.py:226: RuntimeWarning: invalid value encountered in divide\n",
      "  arrmean = um.true_divide(arrmean, div, out=arrmean,\n",
      "/mnt/cube/lo/envs/spikeproc101/lib/python3.8/site-packages/numpy/core/_methods.py:261: RuntimeWarning: invalid value encountered in divide\n",
      "  ret = ret.dtype.type(ret / rcount)\n"
     ]
    },
    {
     "data": {
      "application/vnd.jupyter.widget-view+json": {
       "model_id": "3864f94004984435b16bdc9ae2477ccf",
       "version_major": 2,
       "version_minor": 0
      },
      "text/plain": [
       "calculate pc_metrics:   0%|          | 0/1 [00:00<?, ?it/s]"
      ]
     },
     "metadata": {},
     "output_type": "display_data"
    }
   ],
   "source": [
    "# get curation\n",
    "sort_curated = si.apply_sortingview_curation(sorting_or_analyzer=analyzer,uri_or_json=sha_uri)"
   ]
  },
  {
   "cell_type": "markdown",
   "metadata": {},
   "source": [
    "## ... or use automatic curation"
   ]
  },
  {
   "cell_type": "code",
   "execution_count": null,
   "metadata": {},
   "outputs": [],
   "source": [
    "# Select from presets\n",
    "sort_curated = sort_auto_all[0]\n",
    "merges = merges_auto_all[0]"
   ]
  },
  {
   "cell_type": "markdown",
   "metadata": {},
   "source": [
    "## Create sorted spikes dataframe\n",
    "Handle sorting object following the how-to guide outlined [here](https://github.com/SpikeInterface/spikeinterface/blob/25bb836601e3ec358a06dcb73be34699d8065faf/doc/how_to/get_started.rst)"
   ]
  },
  {
   "cell_type": "code",
   "execution_count": null,
   "metadata": {
    "scrolled": true
   },
   "outputs": [],
   "source": [
    "# Make sort dataframe\n",
    "unit_ids = sort_curated.unit_ids\n",
    "print(f\"{len(unit_ids)} units after curation:\")\n",
    "spk_df = pd.DataFrame({'unit': unit_ids})\n",
    "\n",
    "# Get spike trains\n",
    "spk_df['spike_train'] = spk_df['unit'].apply(lambda x: sort_curated.sorting.get_unit_spike_train(unit_id=x, segment_index=0))\n",
    "\n",
    "# Get unit locations\n",
    "unit_locations = si.compute_unit_locations(sort_curated)\n",
    "spk_df['unit_locations'] = list(unit_locations)\n",
    "\n",
    "# Get absolute unit locations\n",
    "average_lat = np.mean(unit_locations[:, 0])\n",
    "max_depth = np.max(unit_locations[:, 1])\n",
    "average_ant = np.mean(unit_locations[:, 2])\n",
    "adj_coords = probe_abs_loc - [average_lat, max_depth, average_ant]\n",
    "spk_df['abs_unit_locations'] = spk_df['unit_locations'].apply(lambda x: np.add(x, adj_coords))\n",
    "\n",
    "# Get quality labels\n",
    "label_df = pd.DataFrame(columns=label_choices)\n",
    "for label in label_choices:\n",
    "    label_df[label] = sort_curated.sorting.get_property(label)\n",
    "bad_rows = label_df[label_df.sum(axis=1) != 1]\n",
    "if bad_rows.empty:\n",
    "    spk_df['quality_label'] = label_df.idxmax(axis=1)\n",
    "else:\n",
    "    raise ValueError(f\"Multiple quality labels for row(s): {bad_rows.index.tolist()}\")\n",
    "\n",
    "# Get quality metrics\n",
    "metrics = si.compute_quality_metrics(sort_curated,\n",
    "                                     metric_names=['snr','firing_rate','presence_ratio','num_spikes','isi_violation'])\n",
    "spk_df = pd.concat([spk_df, metrics.reset_index(drop=True)], axis=1)\n",
    "\n",
    "# Reorder spk_df by unit locations\n",
    "unit_argsort = np.argsort(unit_locations[:, 1])\n",
    "spk_df = spk_df.iloc[unit_argsort].reset_index(drop=True)\n",
    "spk_df"
   ]
  },
  {
   "cell_type": "markdown",
   "metadata": {},
   "source": [
    "## If NPX 2.0, make sure probe locations are accurate after shuffling "
   ]
  },
  {
   "cell_type": "code",
   "execution_count": null,
   "metadata": {},
   "outputs": [],
   "source": []
  },
  {
   "cell_type": "code",
   "execution_count": null,
   "metadata": {},
   "outputs": [],
   "source": []
  },
  {
   "cell_type": "markdown",
   "metadata": {},
   "source": [
    "## Save curated spikes"
   ]
  },
  {
   "cell_type": "code",
   "execution_count": 35,
   "metadata": {},
   "outputs": [],
   "source": [
    "with open(os.path.join(sort_dir, 'spk_df.pickle'), 'wb') as handle:\n",
    "    pickle.dump(spk_df, handle)"
   ]
  },
  {
   "cell_type": "markdown",
   "metadata": {},
   "source": [
    " "
   ]
  },
  {
   "cell_type": "markdown",
   "metadata": {},
   "source": [
    " "
   ]
  },
  {
   "cell_type": "markdown",
   "metadata": {},
   "source": [
    "### Visualize spike raster for an example bout"
   ]
  },
  {
   "cell_type": "code",
   "execution_count": 172,
   "metadata": {},
   "outputs": [],
   "source": [
    "from scipy import signal"
   ]
  },
  {
   "cell_type": "code",
   "execution_count": 165,
   "metadata": {},
   "outputs": [
    {
     "name": "stdout",
     "output_type": "stream",
     "text": [
      "Bout indices: [0, 1, 2, 3, 4, 5, 6, 7, 8, 9, 10, 11]\n"
     ]
    }
   ],
   "source": [
    "# load bout dataframe\n",
    "bouts_dir = '/mnt/cube/chronic_ephys/der/{}/{}/{}/{}/'.format(sess_par['bird'],sess_par['sess'],sess_par['ephys_software'],sess_par['epoch'])\n",
    "with open(os.path.join(bouts_dir, 'bout_pd_ap0_curated.pkl'), 'rb') as handle:\n",
    "    bout_df = pickle.load(handle)\n",
    "print('Bout indices:',bout_df.index.tolist())"
   ]
  },
  {
   "cell_type": "code",
   "execution_count": 168,
   "metadata": {},
   "outputs": [
    {
     "name": "stdout",
     "output_type": "stream",
     "text": [
      "Bout loaded...\n"
     ]
    }
   ],
   "source": [
    "# retrieve bout info\n",
    "bout_idx = 0\n",
    "if bout_df.loc[bout_idx, 'bout_check']:\n",
    "    waveform = bout_df.loc[bout_idx, 'waveform']\n",
    "#     spectrogram = bout_df.loc[bout_idx, 'spectrogram']\n",
    "    len_ms = bout_df.loc[bout_idx, 'len_ms']\n",
    "    start_sample_ap = bout_df.loc[bout_idx, 'start_sample_ap_0']\n",
    "    bout_fs = bout_df.loc[bout_idx, 'sample_rate']\n",
    "    fs = sort_curated.sorting.get_sampling_frequency()\n",
    "    print('Bout loaded...')"
   ]
  },
  {
   "cell_type": "code",
   "execution_count": 395,
   "metadata": {},
   "outputs": [],
   "source": [
    "# retrieve spike trains\n",
    "def make_raster(spk_df, ids, start_sample, end_sample):\n",
    "    spk_arr = np.zeros((len(ids), int(end_sample - start_sample)))\n",
    "    \n",
    "    for i,n in enumerate(ids):\n",
    "        unit_spk_t = spk_df.loc[n, 'spike_train']\n",
    "        unit_spk_t = unit_spk_t[(unit_spk_t > start_sample) & (unit_spk_t < end_sample)]\n",
    "        spk_arr[i, (unit_spk_t - start_sample).astype(int)] = 1\n",
    "    \n",
    "    return spk_arr\n",
    "\n",
    "# make spike raster for plotting\n",
    "trail_front = 1\n",
    "trail_end = 1\n",
    "start_idx = start_sample_ap - (fs * trail_front)\n",
    "end_idx = start_sample_ap + len_ms/1000*fs + (fs * trail_front)\n",
    "\n",
    "plot_df = spk_df[spk_df['quality_label'] != 'noise']\n",
    "spike_arr = make_raster(plot_df, plot_df.index.to_list(), start_idx, end_idx)\n",
    "\n",
    "ra_list = plot_df[plot_df['nucleus']=='RA'].index.tolist()\n",
    "hvc_list = plot_df[plot_df['nucleus']=='HVC'].index.tolist()"
   ]
  },
  {
   "cell_type": "code",
   "execution_count": 170,
   "metadata": {
    "tags": []
   },
   "outputs": [],
   "source": [
    "def make_spec(x, fs, n_window=512, step_ms=1, f_min=100, f_max=9000, cut_off=0.000055):\n",
    "    msec_samples = int(fs * 0.001)\n",
    "    n_overlap = n_window - msec_samples * step_ms\n",
    "    sigma = 1 / 200. * fs\n",
    "    \n",
    "    f, t, sxx = signal.spectrogram(x, fs,\n",
    "                                   nperseg=n_window,\n",
    "                                   noverlap=n_overlap,\n",
    "                                   window=signal.gaussian(n_window, sigma),\n",
    "                                   scaling='spectrum')\n",
    "    \n",
    "    if cut_off > 0:\n",
    "        sxx[sxx < np.max((sxx) * cut_off)] = 1\n",
    "    \n",
    "    sxx[f<f_min, :] = 1\n",
    "\n",
    "    return f[(f>f_min) & (f<f_max)], t, sxx[(f>f_min) & (f<f_max)]"
   ]
  },
  {
   "cell_type": "code",
   "execution_count": 363,
   "metadata": {},
   "outputs": [],
   "source": [
    "nuclei_rows = []\n",
    "for i in range(spike_arr.shape[0]):\n",
    "    last_sum = np.sum(spike_arr[i, -30000:])\n",
    "    prev_sum = np.sum(spike_arr[i, -60000:-30000])\n",
    "    if last_sum < 0.5 * prev_sum:\n",
    "        nuclei_rows.append(i)\n",
    "hvc_rows = nuclei_rows[65:]"
   ]
  },
  {
   "cell_type": "code",
   "execution_count": 285,
   "metadata": {},
   "outputs": [],
   "source": [
    "ra_rows = np.arange(0, 131)"
   ]
  },
  {
   "cell_type": "code",
   "execution_count": 36,
   "metadata": {},
   "outputs": [
    {
     "ename": "NameError",
     "evalue": "name 'waveform' is not defined",
     "output_type": "error",
     "traceback": [
      "\u001b[0;31m---------------------------------------------------------------------------\u001b[0m",
      "\u001b[0;31mNameError\u001b[0m                                 Traceback (most recent call last)",
      "Cell \u001b[0;32mIn[36], line 5\u001b[0m\n\u001b[1;32m      2\u001b[0m fig, ax \u001b[38;5;241m=\u001b[39m plt\u001b[38;5;241m.\u001b[39msubplots(nrows\u001b[38;5;241m=\u001b[39m\u001b[38;5;241m3\u001b[39m, gridspec_kw\u001b[38;5;241m=\u001b[39m{\u001b[38;5;124m'\u001b[39m\u001b[38;5;124mheight_ratios\u001b[39m\u001b[38;5;124m'\u001b[39m: [\u001b[38;5;241m1\u001b[39m, \u001b[38;5;241m3\u001b[39m, \u001b[38;5;241m20\u001b[39m]}, figsize\u001b[38;5;241m=\u001b[39m(\u001b[38;5;241m10\u001b[39m, \u001b[38;5;241m15\u001b[39m))\n\u001b[1;32m      4\u001b[0m \u001b[38;5;66;03m# plot sonogram\u001b[39;00m\n\u001b[0;32m----> 5\u001b[0m ax[\u001b[38;5;241m0\u001b[39m]\u001b[38;5;241m.\u001b[39mplot(\u001b[43mwaveform\u001b[49m\u001b[38;5;241m.\u001b[39mflatten(), \u001b[38;5;124m'\u001b[39m\u001b[38;5;124mblack\u001b[39m\u001b[38;5;124m'\u001b[39m)\n\u001b[1;32m      6\u001b[0m ax[\u001b[38;5;241m0\u001b[39m]\u001b[38;5;241m.\u001b[39mset_xlim([\u001b[38;5;241m-\u001b[39mtrail_front\u001b[38;5;241m*\u001b[39mbout_fs, \u001b[38;5;28mlen\u001b[39m(waveform\u001b[38;5;241m.\u001b[39mflatten())\u001b[38;5;241m+\u001b[39mtrail_end\u001b[38;5;241m*\u001b[39mbout_fs])\n\u001b[1;32m      7\u001b[0m ax[\u001b[38;5;241m0\u001b[39m]\u001b[38;5;241m.\u001b[39mset_axis_off()\n",
      "\u001b[0;31mNameError\u001b[0m: name 'waveform' is not defined"
     ]
    },
    {
     "data": {
      "image/png": "[encoded data removed]",
      "text/plain": [
       "<Figure size 1000x1500 with 3 Axes>"
      ]
     },
     "metadata": {},
     "output_type": "display_data"
    }
   ],
   "source": [
    "# plot bout with raster\n",
    "fig, ax = plt.subplots(nrows=3, gridspec_kw={'height_ratios': [1, 3, 20]}, figsize=(10, 15))\n",
    "\n",
    "# plot sonogram\n",
    "ax[0].plot(waveform.flatten(), 'black')\n",
    "ax[0].set_xlim([-trail_front*bout_fs, len(waveform.flatten())+trail_end*bout_fs])\n",
    "ax[0].set_axis_off()\n",
    "\n",
    "# plot spectrogram\n",
    "f, t, sxx = make_spec(waveform.flatten(), fs)\n",
    "ax[1].pcolormesh(t, f, np.log(sxx), cmap='inferno')\n",
    "ax[1].set_xlim([-trail_front, t[-1]+trail_end])\n",
    "ax[1].tick_params(axis='x', labelsize=10)\n",
    "ax[1].set_ylabel('f (kHz)', fontsize=12)\n",
    "ax[1].set_yticks([0,2000, 4000, 6000, 8000])\n",
    "ax[1].set_yticklabels(['0', '2', '4', '6', '8'], fontsize=10)\n",
    "ax[1].set_ylim([500, 9000])\n",
    "\n",
    "# plot spike raster\n",
    "x_trial, x_time = np.where(spike_arr>0)\n",
    "ax[2].plot(x_time, x_trial, '.', color='k', markersize=0.75, rasterized=True)\n",
    "# for row in ra_list:\n",
    "#     ax[2].plot(x_time[x_trial == row], x_trial[x_trial == row], '.', color='r', markersize=0.75, rasterized=True)\n",
    "# for row in hvc_list:\n",
    "#     ax[2].plot(x_time[x_trial == row], x_trial[x_trial == row], '.', color='b', markersize=0.75, rasterized=True)\n",
    "ax[2].set_xlim(0, spike_arr.shape[1])\n",
    "ax[2].set_ylim(-1, spike_arr.shape[0] + 1)\n",
    "ax[2].set_xticks(np.arange(0, spike_arr.shape[1], fs).tolist())\n",
    "ax[2].set_xticklabels([str(int(e)) for e in np.arange(0,np.ceil(spike_arr.shape[1]/fs))])\n",
    "ax[2].set_xlabel('Time (s)', fontsize=12)\n",
    "ax[2].set_ylabel('Neuron', fontsize=12)\n",
    "plt.tight_layout()"
   ]
  },
  {
   "cell_type": "markdown",
   "metadata": {},
   "source": [
    "## Label nuclei"
   ]
  },
  {
   "cell_type": "code",
   "execution_count": 364,
   "metadata": {},
   "outputs": [],
   "source": [
    "spk_df['nucleus'] = None"
   ]
  },
  {
   "cell_type": "code",
   "execution_count": 387,
   "metadata": {},
   "outputs": [],
   "source": [
    "spk_df.loc[(spk_df.index >= min(hvc_rows)) & (spk_df.index <= max(hvc_rows)) & \n",
    "           (spk_df['quality_label'] != 'noise'), 'nucleus'] = 'HVC'"
   ]
  },
  {
   "cell_type": "code",
   "execution_count": 388,
   "metadata": {},
   "outputs": [],
   "source": [
    "spk_df.loc[(spk_df.index >= min(ra_rows)) & (spk_df.index <= max(ra_rows)) & \n",
    "           (spk_df['quality_label'] != 'noise'), 'nucleus'] = 'RA'"
   ]
  },
  {
   "cell_type": "code",
   "execution_count": 389,
   "metadata": {},
   "outputs": [
    {
     "name": "stdout",
     "output_type": "stream",
     "text": [
      "41 neurons in HVC, 117 neurons in RA\n"
     ]
    }
   ],
   "source": [
    "print(len(spk_df[spk_df['nucleus']=='HVC']),'neurons in HVC,',len(spk_df[spk_df['nucleus']=='RA']),'neurons in RA')"
   ]
  },
  {
   "cell_type": "markdown",
   "metadata": {},
   "source": [
    "## Save curated spikes"
   ]
  },
  {
   "cell_type": "code",
   "execution_count": 398,
   "metadata": {},
   "outputs": [],
   "source": [
    "with open(os.path.join(sort_dir, 'spk_df.pickle'), 'wb') as handle:\n",
    "    pickle.dump(spk_df, handle)"
   ]
  },
  {
   "cell_type": "code",
   "execution_count": null,
   "metadata": {},
   "outputs": [],
   "source": []
  }
 ],
 "metadata": {
  "kernelspec": {
   "display_name": "spikeproc",
   "language": "python",
   "name": "spikeproc"
  },
  "language_info": {
   "codemirror_mode": {
    "name": "ipython",
    "version": 3
   },
   "file_extension": ".py",
   "mimetype": "text/x-python",
   "name": "python",
   "nbconvert_exporter": "python",
   "pygments_lexer": "ipython3",
   "version": "3.8.16"
  }
 },
 "nbformat": 4,
 "nbformat_minor": 4
}
