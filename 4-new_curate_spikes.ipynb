{
 "cells": [
  {
   "cell_type": "markdown",
   "metadata": {},
   "source": [
    "# Set up"
   ]
  },
  {
   "cell_type": "code",
   "execution_count": 1,
   "metadata": {},
   "outputs": [],
   "source": [
    "x=0"
   ]
  },
  {
   "cell_type": "code",
   "execution_count": 2,
   "metadata": {},
   "outputs": [],
   "source": [
    "%matplotlib inline\n",
    "import matplotlib.pyplot as plt\n",
    "import os\n",
    "import numpy as np\n",
    "import pandas as pd\n",
    "import pickle\n",
    "import spikeinterface.full as si\n",
    "import sys\n",
    "sys.path.append('/mnt/cube/tsmcpher/code/')\n",
    "from ephys_tsm import spike_util as su"
   ]
  },
  {
   "cell_type": "markdown",
   "metadata": {},
   "source": [
    "# Prep data"
   ]
  },
  {
   "cell_type": "code",
   "execution_count": 3,
   "metadata": {},
   "outputs": [],
   "source": [
    "# Thresholds for quality metric curation\n",
    "isi_vr_thresh = [0.1,0.5]\n",
    "snr_thresh = [1,2]"
   ]
  },
  {
   "cell_type": "code",
   "execution_count": 68,
   "metadata": {},
   "outputs": [],
   "source": [
    "# Probe absolute location (unit locations are relative)\n",
    "# SI formatting: probe width (x), depth (y), othogonal (z)\n",
    "# Assuming flat of probe extends M/L, foot is anterior, and vertical implant, use:\n",
    "# Note at angle VENTRAL is how far probe is lowered into brain\n",
    "# Angle is deviation from vertical\n",
    "# M/L (x), D/V (y), A/P (z)\n",
    "# s_b1484_24, HVC right: [3800,-200,800], angle: 0\n",
    "# s_b1357_23, HVC left: [-3500,-800,1000], angle: 0\n",
    "# s_b1253_21, RA right: [3380,-4500,630], angle: 0\n",
    "# s_b1253_21, RA left: [-3380,-4500,630], angle: 52\n",
    "probe_angle_deg = 38\n",
    "probe_abs_loc = np.array([-3000,-4000,500])"
   ]
  },
  {
   "cell_type": "code",
   "execution_count": 5,
   "metadata": {},
   "outputs": [
    {
     "name": "stdout",
     "output_type": "stream",
     "text": [
      "['1108_g0', '0806_g0', '1410_g0']\n"
     ]
    }
   ],
   "source": [
    "bird_in = 's_b1360_24'\n",
    "sess_in = '2024-07-30'\n",
    "ephys_software_in = 'sglx'\n",
    "path_in = '/mnt/cube/chronic_ephys/der/{}/{}/{}/'.format(bird_in,sess_in,ephys_software_in)\n",
    "epochs = os.listdir(path_in)\n",
    "print(epochs)"
   ]
  },
  {
   "cell_type": "code",
   "execution_count": 6,
   "metadata": {},
   "outputs": [
    {
     "data": {
      "text/plain": [
       "({'bird': 's_b1360_24',\n",
       "  'sess': '2024-07-30',\n",
       "  'epoch': '0806_g0',\n",
       "  'ephys_software': 'sglx',\n",
       "  'sorter': 'kilosort4',\n",
       "  'sort': 0},\n",
       " '/mnt/cube/chronic_ephys/der/s_b1360_24/2024-07-30/sglx/0806_g0/kilosort4/0/')"
      ]
     },
     "execution_count": 6,
     "metadata": {},
     "output_type": "execute_result"
    }
   ],
   "source": [
    "epoch_i = 1\n",
    "epoch_in = epochs[epoch_i]\n",
    "sess_par = {\n",
    "    'bird':bird_in, # bird id\n",
    "    'sess':sess_in, # session date\n",
    "    'epoch':epoch_in, # epoch\n",
    "    'ephys_software':ephys_software_in, # recording software, sglx or oe\n",
    "    'sorter':'kilosort4', # spike sorting algorithm\n",
    "    'sort':0} # sort index\n",
    "sort_dir = '/mnt/cube/chronic_ephys/der/{}/{}/{}/{}/{}/{}/'.format(\n",
    "    sess_par['bird'],sess_par['sess'],sess_par['ephys_software'],\n",
    "    sess_par['epoch'],sess_par['sorter'],sess_par['sort'])\n",
    "sess_par,sort_dir"
   ]
  },
  {
   "cell_type": "code",
   "execution_count": 7,
   "metadata": {},
   "outputs": [
    {
     "name": "stdout",
     "output_type": "stream",
     "text": [
      "sorting analyzer..\n",
      "sua_1: 49\n",
      "sua_2: 65\n",
      "sua_3: 65\n",
      "mua_4: 194\n",
      "noise: 9\n",
      "total: 319\n",
      "NumpySorting: 319 units - 1 segments - 30.0kHz\n",
      "SortingAnalyzer: 384 channels - 319 units - 1 segments - binary_folder - sparse - has recording\n",
      "Loaded 14 extensions: correlograms, template_similarity, principal_components, random_spikes, templates, unit_locations, waveforms, template_metrics, isi_histograms, amplitude_scalings, noise_levels, spike_locations, quality_metrics, spike_amplitudes\n"
     ]
    }
   ],
   "source": [
    "sort_path = sort_dir + 'sorter_output/'\n",
    "analyzer_path = sort_dir + 'sorting_analyzer/'\n",
    "waveforms_path = sort_dir + 'waveforms/'\n",
    "if os.path.exists(analyzer_path):\n",
    "    print('sorting analyzer..')\n",
    "    use_analyzer_not_wave = True\n",
    "    metrics_path = analyzer_path + 'extensions/quality_metrics/metrics.csv'\n",
    "    analyzer = si.load_sorting_analyzer(analyzer_path)\n",
    "else:\n",
    "    if os.path.exists(waveforms_path):\n",
    "        print('waveforms..')\n",
    "        use_analyzer_not_wave = False\n",
    "        metrics_path = waveforms_path + 'quality_metrics/metrics.csv'\n",
    "        analyzer = si.load_waveforms(waveforms_path)\n",
    "    else: print('no analyzer or waveforms..')\n",
    "metrics_pd = pd.read_csv(metrics_path)\n",
    "metrics_list = metrics_pd.keys().tolist()\n",
    "for this_metric in metrics_list:\n",
    "    analyzer.sorting.set_property(this_metric,metrics_pd[this_metric].values)\n",
    "isi_vr_label = np.full(analyzer.sorting.get_num_units(),'l')\n",
    "isi_vr_label[np.where((analyzer.sorting.get_property('isi_violations_ratio') > isi_vr_thresh[0]) & \n",
    "                (analyzer.sorting.get_property('isi_violations_ratio') < isi_vr_thresh[1]))[0]] = 'm'\n",
    "isi_vr_label[np.where(analyzer.sorting.get_property('isi_violations_ratio') > isi_vr_thresh[1])[0]] = 'h'  \n",
    "analyzer.sorting.set_property('isi_vr_thresh',isi_vr_label)\n",
    "snr_label = np.full(analyzer.sorting.get_num_units(),'l')\n",
    "snr_label[np.where((analyzer.sorting.get_property('snr') > snr_thresh[0]) & \n",
    "                (analyzer.sorting.get_property('snr') < snr_thresh[1]))[0]] = 'm'\n",
    "snr_label[np.where(analyzer.sorting.get_property('snr') > snr_thresh[1])[0]] = 'h' \n",
    "analyzer.sorting.set_property('snr_thresh',snr_label)\n",
    "quality_labels = np.full(analyzer.sorting.get_num_units(),'_____')\n",
    "quality_labels[np.where(isi_vr_label == 'h')[0]] = 'mua_4'\n",
    "quality_labels[np.where((isi_vr_label == 'l') & (snr_label == 'h'))[0]] = 'sua_1'\n",
    "quality_labels[np.where((isi_vr_label == 'l') & (snr_label == 'm'))[0]] = 'sua_2'\n",
    "quality_labels[np.where((isi_vr_label == 'm') & (snr_label == 'h'))[0]] = 'sua_2'\n",
    "quality_labels[np.where((isi_vr_label == 'm') & (snr_label == 'm'))[0]] = 'sua_3'\n",
    "quality_labels[np.where(snr_label == 'l')[0]] = 'noise'\n",
    "analyzer.sorting.set_property('quality_labels',quality_labels)\n",
    "su.print_unit_counts(quality_labels)\n",
    "print(analyzer.sorting); print(analyzer)"
   ]
  },
  {
   "cell_type": "markdown",
   "metadata": {},
   "source": [
    "# Auto curation"
   ]
  },
  {
   "cell_type": "code",
   "execution_count": 8,
   "metadata": {},
   "outputs": [
    {
     "name": "stdout",
     "output_type": "stream",
     "text": [
      "similarity_correlograms..\n",
      "[]\n",
      "NumpySorting: 319 units - 1 segments - 30.0kHz\n",
      "x_contaminations..\n",
      "[[136, 143]]\n",
      "MergeUnitsSorting: 318 units - 1 segments - 30.0kHz\n",
      "temporal_splits..\n",
      "[]\n",
      "NumpySorting: 319 units - 1 segments - 30.0kHz\n",
      "feature_neighbors..\n",
      "[[1], [33, 2, 34, 5, 15, 16, 20, 21, 30, 31], [3], [4], [22], [26], [39], [40], [41], [44], [45], [48], [51, 54, 73, 59], [56], [61], [65], [66], [68], [69], [71], [72], [75], [76], [80], [82], [84], [88], [100], [101], [104], [109], [131, 136, 143], [137], [200], [202], [203], [208], [216], [217], [226], [232], [233], [256, 261], [293]]\n",
      "MergeUnitsSorting: 304 units - 1 segments - 30.0kHz\n",
      "CPU times: user 5min 7s, sys: 8.66 s, total: 5min 16s\n",
      "Wall time: 4min 32s\n"
     ]
    }
   ],
   "source": [
    "%%time\n",
    "merges_auto_init_all = []\n",
    "merges_auto_all = []\n",
    "sort_auto_all = []\n",
    "\n",
    "presets_all = ['similarity_correlograms','x_contaminations','temporal_splits','feature_neighbors']\n",
    "for this_preset in presets_all:\n",
    "    print(this_preset + '..')\n",
    "    merges_auto_init = si.get_potential_auto_merge(analyzer,preset=this_preset)\n",
    "    merges_auto = su.merge_lists(merges_auto_init)\n",
    "    print(merges_auto)\n",
    "    if len(merges_auto) > 0: sort_auto = si.MergeUnitsSorting(analyzer.sorting,merges_auto)\n",
    "    else: sort_auto = analyzer.sorting\n",
    "    print(sort_auto)\n",
    "    \n",
    "    merges_auto_init_all.append(merges_auto_init)\n",
    "    merges_auto_all.append(merges_auto_all)\n",
    "    sort_auto_all.append(sort_auto)"
   ]
  },
  {
   "cell_type": "markdown",
   "metadata": {},
   "source": [
    "# Manual curation"
   ]
  },
  {
   "cell_type": "code",
   "execution_count": 9,
   "metadata": {
    "scrolled": true
   },
   "outputs": [
    {
     "name": "stdout",
     "output_type": "stream",
     "text": [
      "Computing sha1 of /home/AD/tsmcpher/.kachery-cloud/tmp_chVMxZKl/file.dat\n",
      "https://figurl.org/f?v=npm://@fi-sci/figurl-sortingview@12/dist&d=sha1://8bd38be2b2a07d44872172e04718c9c740300c18\n"
     ]
    }
   ],
   "source": [
    "unit_table_properties = ['quality_labels','KSLabel','isi_violations_ratio','snr','num_spikes']\n",
    "label_choices = ['sua_1','sua_2','sua_3','mua_4','noise']\n",
    "pss = si.plot_sorting_summary(analyzer,curation=True,backend='sortingview',\n",
    "                              unit_table_properties=unit_table_properties,label_choices=label_choices)"
   ]
  },
  {
   "cell_type": "code",
   "execution_count": 10,
   "metadata": {},
   "outputs": [],
   "source": [
    "# sha_uri = 'sha1://eb06f8e626926b4dc905f7561617b2978530b2f7'"
   ]
  },
  {
   "cell_type": "code",
   "execution_count": 11,
   "metadata": {},
   "outputs": [],
   "source": [
    "# %%capture cap\n",
    "# sort_curated = si.apply_sortingview_curation(sorting=analyzer.sorting,uri_or_json=sha_uri,verbose=True)"
   ]
  },
  {
   "cell_type": "code",
   "execution_count": 12,
   "metadata": {},
   "outputs": [],
   "source": [
    "# merge_str_all = cap.stdout\n",
    "# merge_starts = su.str_find('[',merge_str_all)\n",
    "# merge_stops = su.str_find(']',merge_str_all)\n",
    "# merges_curated = [merge_str_all[merge_starts[i]+1:merge_stops[i]].split(',') for i in range(len(merge_starts))]\n",
    "# quality_labels = np.full(sort_curated.get_num_units(),'_____')\n",
    "# for this_label in label_choices:\n",
    "#     quality_labels[np.where(sort_curated.get_property(this_label) == True)[0]] = this_label\n",
    "# sort_curated.set_property('quality_labels',quality_labels)\n",
    "# su.print_unit_counts(quality_labels)"
   ]
  },
  {
   "cell_type": "markdown",
   "metadata": {},
   "source": [
    "# Depth labels"
   ]
  },
  {
   "cell_type": "code",
   "execution_count": 53,
   "metadata": {
    "scrolled": true
   },
   "outputs": [
    {
     "name": "stdout",
     "output_type": "stream",
     "text": [
      "hvc 44\n",
      "ncm 32\n",
      "bad 117\n",
      "bad 126\n"
     ]
    },
    {
     "data": {
      "text/plain": [
       "{'hvc': [[1910, None]],\n",
       " 'ncm': [[840, 1890]],\n",
       " 'bad': [[None, 840], [1890, 1910]],\n",
       " 'depth_labels': array(['bad', 'bad', 'bad', 'bad', 'bad', 'bad', 'bad', 'bad', 'bad',\n",
       "        'bad', 'bad', 'bad', 'bad', 'bad', 'bad', 'bad', 'bad', 'bad',\n",
       "        'bad', 'bad', 'bad', 'bad', 'bad', 'bad', 'bad', 'bad', 'bad',\n",
       "        'bad', 'bad', 'bad', 'bad', 'bad', 'bad', 'bad', 'bad', 'bad',\n",
       "        'bad', 'bad', 'bad', 'bad', 'bad', 'bad', 'bad', 'bad', 'bad',\n",
       "        'bad', 'bad', 'bad', 'bad', 'bad', 'bad', 'bad', 'bad', 'bad',\n",
       "        'bad', 'bad', 'bad', 'bad', 'bad', 'bad', 'bad', 'bad', 'bad',\n",
       "        'bad', 'bad', 'bad', 'bad', 'bad', 'bad', 'bad', 'bad', 'bad',\n",
       "        'bad', 'bad', 'bad', 'bad', 'bad', 'bad', 'bad', 'bad', 'bad',\n",
       "        'bad', 'bad', 'bad', 'bad', 'bad', 'bad', 'bad', 'bad', 'bad',\n",
       "        'bad', 'bad', 'bad', 'bad', 'bad', 'bad', 'bad', 'bad', 'bad',\n",
       "        'bad', 'bad', 'bad', 'bad', 'bad', 'bad', 'bad', 'bad', 'bad',\n",
       "        'bad', 'bad', 'bad', 'bad', 'bad', 'bad', 'bad', 'bad', 'bad',\n",
       "        'ncm', 'ncm', 'bad', 'ncm', 'bad', 'ncm', 'bad', 'ncm', 'bad',\n",
       "        'ncm', 'bad', 'ncm', 'ncm', 'ncm', 'ncm', 'ncm', 'ncm', 'ncm',\n",
       "        'ncm', 'ncm', 'ncm', 'ncm', 'ncm', 'ncm', 'ncm', 'ncm', 'ncm',\n",
       "        'ncm', 'bad', 'ncm', 'bad', 'ncm', 'ncm', 'ncm', 'bad', 'ncm',\n",
       "        'ncm', 'bad', 'bad', 'bad', 'bad', 'bad', 'bad', 'bad', 'bad',\n",
       "        'ncm', 'bad', 'bad', 'bad', 'bad', 'bad', 'bad', 'bad', 'bad',\n",
       "        'bad', 'bad', 'bad', 'bad', 'bad', 'bad', 'bad', 'bad', 'bad',\n",
       "        'bad', 'bad', 'bad', 'bad', 'ncm', 'bad', 'bad', 'bad', 'bad',\n",
       "        'bad', 'bad', 'bad', 'bad', 'bad', 'hvc', 'bad', 'hvc', 'bad',\n",
       "        'bad', 'ncm', 'hvc', 'hvc', 'hvc', 'hvc', 'hvc', 'bad', 'bad',\n",
       "        'hvc', 'hvc', 'hvc', 'bad', 'hvc', 'bad', 'hvc', 'bad', 'bad',\n",
       "        'hvc', 'hvc', 'bad', 'hvc', 'hvc', 'hvc', 'bad', 'bad', 'hvc',\n",
       "        'hvc', 'hvc', 'bad', 'bad', 'hvc', 'bad', 'bad', 'hvc', 'hvc',\n",
       "        'bad', 'hvc', 'hvc', 'bad', 'bad', 'bad', 'hvc', 'bad', 'hvc',\n",
       "        'bad', 'bad', 'bad', 'bad', 'bad', 'bad', 'bad', 'bad', 'bad',\n",
       "        'hvc', 'bad', 'bad', 'bad', 'hvc', 'hvc', 'bad', 'bad', 'bad',\n",
       "        'hvc', 'bad', 'bad', 'bad', 'bad', 'hvc', 'bad', 'bad', 'bad',\n",
       "        'bad', 'hvc', 'bad', 'bad', 'bad', 'bad', 'bad', 'bad', 'bad',\n",
       "        'bad', 'hvc', 'bad', 'hvc', 'hvc', 'hvc', 'bad', 'bad', 'hvc',\n",
       "        'hvc', 'bad', 'hvc', 'hvc', 'bad', 'hvc', 'bad', 'hvc', 'bad',\n",
       "        'bad', 'bad', 'bad', 'bad', 'bad', 'bad', 'bad', 'bad', 'bad',\n",
       "        'bad', 'bad', 'bad', 'bad', 'bad', 'bad', 'bad', 'bad', 'bad',\n",
       "        'bad', 'bad', 'hvc', 'bad'], dtype='<U3')}"
      ]
     },
     "execution_count": 53,
     "metadata": {},
     "output_type": "execute_result"
    }
   ],
   "source": [
    "depth_dict = {'hvc':[[1910,None]],\n",
    "              'ncm':[[840,1890]],\n",
    "              'bad':[[None,840],[1890,1910]]\n",
    "             }\n",
    "unit_locations = list(si.compute_unit_locations(analyzer))  \n",
    "probe_depth = np.vstack(unit_locations)[:,1]\n",
    "depth_labels = np.full(probe_depth.shape,'XXX')\n",
    "labels_is_all = []\n",
    "for this_label in depth_dict.keys():\n",
    "    depth_ranges = depth_dict[this_label]\n",
    "    for this_range in depth_ranges:\n",
    "        lower_bound = this_range[0]; upper_bound = this_range[1]\n",
    "        if lower_bound == None: lower_bound = np.min(probe_depth)\n",
    "        if upper_bound == None: upper_bound = np.max(probe_depth)\n",
    "        label_is = list(np.where((probe_depth >= lower_bound) & (probe_depth <= upper_bound))[0])\n",
    "        labels_is_all.append(label_is)\n",
    "        depth_labels[label_is] = this_label\n",
    "        print(this_label,len(label_is))\n",
    "assert len(sum(labels_is_all,[])) == len(depth_labels)\n",
    "depth_dict['depth_labels'] = depth_labels\n",
    "depth_dict"
   ]
  },
  {
   "cell_type": "markdown",
   "metadata": {},
   "source": [
    "# Save out"
   ]
  },
  {
   "cell_type": "code",
   "execution_count": 63,
   "metadata": {},
   "outputs": [],
   "source": [
    "sort_in = sort_auto_all[0]  # sort_curated sort_auto\n",
    "merges_in = []#merges_auto_all[0] # merges_curated merges_auto"
   ]
  },
  {
   "cell_type": "code",
   "execution_count": 65,
   "metadata": {},
   "outputs": [
    {
     "name": "stdout",
     "output_type": "stream",
     "text": [
      "319 units after curation:\n"
     ]
    }
   ],
   "source": [
    "# get unit IDs\n",
    "unit_ids = sort_in.get_unit_ids()\n",
    "print(f\"{len(unit_ids)} units after curation:\")\n",
    "iui = analyzer.sorting.get_unit_ids() # initial unit IDs\n",
    "utm = [[int(x) for x in m] for m in merges_in] # units to merge\n",
    "nui = np.arange(max(iui)+1, max(iui)+len(utm)+1) # new unit IDs\n",
    "# set merged properties to unit with highest original spike rate\n",
    "orig_unit_ids = [[x] for x in unit_ids]\n",
    "not_max_spikes_is_all = []\n",
    "for i, u in enumerate(utm):\n",
    "    print(f'- Units {u} merged to {nui[i]}')\n",
    "    idx = [np.where(iui == x)[0][0] for x in u]\n",
    "    u_n_spks = analyzer.sorting.get_property('num_spikes')[idx]\n",
    "    max_spikes_i = idx[np.argmax(u_n_spks)]\n",
    "    not_max_spikes_is = [idx[nmi] for nmi in list(np.where(idx != max_spikes_i)[0])]\n",
    "    nui_i = np.where(unit_ids == nui[i])[0][0]\n",
    "    for this_metric in analyzer.sorting.get_property_keys():\n",
    "        sort_in.get_property(this_metric)[nui_i] = analyzer.sorting.get_property(this_metric)[max_spikes_i]\n",
    "    sort_in.get_property('num_spikes')[nui_i] = np.sum(u_n_spks)\n",
    "    not_max_spikes_is_all.append(not_max_spikes_is)\n",
    "if len(not_max_spikes_is_all) > 0:\n",
    "    merged_unit_locations = np.delete(np.array(unit_locations),np.concatenate(not_max_spikes_is_all),axis=0)\n",
    "else:\n",
    "    merged_unit_locations = unit_locations\n",
    "sort_final = sort_in"
   ]
  },
  {
   "cell_type": "code",
   "execution_count": 66,
   "metadata": {
    "scrolled": true
   },
   "outputs": [
    {
     "ename": "NameError",
     "evalue": "name 'probe_abs_loc' is not defined",
     "output_type": "error",
     "traceback": [
      "\u001b[0;31m---------------------------------------------------------------------------\u001b[0m",
      "\u001b[0;31mNameError\u001b[0m                                 Traceback (most recent call last)",
      "Cell \u001b[0;32mIn[66], line 5\u001b[0m\n\u001b[1;32m      3\u001b[0m spk_df[\u001b[38;5;124m'\u001b[39m\u001b[38;5;124munit_locations\u001b[39m\u001b[38;5;124m'\u001b[39m] \u001b[38;5;241m=\u001b[39m \u001b[38;5;28mlist\u001b[39m(merged_unit_locations)\n\u001b[1;32m      4\u001b[0m spk_df[\u001b[38;5;124m'\u001b[39m\u001b[38;5;124mdepth_labels\u001b[39m\u001b[38;5;124m'\u001b[39m] \u001b[38;5;241m=\u001b[39m \u001b[38;5;28mlist\u001b[39m(depth_labels)\n\u001b[0;32m----> 5\u001b[0m spk_df[\u001b[38;5;124m'\u001b[39m\u001b[38;5;124mprobe_location\u001b[39m\u001b[38;5;124m'\u001b[39m] \u001b[38;5;241m=\u001b[39m \u001b[43mspk_df\u001b[49m\u001b[38;5;241;43m.\u001b[39;49m\u001b[43mapply\u001b[49m\u001b[43m(\u001b[49m\u001b[43msu\u001b[49m\u001b[38;5;241;43m.\u001b[39;49m\u001b[43madd_probe_loc\u001b[49m\u001b[43m,\u001b[49m\u001b[43maxis\u001b[49m\u001b[38;5;241;43m=\u001b[39;49m\u001b[38;5;241;43m1\u001b[39;49m\u001b[43m)\u001b[49m\n\u001b[1;32m      6\u001b[0m spk_df[\u001b[38;5;124m'\u001b[39m\u001b[38;5;124mprobe_angle\u001b[39m\u001b[38;5;124m'\u001b[39m] \u001b[38;5;241m=\u001b[39m spk_df\u001b[38;5;241m.\u001b[39mapply(su\u001b[38;5;241m.\u001b[39madd_probe_angle,axis\u001b[38;5;241m=\u001b[39m\u001b[38;5;241m1\u001b[39m)\n\u001b[1;32m      7\u001b[0m \u001b[38;5;28;01mfor\u001b[39;00m prop \u001b[38;5;129;01min\u001b[39;00m sort_final\u001b[38;5;241m.\u001b[39mget_property_keys():\n",
      "File \u001b[0;32m/mnt/cube/tsmcpher/envs/spike_prov_NEWNEW/lib/python3.9/site-packages/pandas/core/frame.py:10374\u001b[0m, in \u001b[0;36mDataFrame.apply\u001b[0;34m(self, func, axis, raw, result_type, args, by_row, engine, engine_kwargs, **kwargs)\u001b[0m\n\u001b[1;32m  10360\u001b[0m \u001b[38;5;28;01mfrom\u001b[39;00m \u001b[38;5;21;01mpandas\u001b[39;00m\u001b[38;5;21;01m.\u001b[39;00m\u001b[38;5;21;01mcore\u001b[39;00m\u001b[38;5;21;01m.\u001b[39;00m\u001b[38;5;21;01mapply\u001b[39;00m \u001b[38;5;28;01mimport\u001b[39;00m frame_apply\n\u001b[1;32m  10362\u001b[0m op \u001b[38;5;241m=\u001b[39m frame_apply(\n\u001b[1;32m  10363\u001b[0m     \u001b[38;5;28mself\u001b[39m,\n\u001b[1;32m  10364\u001b[0m     func\u001b[38;5;241m=\u001b[39mfunc,\n\u001b[0;32m   (...)\u001b[0m\n\u001b[1;32m  10372\u001b[0m     kwargs\u001b[38;5;241m=\u001b[39mkwargs,\n\u001b[1;32m  10373\u001b[0m )\n\u001b[0;32m> 10374\u001b[0m \u001b[38;5;28;01mreturn\u001b[39;00m \u001b[43mop\u001b[49m\u001b[38;5;241;43m.\u001b[39;49m\u001b[43mapply\u001b[49m\u001b[43m(\u001b[49m\u001b[43m)\u001b[49m\u001b[38;5;241m.\u001b[39m__finalize__(\u001b[38;5;28mself\u001b[39m, method\u001b[38;5;241m=\u001b[39m\u001b[38;5;124m\"\u001b[39m\u001b[38;5;124mapply\u001b[39m\u001b[38;5;124m\"\u001b[39m)\n",
      "File \u001b[0;32m/mnt/cube/tsmcpher/envs/spike_prov_NEWNEW/lib/python3.9/site-packages/pandas/core/apply.py:916\u001b[0m, in \u001b[0;36mFrameApply.apply\u001b[0;34m(self)\u001b[0m\n\u001b[1;32m    913\u001b[0m \u001b[38;5;28;01melif\u001b[39;00m \u001b[38;5;28mself\u001b[39m\u001b[38;5;241m.\u001b[39mraw:\n\u001b[1;32m    914\u001b[0m     \u001b[38;5;28;01mreturn\u001b[39;00m \u001b[38;5;28mself\u001b[39m\u001b[38;5;241m.\u001b[39mapply_raw(engine\u001b[38;5;241m=\u001b[39m\u001b[38;5;28mself\u001b[39m\u001b[38;5;241m.\u001b[39mengine, engine_kwargs\u001b[38;5;241m=\u001b[39m\u001b[38;5;28mself\u001b[39m\u001b[38;5;241m.\u001b[39mengine_kwargs)\n\u001b[0;32m--> 916\u001b[0m \u001b[38;5;28;01mreturn\u001b[39;00m \u001b[38;5;28;43mself\u001b[39;49m\u001b[38;5;241;43m.\u001b[39;49m\u001b[43mapply_standard\u001b[49m\u001b[43m(\u001b[49m\u001b[43m)\u001b[49m\n",
      "File \u001b[0;32m/mnt/cube/tsmcpher/envs/spike_prov_NEWNEW/lib/python3.9/site-packages/pandas/core/apply.py:1063\u001b[0m, in \u001b[0;36mFrameApply.apply_standard\u001b[0;34m(self)\u001b[0m\n\u001b[1;32m   1061\u001b[0m \u001b[38;5;28;01mdef\u001b[39;00m \u001b[38;5;21mapply_standard\u001b[39m(\u001b[38;5;28mself\u001b[39m):\n\u001b[1;32m   1062\u001b[0m     \u001b[38;5;28;01mif\u001b[39;00m \u001b[38;5;28mself\u001b[39m\u001b[38;5;241m.\u001b[39mengine \u001b[38;5;241m==\u001b[39m \u001b[38;5;124m\"\u001b[39m\u001b[38;5;124mpython\u001b[39m\u001b[38;5;124m\"\u001b[39m:\n\u001b[0;32m-> 1063\u001b[0m         results, res_index \u001b[38;5;241m=\u001b[39m \u001b[38;5;28;43mself\u001b[39;49m\u001b[38;5;241;43m.\u001b[39;49m\u001b[43mapply_series_generator\u001b[49m\u001b[43m(\u001b[49m\u001b[43m)\u001b[49m\n\u001b[1;32m   1064\u001b[0m     \u001b[38;5;28;01melse\u001b[39;00m:\n\u001b[1;32m   1065\u001b[0m         results, res_index \u001b[38;5;241m=\u001b[39m \u001b[38;5;28mself\u001b[39m\u001b[38;5;241m.\u001b[39mapply_series_numba()\n",
      "File \u001b[0;32m/mnt/cube/tsmcpher/envs/spike_prov_NEWNEW/lib/python3.9/site-packages/pandas/core/apply.py:1081\u001b[0m, in \u001b[0;36mFrameApply.apply_series_generator\u001b[0;34m(self)\u001b[0m\n\u001b[1;32m   1078\u001b[0m \u001b[38;5;28;01mwith\u001b[39;00m option_context(\u001b[38;5;124m\"\u001b[39m\u001b[38;5;124mmode.chained_assignment\u001b[39m\u001b[38;5;124m\"\u001b[39m, \u001b[38;5;28;01mNone\u001b[39;00m):\n\u001b[1;32m   1079\u001b[0m     \u001b[38;5;28;01mfor\u001b[39;00m i, v \u001b[38;5;129;01min\u001b[39;00m \u001b[38;5;28menumerate\u001b[39m(series_gen):\n\u001b[1;32m   1080\u001b[0m         \u001b[38;5;66;03m# ignore SettingWithCopy here in case the user mutates\u001b[39;00m\n\u001b[0;32m-> 1081\u001b[0m         results[i] \u001b[38;5;241m=\u001b[39m \u001b[38;5;28;43mself\u001b[39;49m\u001b[38;5;241;43m.\u001b[39;49m\u001b[43mfunc\u001b[49m\u001b[43m(\u001b[49m\u001b[43mv\u001b[49m\u001b[43m,\u001b[49m\u001b[43m \u001b[49m\u001b[38;5;241;43m*\u001b[39;49m\u001b[38;5;28;43mself\u001b[39;49m\u001b[38;5;241;43m.\u001b[39;49m\u001b[43margs\u001b[49m\u001b[43m,\u001b[49m\u001b[43m \u001b[49m\u001b[38;5;241;43m*\u001b[39;49m\u001b[38;5;241;43m*\u001b[39;49m\u001b[38;5;28;43mself\u001b[39;49m\u001b[38;5;241;43m.\u001b[39;49m\u001b[43mkwargs\u001b[49m\u001b[43m)\u001b[49m\n\u001b[1;32m   1082\u001b[0m         \u001b[38;5;28;01mif\u001b[39;00m \u001b[38;5;28misinstance\u001b[39m(results[i], ABCSeries):\n\u001b[1;32m   1083\u001b[0m             \u001b[38;5;66;03m# If we have a view on v, we need to make a copy because\u001b[39;00m\n\u001b[1;32m   1084\u001b[0m             \u001b[38;5;66;03m#  series_generator will swap out the underlying data\u001b[39;00m\n\u001b[1;32m   1085\u001b[0m             results[i] \u001b[38;5;241m=\u001b[39m results[i]\u001b[38;5;241m.\u001b[39mcopy(deep\u001b[38;5;241m=\u001b[39m\u001b[38;5;28;01mFalse\u001b[39;00m)\n",
      "File \u001b[0;32m/mnt/cube/tsmcpher/code/ephys_tsm/spike_util.py:492\u001b[0m, in \u001b[0;36madd_probe_loc\u001b[0;34m(row)\u001b[0m\n\u001b[1;32m    491\u001b[0m \u001b[38;5;28;01mdef\u001b[39;00m \u001b[38;5;21madd_probe_loc\u001b[39m(row):\n\u001b[0;32m--> 492\u001b[0m     \u001b[38;5;28;01mreturn\u001b[39;00m \u001b[43mprobe_abs_loc\u001b[49m\n",
      "\u001b[0;31mNameError\u001b[0m: name 'probe_abs_loc' is not defined"
     ]
    }
   ],
   "source": [
    "spk_df = pd.DataFrame({'unit': unit_ids})\n",
    "spk_df['spike_train'] = spk_df['unit'].apply(lambda x: sort_final.get_unit_spike_train(unit_id=x, segment_index=0))\n",
    "spk_df['unit_locations'] = list(merged_unit_locations)\n",
    "spk_df['depth_labels'] = list(depth_labels)\n",
    "spk_df['probe_location'] = spk_df.apply(su.add_probe_loc,axis=1)\n",
    "spk_df['probe_angle'] = spk_df.apply(su.add_probe_angle,axis=1)\n",
    "for prop in sort_final.get_property_keys():\n",
    "    spk_df[prop] = sort_final.get_property(prop)\n",
    "spk_df = spk_df.drop(columns=['original_cluster_id'])\n",
    "spk_df['orig_unit'] = orig_unit_ids\n",
    "spk_df.keys()"
   ]
  },
  {
   "cell_type": "code",
   "execution_count": 67,
   "metadata": {
    "scrolled": true
   },
   "outputs": [
    {
     "data": {
      "text/html": [
       "<div>\n",
       "<style scoped>\n",
       "    .dataframe tbody tr th:only-of-type {\n",
       "        vertical-align: middle;\n",
       "    }\n",
       "\n",
       "    .dataframe tbody tr th {\n",
       "        vertical-align: top;\n",
       "    }\n",
       "\n",
       "    .dataframe thead th {\n",
       "        text-align: right;\n",
       "    }\n",
       "</style>\n",
       "<table border=\"1\" class=\"dataframe\">\n",
       "  <thead>\n",
       "    <tr style=\"text-align: right;\">\n",
       "      <th></th>\n",
       "      <th>unit</th>\n",
       "      <th>spike_train</th>\n",
       "      <th>unit_locations</th>\n",
       "      <th>depth_labels</th>\n",
       "    </tr>\n",
       "  </thead>\n",
       "  <tbody>\n",
       "    <tr>\n",
       "      <th>0</th>\n",
       "      <td>0</td>\n",
       "      <td>[123951, 147783, 152969, 153105, 191184, 23773...</td>\n",
       "      <td>[-14.073065567470673, 17.670251844640863, 1.40...</td>\n",
       "      <td>bad</td>\n",
       "    </tr>\n",
       "    <tr>\n",
       "      <th>1</th>\n",
       "      <td>1</td>\n",
       "      <td>[73474, 96036, 138946, 160850, 173590, 266314,...</td>\n",
       "      <td>[-6.960734860035025, 36.56431000266426, 9.0094...</td>\n",
       "      <td>bad</td>\n",
       "    </tr>\n",
       "    <tr>\n",
       "      <th>2</th>\n",
       "      <td>2</td>\n",
       "      <td>[363629, 1322175, 1322249, 2609953, 4171529, 4...</td>\n",
       "      <td>[28.243145302930486, 16.397182659697762, 1.009...</td>\n",
       "      <td>bad</td>\n",
       "    </tr>\n",
       "    <tr>\n",
       "      <th>3</th>\n",
       "      <td>3</td>\n",
       "      <td>[501, 1010, 1484, 1906, 2419, 3113, 3427, 3741...</td>\n",
       "      <td>[3.345220529178426, 32.80625933021123, 1.00000...</td>\n",
       "      <td>bad</td>\n",
       "    </tr>\n",
       "    <tr>\n",
       "      <th>4</th>\n",
       "      <td>4</td>\n",
       "      <td>[3434, 13800, 23463, 32599, 33698, 36838, 3748...</td>\n",
       "      <td>[6.003732926989229, 59.70841970244248, 1.00000...</td>\n",
       "      <td>bad</td>\n",
       "    </tr>\n",
       "    <tr>\n",
       "      <th>...</th>\n",
       "      <td>...</td>\n",
       "      <td>...</td>\n",
       "      <td>...</td>\n",
       "      <td>...</td>\n",
       "    </tr>\n",
       "    <tr>\n",
       "      <th>314</th>\n",
       "      <td>314</td>\n",
       "      <td>[1321901, 1642489, 3872859, 4350387, 5900139, ...</td>\n",
       "      <td>[32.29415469029789, 1903.1954691834296, 2.2189...</td>\n",
       "      <td>bad</td>\n",
       "    </tr>\n",
       "    <tr>\n",
       "      <th>315</th>\n",
       "      <td>315</td>\n",
       "      <td>[2116, 2620, 6116, 10611, 11111, 11118, 11613,...</td>\n",
       "      <td>[28.47801948110492, 1901.4852407894023, 1.0001...</td>\n",
       "      <td>bad</td>\n",
       "    </tr>\n",
       "    <tr>\n",
       "      <th>316</th>\n",
       "      <td>316</td>\n",
       "      <td>[107, 605, 636, 1107, 1608, 3606, 3635, 4134, ...</td>\n",
       "      <td>[28.080712798162818, 1901.98421932352, 1.00004...</td>\n",
       "      <td>bad</td>\n",
       "    </tr>\n",
       "    <tr>\n",
       "      <th>317</th>\n",
       "      <td>317</td>\n",
       "      <td>[345041, 361299, 363166, 793182, 1313623, 1643...</td>\n",
       "      <td>[21.119370966110907, 3828.3214553920816, 1.000...</td>\n",
       "      <td>hvc</td>\n",
       "    </tr>\n",
       "    <tr>\n",
       "      <th>318</th>\n",
       "      <td>318</td>\n",
       "      <td>[793696, 793827, 794608, 1309637, 1310822, 131...</td>\n",
       "      <td>[27.51656260594869, 1900.2085128547862, 3.0726...</td>\n",
       "      <td>bad</td>\n",
       "    </tr>\n",
       "  </tbody>\n",
       "</table>\n",
       "<p>319 rows × 4 columns</p>\n",
       "</div>"
      ],
      "text/plain": [
       "     unit                                        spike_train  \\\n",
       "0       0  [123951, 147783, 152969, 153105, 191184, 23773...   \n",
       "1       1  [73474, 96036, 138946, 160850, 173590, 266314,...   \n",
       "2       2  [363629, 1322175, 1322249, 2609953, 4171529, 4...   \n",
       "3       3  [501, 1010, 1484, 1906, 2419, 3113, 3427, 3741...   \n",
       "4       4  [3434, 13800, 23463, 32599, 33698, 36838, 3748...   \n",
       "..    ...                                                ...   \n",
       "314   314  [1321901, 1642489, 3872859, 4350387, 5900139, ...   \n",
       "315   315  [2116, 2620, 6116, 10611, 11111, 11118, 11613,...   \n",
       "316   316  [107, 605, 636, 1107, 1608, 3606, 3635, 4134, ...   \n",
       "317   317  [345041, 361299, 363166, 793182, 1313623, 1643...   \n",
       "318   318  [793696, 793827, 794608, 1309637, 1310822, 131...   \n",
       "\n",
       "                                        unit_locations depth_labels  \n",
       "0    [-14.073065567470673, 17.670251844640863, 1.40...          bad  \n",
       "1    [-6.960734860035025, 36.56431000266426, 9.0094...          bad  \n",
       "2    [28.243145302930486, 16.397182659697762, 1.009...          bad  \n",
       "3    [3.345220529178426, 32.80625933021123, 1.00000...          bad  \n",
       "4    [6.003732926989229, 59.70841970244248, 1.00000...          bad  \n",
       "..                                                 ...          ...  \n",
       "314  [32.29415469029789, 1903.1954691834296, 2.2189...          bad  \n",
       "315  [28.47801948110492, 1901.4852407894023, 1.0001...          bad  \n",
       "316  [28.080712798162818, 1901.98421932352, 1.00004...          bad  \n",
       "317  [21.119370966110907, 3828.3214553920816, 1.000...          hvc  \n",
       "318  [27.51656260594869, 1900.2085128547862, 3.0726...          bad  \n",
       "\n",
       "[319 rows x 4 columns]"
      ]
     },
     "execution_count": 67,
     "metadata": {},
     "output_type": "execute_result"
    }
   ],
   "source": [
    "spk_df"
   ]
  },
  {
   "cell_type": "code",
   "execution_count": 27,
   "metadata": {},
   "outputs": [],
   "source": [
    "with open(os.path.join(sort_dir,'spk_df.pkl'), 'wb') as handle:\n",
    "    pickle.dump(spk_df,handle)"
   ]
  },
  {
   "cell_type": "code",
   "execution_count": null,
   "metadata": {},
   "outputs": [],
   "source": []
  }
 ],
 "metadata": {
  "kernelspec": {
   "display_name": "spikeproc",
   "language": "python",
   "name": "spikeproc"
  },
  "language_info": {
   "codemirror_mode": {
    "name": "ipython",
    "version": 3
   },
   "file_extension": ".py",
   "mimetype": "text/x-python",
   "name": "python",
   "nbconvert_exporter": "python",
   "pygments_lexer": "ipython3",
   "version": "3.8.16"
  }
 },
 "nbformat": 4,
 "nbformat_minor": 4
}
